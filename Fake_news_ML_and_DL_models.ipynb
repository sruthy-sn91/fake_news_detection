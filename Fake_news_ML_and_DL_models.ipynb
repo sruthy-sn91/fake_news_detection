{
  "cells": [
    {
      "cell_type": "markdown",
      "metadata": {
        "id": "view-in-github",
        "colab_type": "text"
      },
      "source": [
        "<a href=\"https://colab.research.google.com/github/sruthy-sn91/fake_news_detection/blob/main/Fake_news_ML_and_DL_models.ipynb\" target=\"_parent\"><img src=\"https://colab.research.google.com/assets/colab-badge.svg\" alt=\"Open In Colab\"/></a>"
      ]
    },
    {
      "cell_type": "code",
      "execution_count": 1,
      "metadata": {
        "colab": {
          "base_uri": "https://localhost:8080/"
        },
        "id": "hU5Yt3oKcLWD",
        "outputId": "e20a6962-e6d2-47a7-c438-1e3f11010368"
      },
      "outputs": [
        {
          "output_type": "stream",
          "name": "stdout",
          "text": [
            "Mounted at /content/drive/\n"
          ]
        }
      ],
      "source": [
        "from google.colab import drive\n",
        "drive.mount('/content/drive/')"
      ]
    },
    {
      "cell_type": "markdown",
      "metadata": {
        "id": "Q9i_qpxScVjo"
      },
      "source": [
        "# Data Preparation\n",
        "## Load the dataset:\n",
        "\n",
        "#### Import the necessary libraries "
      ]
    },
    {
      "cell_type": "code",
      "execution_count": 2,
      "metadata": {
        "colab": {
          "base_uri": "https://localhost:8080/"
        },
        "id": "_HWRh3qJguls",
        "outputId": "2429dbad-1454-45a9-eedc-897b99936ee9"
      },
      "outputs": [
        {
          "output_type": "stream",
          "name": "stdout",
          "text": [
            "Looking in indexes: https://pypi.org/simple, https://us-python.pkg.dev/colab-wheels/public/simple/\n",
            "Collecting transformers\n",
            "  Downloading transformers-4.29.2-py3-none-any.whl (7.1 MB)\n",
            "\u001b[2K     \u001b[90m━━━━━━━━━━━━━━━━━━━━━━━━━━━━━━━━━━━━━━━━\u001b[0m \u001b[32m7.1/7.1 MB\u001b[0m \u001b[31m33.1 MB/s\u001b[0m eta \u001b[36m0:00:00\u001b[0m\n",
            "\u001b[?25hRequirement already satisfied: filelock in /usr/local/lib/python3.10/dist-packages (from transformers) (3.12.0)\n",
            "Collecting huggingface-hub<1.0,>=0.14.1 (from transformers)\n",
            "  Downloading huggingface_hub-0.15.1-py3-none-any.whl (236 kB)\n",
            "\u001b[2K     \u001b[90m━━━━━━━━━━━━━━━━━━━━━━━━━━━━━━━━━━━━━━\u001b[0m \u001b[32m236.8/236.8 kB\u001b[0m \u001b[31m23.0 MB/s\u001b[0m eta \u001b[36m0:00:00\u001b[0m\n",
            "\u001b[?25hRequirement already satisfied: numpy>=1.17 in /usr/local/lib/python3.10/dist-packages (from transformers) (1.24.3)\n",
            "Requirement already satisfied: packaging>=20.0 in /usr/local/lib/python3.10/dist-packages (from transformers) (23.1)\n",
            "Requirement already satisfied: pyyaml>=5.1 in /usr/local/lib/python3.10/dist-packages (from transformers) (6.0)\n",
            "Requirement already satisfied: regex!=2019.12.17 in /usr/local/lib/python3.10/dist-packages (from transformers) (2022.10.31)\n",
            "Requirement already satisfied: requests in /usr/local/lib/python3.10/dist-packages (from transformers) (2.27.1)\n",
            "Collecting tokenizers!=0.11.3,<0.14,>=0.11.1 (from transformers)\n",
            "  Downloading tokenizers-0.13.3-cp310-cp310-manylinux_2_17_x86_64.manylinux2014_x86_64.whl (7.8 MB)\n",
            "\u001b[2K     \u001b[90m━━━━━━━━━━━━━━━━━━━━━━━━━━━━━━━━━━━━━━━━\u001b[0m \u001b[32m7.8/7.8 MB\u001b[0m \u001b[31m78.4 MB/s\u001b[0m eta \u001b[36m0:00:00\u001b[0m\n",
            "\u001b[?25hRequirement already satisfied: tqdm>=4.27 in /usr/local/lib/python3.10/dist-packages (from transformers) (4.65.0)\n",
            "Requirement already satisfied: fsspec in /usr/local/lib/python3.10/dist-packages (from huggingface-hub<1.0,>=0.14.1->transformers) (2023.4.0)\n",
            "Requirement already satisfied: typing-extensions>=3.7.4.3 in /usr/local/lib/python3.10/dist-packages (from huggingface-hub<1.0,>=0.14.1->transformers) (4.6.3)\n",
            "Requirement already satisfied: urllib3<1.27,>=1.21.1 in /usr/local/lib/python3.10/dist-packages (from requests->transformers) (1.26.15)\n",
            "Requirement already satisfied: certifi>=2017.4.17 in /usr/local/lib/python3.10/dist-packages (from requests->transformers) (2022.12.7)\n",
            "Requirement already satisfied: charset-normalizer~=2.0.0 in /usr/local/lib/python3.10/dist-packages (from requests->transformers) (2.0.12)\n",
            "Requirement already satisfied: idna<4,>=2.5 in /usr/local/lib/python3.10/dist-packages (from requests->transformers) (3.4)\n",
            "Installing collected packages: tokenizers, huggingface-hub, transformers\n",
            "Successfully installed huggingface-hub-0.15.1 tokenizers-0.13.3 transformers-4.29.2\n"
          ]
        }
      ],
      "source": [
        "pip install transformers"
      ]
    },
    {
      "cell_type": "code",
      "source": [
        "!pip install scikeras[tensorflow]"
      ],
      "metadata": {
        "colab": {
          "base_uri": "https://localhost:8080/",
          "height": 1000
        },
        "id": "h-dtZgTqdCdz",
        "outputId": "3eaadbbd-8c95-4e1d-ddde-a0f41f1d8a07"
      },
      "execution_count": 3,
      "outputs": [
        {
          "output_type": "stream",
          "name": "stdout",
          "text": [
            "Looking in indexes: https://pypi.org/simple, https://us-python.pkg.dev/colab-wheels/public/simple/\n",
            "Collecting scikeras[tensorflow]\n",
            "  Downloading scikeras-0.10.0-py3-none-any.whl (27 kB)\n",
            "Requirement already satisfied: packaging>=0.21 in /usr/local/lib/python3.10/dist-packages (from scikeras[tensorflow]) (23.1)\n",
            "Requirement already satisfied: scikit-learn>=1.0.0 in /usr/local/lib/python3.10/dist-packages (from scikeras[tensorflow]) (1.2.2)\n",
            "Requirement already satisfied: tensorflow>=2.11.0 in /usr/local/lib/python3.10/dist-packages (from scikeras[tensorflow]) (2.12.0)\n",
            "Requirement already satisfied: numpy>=1.17.3 in /usr/local/lib/python3.10/dist-packages (from scikit-learn>=1.0.0->scikeras[tensorflow]) (1.24.3)\n",
            "Requirement already satisfied: scipy>=1.3.2 in /usr/local/lib/python3.10/dist-packages (from scikit-learn>=1.0.0->scikeras[tensorflow]) (1.10.1)\n",
            "Requirement already satisfied: joblib>=1.1.1 in /usr/local/lib/python3.10/dist-packages (from scikit-learn>=1.0.0->scikeras[tensorflow]) (1.2.0)\n",
            "Requirement already satisfied: threadpoolctl>=2.0.0 in /usr/local/lib/python3.10/dist-packages (from scikit-learn>=1.0.0->scikeras[tensorflow]) (3.1.0)\n",
            "Requirement already satisfied: absl-py>=1.0.0 in /usr/local/lib/python3.10/dist-packages (from tensorflow>=2.11.0->scikeras[tensorflow]) (1.4.0)\n",
            "Requirement already satisfied: astunparse>=1.6.0 in /usr/local/lib/python3.10/dist-packages (from tensorflow>=2.11.0->scikeras[tensorflow]) (1.6.3)\n",
            "Requirement already satisfied: flatbuffers>=2.0 in /usr/local/lib/python3.10/dist-packages (from tensorflow>=2.11.0->scikeras[tensorflow]) (23.3.3)\n",
            "Requirement already satisfied: gast<=0.4.0,>=0.2.1 in /usr/local/lib/python3.10/dist-packages (from tensorflow>=2.11.0->scikeras[tensorflow]) (0.4.0)\n",
            "Requirement already satisfied: google-pasta>=0.1.1 in /usr/local/lib/python3.10/dist-packages (from tensorflow>=2.11.0->scikeras[tensorflow]) (0.2.0)\n",
            "Requirement already satisfied: grpcio<2.0,>=1.24.3 in /usr/local/lib/python3.10/dist-packages (from tensorflow>=2.11.0->scikeras[tensorflow]) (1.54.0)\n",
            "Requirement already satisfied: h5py>=2.9.0 in /usr/local/lib/python3.10/dist-packages (from tensorflow>=2.11.0->scikeras[tensorflow]) (3.8.0)\n",
            "Requirement already satisfied: jax>=0.3.15 in /usr/local/lib/python3.10/dist-packages (from tensorflow>=2.11.0->scikeras[tensorflow]) (0.3.25)\n",
            "Requirement already satisfied: keras<2.13,>=2.12.0 in /usr/local/lib/python3.10/dist-packages (from tensorflow>=2.11.0->scikeras[tensorflow]) (2.12.0)\n",
            "Requirement already satisfied: libclang>=13.0.0 in /usr/local/lib/python3.10/dist-packages (from tensorflow>=2.11.0->scikeras[tensorflow]) (16.0.0)\n",
            "Collecting numpy>=1.17.3 (from scikit-learn>=1.0.0->scikeras[tensorflow])\n",
            "  Downloading numpy-1.23.5-cp310-cp310-manylinux_2_17_x86_64.manylinux2014_x86_64.whl (17.1 MB)\n",
            "\u001b[2K     \u001b[90m━━━━━━━━━━━━━━━━━━━━━━━━━━━━━━━━━━━━━━━━\u001b[0m \u001b[32m17.1/17.1 MB\u001b[0m \u001b[31m51.7 MB/s\u001b[0m eta \u001b[36m0:00:00\u001b[0m\n",
            "\u001b[?25hRequirement already satisfied: opt-einsum>=2.3.2 in /usr/local/lib/python3.10/dist-packages (from tensorflow>=2.11.0->scikeras[tensorflow]) (3.3.0)\n",
            "Requirement already satisfied: protobuf!=4.21.0,!=4.21.1,!=4.21.2,!=4.21.3,!=4.21.4,!=4.21.5,<5.0.0dev,>=3.20.3 in /usr/local/lib/python3.10/dist-packages (from tensorflow>=2.11.0->scikeras[tensorflow]) (3.20.3)\n",
            "Requirement already satisfied: setuptools in /usr/local/lib/python3.10/dist-packages (from tensorflow>=2.11.0->scikeras[tensorflow]) (67.7.2)\n",
            "Requirement already satisfied: six>=1.12.0 in /usr/local/lib/python3.10/dist-packages (from tensorflow>=2.11.0->scikeras[tensorflow]) (1.16.0)\n",
            "Requirement already satisfied: tensorboard<2.13,>=2.12 in /usr/local/lib/python3.10/dist-packages (from tensorflow>=2.11.0->scikeras[tensorflow]) (2.12.2)\n",
            "Requirement already satisfied: tensorflow-estimator<2.13,>=2.12.0 in /usr/local/lib/python3.10/dist-packages (from tensorflow>=2.11.0->scikeras[tensorflow]) (2.12.0)\n",
            "Requirement already satisfied: termcolor>=1.1.0 in /usr/local/lib/python3.10/dist-packages (from tensorflow>=2.11.0->scikeras[tensorflow]) (2.3.0)\n",
            "Requirement already satisfied: typing-extensions>=3.6.6 in /usr/local/lib/python3.10/dist-packages (from tensorflow>=2.11.0->scikeras[tensorflow]) (4.6.3)\n",
            "Requirement already satisfied: wrapt<1.15,>=1.11.0 in /usr/local/lib/python3.10/dist-packages (from tensorflow>=2.11.0->scikeras[tensorflow]) (1.14.1)\n",
            "Requirement already satisfied: tensorflow-io-gcs-filesystem>=0.23.1 in /usr/local/lib/python3.10/dist-packages (from tensorflow>=2.11.0->scikeras[tensorflow]) (0.32.0)\n",
            "Requirement already satisfied: wheel<1.0,>=0.23.0 in /usr/local/lib/python3.10/dist-packages (from astunparse>=1.6.0->tensorflow>=2.11.0->scikeras[tensorflow]) (0.40.0)\n",
            "Requirement already satisfied: google-auth<3,>=1.6.3 in /usr/local/lib/python3.10/dist-packages (from tensorboard<2.13,>=2.12->tensorflow>=2.11.0->scikeras[tensorflow]) (2.17.3)\n",
            "Requirement already satisfied: google-auth-oauthlib<1.1,>=0.5 in /usr/local/lib/python3.10/dist-packages (from tensorboard<2.13,>=2.12->tensorflow>=2.11.0->scikeras[tensorflow]) (1.0.0)\n",
            "Requirement already satisfied: markdown>=2.6.8 in /usr/local/lib/python3.10/dist-packages (from tensorboard<2.13,>=2.12->tensorflow>=2.11.0->scikeras[tensorflow]) (3.4.3)\n",
            "Requirement already satisfied: requests<3,>=2.21.0 in /usr/local/lib/python3.10/dist-packages (from tensorboard<2.13,>=2.12->tensorflow>=2.11.0->scikeras[tensorflow]) (2.27.1)\n",
            "Requirement already satisfied: tensorboard-data-server<0.8.0,>=0.7.0 in /usr/local/lib/python3.10/dist-packages (from tensorboard<2.13,>=2.12->tensorflow>=2.11.0->scikeras[tensorflow]) (0.7.0)\n",
            "Requirement already satisfied: tensorboard-plugin-wit>=1.6.0 in /usr/local/lib/python3.10/dist-packages (from tensorboard<2.13,>=2.12->tensorflow>=2.11.0->scikeras[tensorflow]) (1.8.1)\n",
            "Requirement already satisfied: werkzeug>=1.0.1 in /usr/local/lib/python3.10/dist-packages (from tensorboard<2.13,>=2.12->tensorflow>=2.11.0->scikeras[tensorflow]) (2.3.0)\n",
            "Requirement already satisfied: cachetools<6.0,>=2.0.0 in /usr/local/lib/python3.10/dist-packages (from google-auth<3,>=1.6.3->tensorboard<2.13,>=2.12->tensorflow>=2.11.0->scikeras[tensorflow]) (5.3.0)\n",
            "Requirement already satisfied: pyasn1-modules>=0.2.1 in /usr/local/lib/python3.10/dist-packages (from google-auth<3,>=1.6.3->tensorboard<2.13,>=2.12->tensorflow>=2.11.0->scikeras[tensorflow]) (0.3.0)\n",
            "Requirement already satisfied: rsa<5,>=3.1.4 in /usr/local/lib/python3.10/dist-packages (from google-auth<3,>=1.6.3->tensorboard<2.13,>=2.12->tensorflow>=2.11.0->scikeras[tensorflow]) (4.9)\n",
            "Requirement already satisfied: requests-oauthlib>=0.7.0 in /usr/local/lib/python3.10/dist-packages (from google-auth-oauthlib<1.1,>=0.5->tensorboard<2.13,>=2.12->tensorflow>=2.11.0->scikeras[tensorflow]) (1.3.1)\n",
            "Requirement already satisfied: urllib3<1.27,>=1.21.1 in /usr/local/lib/python3.10/dist-packages (from requests<3,>=2.21.0->tensorboard<2.13,>=2.12->tensorflow>=2.11.0->scikeras[tensorflow]) (1.26.15)\n",
            "Requirement already satisfied: certifi>=2017.4.17 in /usr/local/lib/python3.10/dist-packages (from requests<3,>=2.21.0->tensorboard<2.13,>=2.12->tensorflow>=2.11.0->scikeras[tensorflow]) (2022.12.7)\n",
            "Requirement already satisfied: charset-normalizer~=2.0.0 in /usr/local/lib/python3.10/dist-packages (from requests<3,>=2.21.0->tensorboard<2.13,>=2.12->tensorflow>=2.11.0->scikeras[tensorflow]) (2.0.12)\n",
            "Requirement already satisfied: idna<4,>=2.5 in /usr/local/lib/python3.10/dist-packages (from requests<3,>=2.21.0->tensorboard<2.13,>=2.12->tensorflow>=2.11.0->scikeras[tensorflow]) (3.4)\n",
            "Requirement already satisfied: MarkupSafe>=2.1.1 in /usr/local/lib/python3.10/dist-packages (from werkzeug>=1.0.1->tensorboard<2.13,>=2.12->tensorflow>=2.11.0->scikeras[tensorflow]) (2.1.2)\n",
            "Requirement already satisfied: pyasn1<0.6.0,>=0.4.6 in /usr/local/lib/python3.10/dist-packages (from pyasn1-modules>=0.2.1->google-auth<3,>=1.6.3->tensorboard<2.13,>=2.12->tensorflow>=2.11.0->scikeras[tensorflow]) (0.5.0)\n",
            "Requirement already satisfied: oauthlib>=3.0.0 in /usr/local/lib/python3.10/dist-packages (from requests-oauthlib>=0.7.0->google-auth-oauthlib<1.1,>=0.5->tensorboard<2.13,>=2.12->tensorflow>=2.11.0->scikeras[tensorflow]) (3.2.2)\n",
            "Installing collected packages: numpy, scikeras\n",
            "  Attempting uninstall: numpy\n",
            "    Found existing installation: numpy 1.24.3\n",
            "    Uninstalling numpy-1.24.3:\n",
            "      Successfully uninstalled numpy-1.24.3\n",
            "\u001b[31mERROR: pip's dependency resolver does not currently take into account all the packages that are installed. This behaviour is the source of the following dependency conflicts.\n",
            "chex 0.1.7 requires jax>=0.4.6, but you have jax 0.3.25 which is incompatible.\n",
            "flax 0.6.9 requires jax>=0.4.2, but you have jax 0.3.25 which is incompatible.\n",
            "orbax-checkpoint 0.2.1 requires jax>=0.4.8, but you have jax 0.3.25 which is incompatible.\u001b[0m\u001b[31m\n",
            "\u001b[0mSuccessfully installed numpy-1.23.5 scikeras-0.10.0\n"
          ]
        },
        {
          "output_type": "display_data",
          "data": {
            "application/vnd.colab-display-data+json": {
              "pip_warning": {
                "packages": [
                  "numpy"
                ]
              }
            }
          },
          "metadata": {}
        }
      ]
    },
    {
      "cell_type": "code",
      "execution_count": 4,
      "metadata": {
        "colab": {
          "base_uri": "https://localhost:8080/"
        },
        "id": "Rv3P5DwUcRHD",
        "outputId": "2e5f7837-780a-4b50-9ac6-e6fe2a8a3d0d"
      },
      "outputs": [
        {
          "output_type": "stream",
          "name": "stderr",
          "text": [
            "[nltk_data] Downloading package punkt to /root/nltk_data...\n",
            "[nltk_data]   Unzipping tokenizers/punkt.zip.\n",
            "[nltk_data] Downloading package stopwords to /root/nltk_data...\n",
            "[nltk_data]   Unzipping corpora/stopwords.zip.\n"
          ]
        },
        {
          "output_type": "execute_result",
          "data": {
            "text/plain": [
              "True"
            ]
          },
          "metadata": {},
          "execution_count": 4
        }
      ],
      "source": [
        "# Import libraries\n",
        "\n",
        "import pandas as pd\n",
        "import numpy as np\n",
        "import re\n",
        "import nltk\n",
        "import pandas as pd\n",
        "import tensorflow as tf\n",
        "from tensorflow import keras\n",
        "import seaborn as sns\n",
        "import matplotlib.pyplot as plt\n",
        "from tensorflow.keras.preprocessing.text import Tokenizer\n",
        "from tensorflow.keras.preprocessing.sequence import pad_sequences\n",
        "from tensorflow.keras.layers import Embedding, LSTM, Dense, Dropout, Bidirectional, Input\n",
        "from tensorflow.keras.models import Model\n",
        "from nltk.corpus import stopwords\n",
        "from sklearn.feature_extraction.text import TfidfVectorizer, CountVectorizer, HashingVectorizer\n",
        "from sklearn.model_selection import train_test_split, GridSearchCV\n",
        "from sklearn.linear_model import LogisticRegression\n",
        "from sklearn.naive_bayes import MultinomialNB\n",
        "from sklearn.tree import DecisionTreeClassifier\n",
        "from sklearn.ensemble import RandomForestClassifier\n",
        "from sklearn.ensemble import GradientBoostingClassifier\n",
        "from sklearn.linear_model import PassiveAggressiveClassifier\n",
        "from sklearn.metrics import accuracy_score, precision_score, recall_score, f1_score, confusion_matrix, classification_report\n",
        "from keras.preprocessing.text import Tokenizer\n",
        "from keras.utils import pad_sequences\n",
        "from keras.models import Sequential\n",
        "from keras.layers import Embedding, LSTM, Dense, Dropout\n",
        "from sklearn.preprocessing import LabelEncoder\n",
        "from keras.wrappers.scikit_learn import KerasClassifier\n",
        "from keras.layers import SimpleRNN\n",
        "\n",
        "nltk.download('punkt')\n",
        "nltk.download('stopwords')\n",
        "\n"
      ]
    },
    {
      "cell_type": "markdown",
      "metadata": {
        "id": "81Ts0XtZg-SK"
      },
      "source": [
        "#### Read the CSV file"
      ]
    },
    {
      "cell_type": "code",
      "execution_count": 5,
      "metadata": {
        "colab": {
          "base_uri": "https://localhost:8080/"
        },
        "id": "1wLm2s6XhIL5",
        "outputId": "3104e24e-a493-41bd-ddba-0bb73cb7c1f2"
      },
      "outputs": [
        {
          "output_type": "stream",
          "name": "stdout",
          "text": [
            "/content/drive/My Drive/Thesis\n"
          ]
        }
      ],
      "source": [
        "%cd /content/drive/My Drive/Thesis"
      ]
    },
    {
      "cell_type": "code",
      "execution_count": 6,
      "metadata": {
        "colab": {
          "base_uri": "https://localhost:8080/",
          "height": 423
        },
        "id": "4_ow7cb7eB_T",
        "outputId": "73327b83-f2cc-4a1d-a262-b06c9864a9e3"
      },
      "outputs": [
        {
          "output_type": "execute_result",
          "data": {
            "text/plain": [
              "         id                                              title  \\\n",
              "0         0  As U.S. budget fight looms, Republicans flip t...   \n",
              "1         1  U.S. military to accept transgender recruits o...   \n",
              "2         2  Senior U.S. Republican senator: 'Let Mr. Muell...   \n",
              "3         3  FBI Russia probe helped by Australian diplomat...   \n",
              "4         4  Trump wants Postal Service to charge 'much mor...   \n",
              "...     ...                                                ...   \n",
              "72027  4490  State Department says it can't find emails fro...   \n",
              "72028  8062  The ‘P’ in PBS Should Stand for ‘Plutocratic’ ...   \n",
              "72029  8622  Anti-Trump Protesters Are Tools of the Oligarc...   \n",
              "72030  4021  In Ethiopia, Obama seeks progress on peace, se...   \n",
              "72031  4330  Jeb Bush Is Suddenly Attacking Trump. Here's W...   \n",
              "\n",
              "                                                    text  label  \n",
              "0      WASHINGTON (Reuters) - The head of a conservat...      1  \n",
              "1      WASHINGTON (Reuters) - Transgender people will...      1  \n",
              "2      WASHINGTON (Reuters) - The special counsel inv...      1  \n",
              "3      WASHINGTON (Reuters) - Trump campaign adviser ...      1  \n",
              "4      SEATTLE/WASHINGTON (Reuters) - President Donal...      1  \n",
              "...                                                  ...    ...  \n",
              "72027  The State Department told the Republican Natio...      1  \n",
              "72028  The ‘P’ in PBS Should Stand for ‘Plutocratic’ ...      0  \n",
              "72029   Anti-Trump Protesters Are Tools of the Oligar...      0  \n",
              "72030  ADDIS ABABA, Ethiopia —President Obama convene...      1  \n",
              "72031  Jeb Bush Is Suddenly Attacking Trump. Here's W...      1  \n",
              "\n",
              "[72032 rows x 4 columns]"
            ],
            "text/html": [
              "\n",
              "  <div id=\"df-fd50de5e-400b-4355-8026-253139172e05\">\n",
              "    <div class=\"colab-df-container\">\n",
              "      <div>\n",
              "<style scoped>\n",
              "    .dataframe tbody tr th:only-of-type {\n",
              "        vertical-align: middle;\n",
              "    }\n",
              "\n",
              "    .dataframe tbody tr th {\n",
              "        vertical-align: top;\n",
              "    }\n",
              "\n",
              "    .dataframe thead th {\n",
              "        text-align: right;\n",
              "    }\n",
              "</style>\n",
              "<table border=\"1\" class=\"dataframe\">\n",
              "  <thead>\n",
              "    <tr style=\"text-align: right;\">\n",
              "      <th></th>\n",
              "      <th>id</th>\n",
              "      <th>title</th>\n",
              "      <th>text</th>\n",
              "      <th>label</th>\n",
              "    </tr>\n",
              "  </thead>\n",
              "  <tbody>\n",
              "    <tr>\n",
              "      <th>0</th>\n",
              "      <td>0</td>\n",
              "      <td>As U.S. budget fight looms, Republicans flip t...</td>\n",
              "      <td>WASHINGTON (Reuters) - The head of a conservat...</td>\n",
              "      <td>1</td>\n",
              "    </tr>\n",
              "    <tr>\n",
              "      <th>1</th>\n",
              "      <td>1</td>\n",
              "      <td>U.S. military to accept transgender recruits o...</td>\n",
              "      <td>WASHINGTON (Reuters) - Transgender people will...</td>\n",
              "      <td>1</td>\n",
              "    </tr>\n",
              "    <tr>\n",
              "      <th>2</th>\n",
              "      <td>2</td>\n",
              "      <td>Senior U.S. Republican senator: 'Let Mr. Muell...</td>\n",
              "      <td>WASHINGTON (Reuters) - The special counsel inv...</td>\n",
              "      <td>1</td>\n",
              "    </tr>\n",
              "    <tr>\n",
              "      <th>3</th>\n",
              "      <td>3</td>\n",
              "      <td>FBI Russia probe helped by Australian diplomat...</td>\n",
              "      <td>WASHINGTON (Reuters) - Trump campaign adviser ...</td>\n",
              "      <td>1</td>\n",
              "    </tr>\n",
              "    <tr>\n",
              "      <th>4</th>\n",
              "      <td>4</td>\n",
              "      <td>Trump wants Postal Service to charge 'much mor...</td>\n",
              "      <td>SEATTLE/WASHINGTON (Reuters) - President Donal...</td>\n",
              "      <td>1</td>\n",
              "    </tr>\n",
              "    <tr>\n",
              "      <th>...</th>\n",
              "      <td>...</td>\n",
              "      <td>...</td>\n",
              "      <td>...</td>\n",
              "      <td>...</td>\n",
              "    </tr>\n",
              "    <tr>\n",
              "      <th>72027</th>\n",
              "      <td>4490</td>\n",
              "      <td>State Department says it can't find emails fro...</td>\n",
              "      <td>The State Department told the Republican Natio...</td>\n",
              "      <td>1</td>\n",
              "    </tr>\n",
              "    <tr>\n",
              "      <th>72028</th>\n",
              "      <td>8062</td>\n",
              "      <td>The ‘P’ in PBS Should Stand for ‘Plutocratic’ ...</td>\n",
              "      <td>The ‘P’ in PBS Should Stand for ‘Plutocratic’ ...</td>\n",
              "      <td>0</td>\n",
              "    </tr>\n",
              "    <tr>\n",
              "      <th>72029</th>\n",
              "      <td>8622</td>\n",
              "      <td>Anti-Trump Protesters Are Tools of the Oligarc...</td>\n",
              "      <td>Anti-Trump Protesters Are Tools of the Oligar...</td>\n",
              "      <td>0</td>\n",
              "    </tr>\n",
              "    <tr>\n",
              "      <th>72030</th>\n",
              "      <td>4021</td>\n",
              "      <td>In Ethiopia, Obama seeks progress on peace, se...</td>\n",
              "      <td>ADDIS ABABA, Ethiopia —President Obama convene...</td>\n",
              "      <td>1</td>\n",
              "    </tr>\n",
              "    <tr>\n",
              "      <th>72031</th>\n",
              "      <td>4330</td>\n",
              "      <td>Jeb Bush Is Suddenly Attacking Trump. Here's W...</td>\n",
              "      <td>Jeb Bush Is Suddenly Attacking Trump. Here's W...</td>\n",
              "      <td>1</td>\n",
              "    </tr>\n",
              "  </tbody>\n",
              "</table>\n",
              "<p>72032 rows × 4 columns</p>\n",
              "</div>\n",
              "      <button class=\"colab-df-convert\" onclick=\"convertToInteractive('df-fd50de5e-400b-4355-8026-253139172e05')\"\n",
              "              title=\"Convert this dataframe to an interactive table.\"\n",
              "              style=\"display:none;\">\n",
              "        \n",
              "  <svg xmlns=\"http://www.w3.org/2000/svg\" height=\"24px\"viewBox=\"0 0 24 24\"\n",
              "       width=\"24px\">\n",
              "    <path d=\"M0 0h24v24H0V0z\" fill=\"none\"/>\n",
              "    <path d=\"M18.56 5.44l.94 2.06.94-2.06 2.06-.94-2.06-.94-.94-2.06-.94 2.06-2.06.94zm-11 1L8.5 8.5l.94-2.06 2.06-.94-2.06-.94L8.5 2.5l-.94 2.06-2.06.94zm10 10l.94 2.06.94-2.06 2.06-.94-2.06-.94-.94-2.06-.94 2.06-2.06.94z\"/><path d=\"M17.41 7.96l-1.37-1.37c-.4-.4-.92-.59-1.43-.59-.52 0-1.04.2-1.43.59L10.3 9.45l-7.72 7.72c-.78.78-.78 2.05 0 2.83L4 21.41c.39.39.9.59 1.41.59.51 0 1.02-.2 1.41-.59l7.78-7.78 2.81-2.81c.8-.78.8-2.07 0-2.86zM5.41 20L4 18.59l7.72-7.72 1.47 1.35L5.41 20z\"/>\n",
              "  </svg>\n",
              "      </button>\n",
              "      \n",
              "  <style>\n",
              "    .colab-df-container {\n",
              "      display:flex;\n",
              "      flex-wrap:wrap;\n",
              "      gap: 12px;\n",
              "    }\n",
              "\n",
              "    .colab-df-convert {\n",
              "      background-color: #E8F0FE;\n",
              "      border: none;\n",
              "      border-radius: 50%;\n",
              "      cursor: pointer;\n",
              "      display: none;\n",
              "      fill: #1967D2;\n",
              "      height: 32px;\n",
              "      padding: 0 0 0 0;\n",
              "      width: 32px;\n",
              "    }\n",
              "\n",
              "    .colab-df-convert:hover {\n",
              "      background-color: #E2EBFA;\n",
              "      box-shadow: 0px 1px 2px rgba(60, 64, 67, 0.3), 0px 1px 3px 1px rgba(60, 64, 67, 0.15);\n",
              "      fill: #174EA6;\n",
              "    }\n",
              "\n",
              "    [theme=dark] .colab-df-convert {\n",
              "      background-color: #3B4455;\n",
              "      fill: #D2E3FC;\n",
              "    }\n",
              "\n",
              "    [theme=dark] .colab-df-convert:hover {\n",
              "      background-color: #434B5C;\n",
              "      box-shadow: 0px 1px 3px 1px rgba(0, 0, 0, 0.15);\n",
              "      filter: drop-shadow(0px 1px 2px rgba(0, 0, 0, 0.3));\n",
              "      fill: #FFFFFF;\n",
              "    }\n",
              "  </style>\n",
              "\n",
              "      <script>\n",
              "        const buttonEl =\n",
              "          document.querySelector('#df-fd50de5e-400b-4355-8026-253139172e05 button.colab-df-convert');\n",
              "        buttonEl.style.display =\n",
              "          google.colab.kernel.accessAllowed ? 'block' : 'none';\n",
              "\n",
              "        async function convertToInteractive(key) {\n",
              "          const element = document.querySelector('#df-fd50de5e-400b-4355-8026-253139172e05');\n",
              "          const dataTable =\n",
              "            await google.colab.kernel.invokeFunction('convertToInteractive',\n",
              "                                                     [key], {});\n",
              "          if (!dataTable) return;\n",
              "\n",
              "          const docLinkHtml = 'Like what you see? Visit the ' +\n",
              "            '<a target=\"_blank\" href=https://colab.research.google.com/notebooks/data_table.ipynb>data table notebook</a>'\n",
              "            + ' to learn more about interactive tables.';\n",
              "          element.innerHTML = '';\n",
              "          dataTable['output_type'] = 'display_data';\n",
              "          await google.colab.output.renderOutput(dataTable, element);\n",
              "          const docLink = document.createElement('div');\n",
              "          docLink.innerHTML = docLinkHtml;\n",
              "          element.appendChild(docLink);\n",
              "        }\n",
              "      </script>\n",
              "    </div>\n",
              "  </div>\n",
              "  "
            ]
          },
          "metadata": {},
          "execution_count": 6
        }
      ],
      "source": [
        "# Load the dataset\n",
        "df = pd.read_csv('train_data.csv')\n",
        "df"
      ]
    },
    {
      "cell_type": "markdown",
      "source": [
        "There are 4 columns in the dataset, of which only the title and the label is used for this study. '0' in 'label' denotes 'Fake News' and '1' denotes 'True news'. Limiting the scope to 'title'(headlines) only, because of the time and computational constraints primarily."
      ],
      "metadata": {
        "id": "NLVWB-7AgRy9"
      }
    },
    {
      "cell_type": "code",
      "execution_count": 7,
      "metadata": {
        "id": "q4IdSkCurH0o"
      },
      "outputs": [],
      "source": [
        "# Dropping the columns 'id' and 'text'\n",
        "df.drop(columns=['id','text'],inplace = True)"
      ]
    },
    {
      "cell_type": "code",
      "execution_count": 8,
      "metadata": {
        "colab": {
          "base_uri": "https://localhost:8080/",
          "height": 423
        },
        "id": "cAPLMt1trVZO",
        "outputId": "ee25a37c-94cd-4d3c-f65b-d4fef5a26820"
      },
      "outputs": [
        {
          "output_type": "execute_result",
          "data": {
            "text/plain": [
              "                                                   title  label\n",
              "0      As U.S. budget fight looms, Republicans flip t...      1\n",
              "1      U.S. military to accept transgender recruits o...      1\n",
              "2      Senior U.S. Republican senator: 'Let Mr. Muell...      1\n",
              "3      FBI Russia probe helped by Australian diplomat...      1\n",
              "4      Trump wants Postal Service to charge 'much mor...      1\n",
              "...                                                  ...    ...\n",
              "72027  State Department says it can't find emails fro...      1\n",
              "72028  The ‘P’ in PBS Should Stand for ‘Plutocratic’ ...      0\n",
              "72029  Anti-Trump Protesters Are Tools of the Oligarc...      0\n",
              "72030  In Ethiopia, Obama seeks progress on peace, se...      1\n",
              "72031  Jeb Bush Is Suddenly Attacking Trump. Here's W...      1\n",
              "\n",
              "[72032 rows x 2 columns]"
            ],
            "text/html": [
              "\n",
              "  <div id=\"df-edff2f86-b6dd-4cc4-8911-84c5fd469ce9\">\n",
              "    <div class=\"colab-df-container\">\n",
              "      <div>\n",
              "<style scoped>\n",
              "    .dataframe tbody tr th:only-of-type {\n",
              "        vertical-align: middle;\n",
              "    }\n",
              "\n",
              "    .dataframe tbody tr th {\n",
              "        vertical-align: top;\n",
              "    }\n",
              "\n",
              "    .dataframe thead th {\n",
              "        text-align: right;\n",
              "    }\n",
              "</style>\n",
              "<table border=\"1\" class=\"dataframe\">\n",
              "  <thead>\n",
              "    <tr style=\"text-align: right;\">\n",
              "      <th></th>\n",
              "      <th>title</th>\n",
              "      <th>label</th>\n",
              "    </tr>\n",
              "  </thead>\n",
              "  <tbody>\n",
              "    <tr>\n",
              "      <th>0</th>\n",
              "      <td>As U.S. budget fight looms, Republicans flip t...</td>\n",
              "      <td>1</td>\n",
              "    </tr>\n",
              "    <tr>\n",
              "      <th>1</th>\n",
              "      <td>U.S. military to accept transgender recruits o...</td>\n",
              "      <td>1</td>\n",
              "    </tr>\n",
              "    <tr>\n",
              "      <th>2</th>\n",
              "      <td>Senior U.S. Republican senator: 'Let Mr. Muell...</td>\n",
              "      <td>1</td>\n",
              "    </tr>\n",
              "    <tr>\n",
              "      <th>3</th>\n",
              "      <td>FBI Russia probe helped by Australian diplomat...</td>\n",
              "      <td>1</td>\n",
              "    </tr>\n",
              "    <tr>\n",
              "      <th>4</th>\n",
              "      <td>Trump wants Postal Service to charge 'much mor...</td>\n",
              "      <td>1</td>\n",
              "    </tr>\n",
              "    <tr>\n",
              "      <th>...</th>\n",
              "      <td>...</td>\n",
              "      <td>...</td>\n",
              "    </tr>\n",
              "    <tr>\n",
              "      <th>72027</th>\n",
              "      <td>State Department says it can't find emails fro...</td>\n",
              "      <td>1</td>\n",
              "    </tr>\n",
              "    <tr>\n",
              "      <th>72028</th>\n",
              "      <td>The ‘P’ in PBS Should Stand for ‘Plutocratic’ ...</td>\n",
              "      <td>0</td>\n",
              "    </tr>\n",
              "    <tr>\n",
              "      <th>72029</th>\n",
              "      <td>Anti-Trump Protesters Are Tools of the Oligarc...</td>\n",
              "      <td>0</td>\n",
              "    </tr>\n",
              "    <tr>\n",
              "      <th>72030</th>\n",
              "      <td>In Ethiopia, Obama seeks progress on peace, se...</td>\n",
              "      <td>1</td>\n",
              "    </tr>\n",
              "    <tr>\n",
              "      <th>72031</th>\n",
              "      <td>Jeb Bush Is Suddenly Attacking Trump. Here's W...</td>\n",
              "      <td>1</td>\n",
              "    </tr>\n",
              "  </tbody>\n",
              "</table>\n",
              "<p>72032 rows × 2 columns</p>\n",
              "</div>\n",
              "      <button class=\"colab-df-convert\" onclick=\"convertToInteractive('df-edff2f86-b6dd-4cc4-8911-84c5fd469ce9')\"\n",
              "              title=\"Convert this dataframe to an interactive table.\"\n",
              "              style=\"display:none;\">\n",
              "        \n",
              "  <svg xmlns=\"http://www.w3.org/2000/svg\" height=\"24px\"viewBox=\"0 0 24 24\"\n",
              "       width=\"24px\">\n",
              "    <path d=\"M0 0h24v24H0V0z\" fill=\"none\"/>\n",
              "    <path d=\"M18.56 5.44l.94 2.06.94-2.06 2.06-.94-2.06-.94-.94-2.06-.94 2.06-2.06.94zm-11 1L8.5 8.5l.94-2.06 2.06-.94-2.06-.94L8.5 2.5l-.94 2.06-2.06.94zm10 10l.94 2.06.94-2.06 2.06-.94-2.06-.94-.94-2.06-.94 2.06-2.06.94z\"/><path d=\"M17.41 7.96l-1.37-1.37c-.4-.4-.92-.59-1.43-.59-.52 0-1.04.2-1.43.59L10.3 9.45l-7.72 7.72c-.78.78-.78 2.05 0 2.83L4 21.41c.39.39.9.59 1.41.59.51 0 1.02-.2 1.41-.59l7.78-7.78 2.81-2.81c.8-.78.8-2.07 0-2.86zM5.41 20L4 18.59l7.72-7.72 1.47 1.35L5.41 20z\"/>\n",
              "  </svg>\n",
              "      </button>\n",
              "      \n",
              "  <style>\n",
              "    .colab-df-container {\n",
              "      display:flex;\n",
              "      flex-wrap:wrap;\n",
              "      gap: 12px;\n",
              "    }\n",
              "\n",
              "    .colab-df-convert {\n",
              "      background-color: #E8F0FE;\n",
              "      border: none;\n",
              "      border-radius: 50%;\n",
              "      cursor: pointer;\n",
              "      display: none;\n",
              "      fill: #1967D2;\n",
              "      height: 32px;\n",
              "      padding: 0 0 0 0;\n",
              "      width: 32px;\n",
              "    }\n",
              "\n",
              "    .colab-df-convert:hover {\n",
              "      background-color: #E2EBFA;\n",
              "      box-shadow: 0px 1px 2px rgba(60, 64, 67, 0.3), 0px 1px 3px 1px rgba(60, 64, 67, 0.15);\n",
              "      fill: #174EA6;\n",
              "    }\n",
              "\n",
              "    [theme=dark] .colab-df-convert {\n",
              "      background-color: #3B4455;\n",
              "      fill: #D2E3FC;\n",
              "    }\n",
              "\n",
              "    [theme=dark] .colab-df-convert:hover {\n",
              "      background-color: #434B5C;\n",
              "      box-shadow: 0px 1px 3px 1px rgba(0, 0, 0, 0.15);\n",
              "      filter: drop-shadow(0px 1px 2px rgba(0, 0, 0, 0.3));\n",
              "      fill: #FFFFFF;\n",
              "    }\n",
              "  </style>\n",
              "\n",
              "      <script>\n",
              "        const buttonEl =\n",
              "          document.querySelector('#df-edff2f86-b6dd-4cc4-8911-84c5fd469ce9 button.colab-df-convert');\n",
              "        buttonEl.style.display =\n",
              "          google.colab.kernel.accessAllowed ? 'block' : 'none';\n",
              "\n",
              "        async function convertToInteractive(key) {\n",
              "          const element = document.querySelector('#df-edff2f86-b6dd-4cc4-8911-84c5fd469ce9');\n",
              "          const dataTable =\n",
              "            await google.colab.kernel.invokeFunction('convertToInteractive',\n",
              "                                                     [key], {});\n",
              "          if (!dataTable) return;\n",
              "\n",
              "          const docLinkHtml = 'Like what you see? Visit the ' +\n",
              "            '<a target=\"_blank\" href=https://colab.research.google.com/notebooks/data_table.ipynb>data table notebook</a>'\n",
              "            + ' to learn more about interactive tables.';\n",
              "          element.innerHTML = '';\n",
              "          dataTable['output_type'] = 'display_data';\n",
              "          await google.colab.output.renderOutput(dataTable, element);\n",
              "          const docLink = document.createElement('div');\n",
              "          docLink.innerHTML = docLinkHtml;\n",
              "          element.appendChild(docLink);\n",
              "        }\n",
              "      </script>\n",
              "    </div>\n",
              "  </div>\n",
              "  "
            ]
          },
          "metadata": {},
          "execution_count": 8
        }
      ],
      "source": [
        "df"
      ]
    },
    {
      "cell_type": "markdown",
      "metadata": {
        "id": "q6pmyz4fhYN9"
      },
      "source": [
        "## Inspect the dataset\n",
        "#### Check the shape, columns, data types, and basic statistics of the dataset."
      ]
    },
    {
      "cell_type": "code",
      "execution_count": 9,
      "metadata": {
        "colab": {
          "base_uri": "https://localhost:8080/"
        },
        "id": "GfmLfiOEhFJx",
        "outputId": "4e59a045-7204-455e-c4d4-cc604c042dd8"
      },
      "outputs": [
        {
          "output_type": "execute_result",
          "data": {
            "text/plain": [
              "(72032, 2)"
            ]
          },
          "metadata": {},
          "execution_count": 9
        }
      ],
      "source": [
        "df.shape"
      ]
    },
    {
      "cell_type": "code",
      "execution_count": 10,
      "metadata": {
        "colab": {
          "base_uri": "https://localhost:8080/"
        },
        "id": "xM4rs6XQhdIq",
        "outputId": "553d9ebb-dbae-420c-929e-f7ede97fee7a"
      },
      "outputs": [
        {
          "output_type": "execute_result",
          "data": {
            "text/plain": [
              "title    object\n",
              "label     int64\n",
              "dtype: object"
            ]
          },
          "metadata": {},
          "execution_count": 10
        }
      ],
      "source": [
        "df.dtypes"
      ]
    },
    {
      "cell_type": "code",
      "execution_count": 11,
      "metadata": {
        "colab": {
          "base_uri": "https://localhost:8080/"
        },
        "id": "_m95KwsBhfJh",
        "outputId": "57a85196-65d6-425e-db57-b0426170e7e4"
      },
      "outputs": [
        {
          "output_type": "execute_result",
          "data": {
            "text/plain": [
              "0    47444\n",
              "1    24588\n",
              "Name: label, dtype: int64"
            ]
          },
          "metadata": {},
          "execution_count": 11
        }
      ],
      "source": [
        "df['label'].value_counts()"
      ]
    },
    {
      "cell_type": "markdown",
      "source": [
        "'label' attribute has two unique values, '0' and '1', denoting 'Fake News' and 'True News' respectively."
      ],
      "metadata": {
        "id": "iZTt1SSdhRnF"
      }
    },
    {
      "cell_type": "markdown",
      "metadata": {
        "id": "iOOIu7GHhsW4"
      },
      "source": [
        "#### Look for any missing values or inconsistencies that need to be addressed."
      ]
    },
    {
      "cell_type": "code",
      "execution_count": 12,
      "metadata": {
        "colab": {
          "base_uri": "https://localhost:8080/"
        },
        "id": "CmmxSl2fhh1Y",
        "outputId": "ccfb249b-e301-4af0-da01-d56ce03868fb"
      },
      "outputs": [
        {
          "output_type": "execute_result",
          "data": {
            "text/plain": [
              "title    558\n",
              "label      0\n",
              "dtype: int64"
            ]
          },
          "metadata": {},
          "execution_count": 12
        }
      ],
      "source": [
        "df.isnull().sum()"
      ]
    },
    {
      "cell_type": "markdown",
      "source": [
        "There are 558 null values in the 'title' column. Since there are only two columns in the dataset, the rows with null values have to be removed"
      ],
      "metadata": {
        "id": "LpUxQVKihfBA"
      }
    },
    {
      "cell_type": "markdown",
      "metadata": {
        "id": "4PDCciMUhq1M"
      },
      "source": [
        "## Handle missing values:\n",
        "#### Dropping rows/columns"
      ]
    },
    {
      "cell_type": "code",
      "execution_count": 13,
      "metadata": {
        "colab": {
          "base_uri": "https://localhost:8080/"
        },
        "id": "PNEOJ1YahmVp",
        "outputId": "76e329e6-16ad-4e05-df6d-2874bfd50a94"
      },
      "outputs": [
        {
          "output_type": "execute_result",
          "data": {
            "text/plain": [
              "title    0\n",
              "label    0\n",
              "dtype: int64"
            ]
          },
          "metadata": {},
          "execution_count": 13
        }
      ],
      "source": [
        "# Dropping all the rows with null values\n",
        "df = df.dropna()\n",
        "df.isnull().sum()"
      ]
    },
    {
      "cell_type": "markdown",
      "metadata": {
        "id": "IZZcwup1hyXs"
      },
      "source": [
        "## Text preprocessing"
      ]
    },
    {
      "cell_type": "markdown",
      "source": [
        "Creating a function for preprocessing the text. This function includes code for converting the text to lowercase, removing any numbers and punctuations and replacing them with a single space, converting the text to tokens, removing all the stopwords and joining the tokens back into a string. \n",
        "This snippet is bound as a function so that further studies can include the 'text' column also and the same function can be reused."
      ],
      "metadata": {
        "id": "myWfK4W4h4ve"
      }
    },
    {
      "cell_type": "code",
      "execution_count": 14,
      "metadata": {
        "id": "a8Wt3wrshvyQ"
      },
      "outputs": [],
      "source": [
        "def preprocess(text):\n",
        "  if isinstance(text, str):\n",
        "    # Convert to lowercase\n",
        "    text = text.lower()\n",
        "    # Remove numbers and punctuation\n",
        "    text = re.sub(r'[^\\w\\s]|[\\d]', '', text)\n",
        "    text = re.sub(r'\\d+', '', text)\n",
        "    # Tokenize the text\n",
        "    tokens = nltk.word_tokenize(text)\n",
        "    # Remove stop words\n",
        "    stop_words = set(stopwords.words('english'))\n",
        "    tokens = [token for token in tokens if token not in stop_words]\n",
        "    # Join the tokens back into a string\n",
        "    text = ' '.join(tokens)\n",
        "    return text"
      ]
    },
    {
      "cell_type": "code",
      "execution_count": 15,
      "metadata": {
        "colab": {
          "base_uri": "https://localhost:8080/"
        },
        "id": "boRND7Irh5_t",
        "outputId": "39612644-533c-4b3a-e6ef-d7f8308178e7"
      },
      "outputs": [
        {
          "output_type": "stream",
          "name": "stderr",
          "text": [
            "<ipython-input-15-add41be75acf>:2: SettingWithCopyWarning: \n",
            "A value is trying to be set on a copy of a slice from a DataFrame.\n",
            "Try using .loc[row_indexer,col_indexer] = value instead\n",
            "\n",
            "See the caveats in the documentation: https://pandas.pydata.org/pandas-docs/stable/user_guide/indexing.html#returning-a-view-versus-a-copy\n",
            "  df['title'] = df['title'].apply(preprocess)\n"
          ]
        }
      ],
      "source": [
        "# Applying the preprocessing to the 'title' column using apply() method\n",
        "df['title'] = df['title'].apply(preprocess)"
      ]
    },
    {
      "cell_type": "markdown",
      "metadata": {
        "id": "R2vsMTyAiFpK"
      },
      "source": [
        "## Split the dataset"
      ]
    },
    {
      "cell_type": "code",
      "execution_count": 16,
      "metadata": {
        "id": "NpsImfTuh_bP"
      },
      "outputs": [],
      "source": [
        "# Splitting the dataset into dependent and target data\n",
        "X = df['title'] \n",
        "y = df['label']"
      ]
    },
    {
      "cell_type": "code",
      "execution_count": 17,
      "metadata": {
        "colab": {
          "base_uri": "https://localhost:8080/"
        },
        "id": "0Gba7qU8rgSg",
        "outputId": "23547c95-286a-4dd0-f26f-71fdb1e45c2c"
      },
      "outputs": [
        {
          "output_type": "execute_result",
          "data": {
            "text/plain": [
              "0        us budget fight looms republicans flip fiscal ...\n",
              "1        us military accept transgender recruits monday...\n",
              "2          senior us republican senator let mr mueller job\n",
              "3        fbi russia probe helped australian diplomat ti...\n",
              "4        trump wants postal service charge much amazon ...\n",
              "                               ...                        \n",
              "72027    state department says cant find emails clinton...\n",
              "72028                     p pbs stand plutocratic pentagon\n",
              "72029     antitrump protesters tools oligarchy information\n",
              "72030    ethiopia obama seeks progress peace security e...\n",
              "72031      jeb bush suddenly attacking trump heres matters\n",
              "Name: title, Length: 71474, dtype: object"
            ]
          },
          "metadata": {},
          "execution_count": 17
        }
      ],
      "source": [
        "X"
      ]
    },
    {
      "cell_type": "code",
      "execution_count": 18,
      "metadata": {
        "colab": {
          "base_uri": "https://localhost:8080/"
        },
        "id": "miIJ9NnsrhQd",
        "outputId": "300748f5-4a96-4a9b-e4bb-aa87d62907aa"
      },
      "outputs": [
        {
          "output_type": "execute_result",
          "data": {
            "text/plain": [
              "0        1\n",
              "1        1\n",
              "2        1\n",
              "3        1\n",
              "4        1\n",
              "        ..\n",
              "72027    1\n",
              "72028    0\n",
              "72029    0\n",
              "72030    1\n",
              "72031    1\n",
              "Name: label, Length: 71474, dtype: int64"
            ]
          },
          "metadata": {},
          "execution_count": 18
        }
      ],
      "source": [
        "y"
      ]
    },
    {
      "cell_type": "code",
      "execution_count": 19,
      "metadata": {
        "id": "UbiT9Op1iKES"
      },
      "outputs": [],
      "source": [
        "# Splitting the dataset into train and test datasets (80:20 split). 'stratify' parameter will ensure that the same proportion of data is maintained in the split datasets as in the original one.\n",
        "X_train, X_test, y_train, y_test = train_test_split(X, y, test_size=0.2, random_state=42, stratify=y)"
      ]
    },
    {
      "cell_type": "code",
      "execution_count": 20,
      "metadata": {
        "colab": {
          "base_uri": "https://localhost:8080/"
        },
        "id": "PlRzSzmKrsxG",
        "outputId": "e13503ea-800e-474c-d934-0bea7411b855"
      },
      "outputs": [
        {
          "output_type": "execute_result",
          "data": {
            "text/plain": [
              "33947    wow fbi asst director used kill people like hi...\n",
              "21391    romanian president opposes plans judicial over...\n",
              "3399     russia probe grinds trump struggles gain tract...\n",
              "32868    college students wanted pay education make stu...\n",
              "38816    unreal republican senate confirms eric holder ...\n",
              "                               ...                        \n",
              "24173    trump got eightyearold american girl killed al...\n",
              "8225     us lawmakers press aol powells state departmen...\n",
              "31942    sarah huckabee sanders calls fake newsreporter...\n",
              "25981    michigan republicans strip flint power sue sta...\n",
              "41077    obamas communist crony van jones worries hell ...\n",
              "Name: title, Length: 57179, dtype: object"
            ]
          },
          "metadata": {},
          "execution_count": 20
        }
      ],
      "source": [
        "X_train"
      ]
    },
    {
      "cell_type": "code",
      "execution_count": 21,
      "metadata": {
        "colab": {
          "base_uri": "https://localhost:8080/"
        },
        "id": "fVUdWy9ersl7",
        "outputId": "ec0ecf4c-9739-42e0-f845-2a23b465b9ee"
      },
      "outputs": [
        {
          "output_type": "execute_result",
          "data": {
            "text/plain": [
              "59755    white house objects drudge criticism gop needs...\n",
              "51067    us attempt simulated north korean icbm interce...\n",
              "23053    trumps favorite new dictator cut access wikipedia\n",
              "45137    report megyn kelly kick nbc show kardashian fa...\n",
              "12378    supporters egypt presidential hopeful arrested...\n",
              "                               ...                        \n",
              "52523    cruise ship miami docks cuba ending decadesold...\n",
              "44567    anarchy design antitrump flash mobs hollywood ...\n",
              "26521    convicted felon gun kneejerk reaction kills da...\n",
              "30004    psychic apparently couldnt predict lawsuit she...\n",
              "71731               sufism service empire case maryamiyyah\n",
              "Name: title, Length: 14295, dtype: object"
            ]
          },
          "metadata": {},
          "execution_count": 21
        }
      ],
      "source": [
        "X_test"
      ]
    },
    {
      "cell_type": "code",
      "execution_count": 22,
      "metadata": {
        "colab": {
          "base_uri": "https://localhost:8080/"
        },
        "id": "gFycrb3xrseT",
        "outputId": "dbda8bdd-eb48-45dc-df67-aa65657d5935"
      },
      "outputs": [
        {
          "output_type": "execute_result",
          "data": {
            "text/plain": [
              "33947    0\n",
              "21391    1\n",
              "3399     1\n",
              "32868    0\n",
              "38816    0\n",
              "        ..\n",
              "24173    0\n",
              "8225     1\n",
              "31942    0\n",
              "25981    0\n",
              "41077    0\n",
              "Name: label, Length: 57179, dtype: int64"
            ]
          },
          "metadata": {},
          "execution_count": 22
        }
      ],
      "source": [
        "y_train"
      ]
    },
    {
      "cell_type": "code",
      "execution_count": 23,
      "metadata": {
        "colab": {
          "base_uri": "https://localhost:8080/"
        },
        "id": "H9vfBjT7rsPi",
        "outputId": "d9769cd9-7266-41cf-c04e-2719e05e88c5"
      },
      "outputs": [
        {
          "output_type": "execute_result",
          "data": {
            "text/plain": [
              "59755    0\n",
              "51067    0\n",
              "23053    0\n",
              "45137    0\n",
              "12378    1\n",
              "        ..\n",
              "52523    0\n",
              "44567    0\n",
              "26521    0\n",
              "30004    0\n",
              "71731    0\n",
              "Name: label, Length: 14295, dtype: int64"
            ]
          },
          "metadata": {},
          "execution_count": 23
        }
      ],
      "source": [
        "y_test"
      ]
    },
    {
      "cell_type": "markdown",
      "metadata": {
        "id": "6-QwkVYNiXvf"
      },
      "source": [
        "# Feature Extraction"
      ]
    },
    {
      "cell_type": "code",
      "execution_count": 24,
      "metadata": {
        "id": "MqZgeeACiUCU"
      },
      "outputs": [],
      "source": [
        "# Function to convert the tokenized text into a TF-IDF (Term Frequency - Inverse Document Frequency) matrix form\n",
        "def tfidf_vectorizer(X_train, X_test):\n",
        "    vectorizer = TfidfVectorizer()\n",
        "    X_train_vec = vectorizer.fit_transform(X_train)\n",
        "    X_test_vec = vectorizer.transform(X_test)\n",
        "    return X_train_vec, X_test_vec"
      ]
    },
    {
      "cell_type": "markdown",
      "metadata": {
        "id": "KIHp9L6fikXE"
      },
      "source": [
        "## Apply these functions to the preprocessed text data (X_train and X_test) and obtain the transformed feature representations"
      ]
    },
    {
      "cell_type": "code",
      "execution_count": 25,
      "metadata": {
        "id": "MUZkwxzlihiU"
      },
      "outputs": [],
      "source": [
        "# Applying the tfidf vectorizer to the train and test X data splits\n",
        "X_train_tfidf, X_test_tfidf = tfidf_vectorizer(X_train, X_test)"
      ]
    },
    {
      "cell_type": "code",
      "execution_count": 26,
      "metadata": {
        "colab": {
          "base_uri": "https://localhost:8080/"
        },
        "id": "EQZfQQyFnpbk",
        "outputId": "d3210a7c-7688-4f2e-ddef-8bb26301ea6f"
      },
      "outputs": [
        {
          "output_type": "execute_result",
          "data": {
            "text/plain": [
              "<57179x33560 sparse matrix of type '<class 'numpy.float64'>'\n",
              "\twith 505883 stored elements in Compressed Sparse Row format>"
            ]
          },
          "metadata": {},
          "execution_count": 26
        }
      ],
      "source": [
        "X_train_tfidf\n"
      ]
    },
    {
      "cell_type": "markdown",
      "metadata": {
        "id": "BowsCpxzirnH"
      },
      "source": [
        "# Machine Learning Models"
      ]
    },
    {
      "cell_type": "markdown",
      "metadata": {
        "id": "O4xLH4IA0GCG"
      },
      "source": [
        "##With Hyperparameter tuning"
      ]
    },
    {
      "cell_type": "markdown",
      "metadata": {
        "id": "NyT2yKYq0L0f"
      },
      "source": [
        "#### Logistic Regression"
      ]
    },
    {
      "cell_type": "markdown",
      "source": [
        "Logistic Regression"
      ],
      "metadata": {
        "id": "bz2Va1UWkXDD"
      }
    },
    {
      "cell_type": "code",
      "execution_count": null,
      "metadata": {
        "colab": {
          "base_uri": "https://localhost:8080/"
        },
        "id": "5hwtyWIb0FnS",
        "outputId": "9d709eb2-357e-4d9c-fa4e-68cb089999fb"
      },
      "outputs": [
        {
          "output_type": "stream",
          "name": "stdout",
          "text": [
            "Best parameters for Logistic Regression:  {'C': 10}\n",
            "Logistic Regression classification report:\n",
            "               precision    recall  f1-score   support\n",
            "\n",
            "           0       0.93      0.95      0.94      9377\n",
            "           1       0.89      0.86      0.87      4918\n",
            "\n",
            "    accuracy                           0.91     14295\n",
            "   macro avg       0.91      0.90      0.90     14295\n",
            "weighted avg       0.91      0.91      0.91     14295\n",
            "\n",
            "Logistic Regression train accuracy: 0.9702862939190962\n",
            "Logistic Regression test accuracy: 0.9148653375306051\n"
          ]
        }
      ],
      "source": [
        "# Creating a logistic regression classifier object lr with a maximum iteration of 1000\n",
        "lr = LogisticRegression(max_iter=1000)\n",
        "\n",
        "# A parameter grid for the C hyperparameter is created, which is the inverse of the regularization strength. \n",
        "# Three different values of C are specified to be tested: 0.1, 1, and 10.\n",
        "param_grid_lr = {'C': [0.1, 1, 10]}\n",
        "\n",
        "# GridSearchCV is used to search for the best combination of hyperparameters using 5-fold cross-validation (cv=5) on the training set\n",
        "grid_lr = GridSearchCV(lr, param_grid_lr, cv=5)\n",
        "grid_lr.fit(X_train_tfidf, y_train)\n",
        "# The best hyperparameters found by GridSearchCV are printed.\n",
        "print(\"Best parameters for Logistic Regression: \", grid_lr.best_params_)\n",
        "\n",
        "# The best logistic regression classifier found by GridSearchCV is used to predict the labels of the training set and the test set.\n",
        "pred_train_lr = grid_lr.predict(X_train_tfidf)\n",
        "pred_test_lr = grid_lr.predict(X_test_tfidf)\n",
        "\n",
        "# The accuracy scores of the training and test sets \n",
        "train_score_lr = accuracy_score(pred_train_lr, y_train)\n",
        "test_score_lr = accuracy_score(pred_test_lr, y_test)\n",
        "\n",
        "# The classification report, which includes precision, recall, f1-score, and support for each class, is printed for the test set.\n",
        "print(\"Logistic Regression classification report:\\n\", classification_report(y_test, pred_test_lr))\n",
        "print(\"Logistic Regression train accuracy:\", train_score_lr)\n",
        "print(\"Logistic Regression test accuracy:\", test_score_lr)"
      ]
    },
    {
      "cell_type": "code",
      "source": [
        "# A confusion matrix is calculated for the test set predictions and true labels using confusion_matrix.\n",
        "# The confusion matrix is plotted as a heatmap using seaborn and matplotlib.\n",
        "\n",
        "cm_lr = confusion_matrix(y_test, pred_test_lr)\n",
        "\n",
        "# Plot confusion matrix as heatmap\n",
        "sns.heatmap(cm_lr, annot=True, cmap='Blues', fmt='d')\n",
        "# The title, x-label, and y-label of the confusion matrix plot are set and the plot is displayed using plt.show()\n",
        "plt.title('Confusion matrix for Logistic Regression')\n",
        "plt.xlabel('Predicted label')\n",
        "plt.ylabel('True label')\n",
        "plt.show()"
      ],
      "metadata": {
        "id": "keBlhrSS0aiJ",
        "outputId": "3746a620-21d2-449c-c4f2-6bb59cf17cdd",
        "colab": {
          "base_uri": "https://localhost:8080/",
          "height": 472
        }
      },
      "execution_count": null,
      "outputs": [
        {
          "output_type": "display_data",
          "data": {
            "text/plain": [
              "<Figure size 640x480 with 2 Axes>"
            ],
            "image/png": "[encoded data removed]"
          },
          "metadata": {}
        }
      ]
    },
    {
      "cell_type": "markdown",
      "metadata": {
        "id": "ua3TyeRF0P7P"
      },
      "source": [
        "#### Decision Tree"
      ]
    },
    {
      "cell_type": "code",
      "execution_count": null,
      "metadata": {
        "colab": {
          "base_uri": "https://localhost:8080/"
        },
        "id": "PvTxCmv4jl3w",
        "outputId": "af2934c8-4513-419a-cdf7-17ed65df08b1"
      },
      "outputs": [
        {
          "output_type": "stream",
          "name": "stdout",
          "text": [
            "Best parameters for Decision Tree:  {'max_depth': 50}\n",
            "Decision Tree classification report:\n",
            "               precision    recall  f1-score   support\n",
            "\n",
            "           0       0.83      0.93      0.87      9377\n",
            "           1       0.82      0.63      0.71      4918\n",
            "\n",
            "    accuracy                           0.83     14295\n",
            "   macro avg       0.82      0.78      0.79     14295\n",
            "weighted avg       0.83      0.83      0.82     14295\n",
            "\n",
            "Decision Tree train accuracy: 0.8742895118837335\n",
            "Decision Tree test accuracy: 0.8257432668765302\n"
          ]
        }
      ],
      "source": [
        "# Creating a decision tree classifier object dt\n",
        "dt = DecisionTreeClassifier()\n",
        "\n",
        "# A parameter grid for the max_depth hyperparameter is created, which specifies the maximum depth of the decision tree. \n",
        "# Three different values of max_depth are specified to be tested: 4, 10, and 50.\n",
        "param_grid_dt = {'max_depth': [4, 10, 50]}\n",
        "\n",
        "# GridSearchCV to search for the best combination of hyperparameters using 5-fold cross-validation (cv=5) on the training set\n",
        "grid_dt = GridSearchCV(dt, param_grid_dt, cv=5)\n",
        "grid_dt.fit(X_train_tfidf, y_train)\n",
        "print(\"Best parameters for Decision Tree: \", grid_dt.best_params_)\n",
        "\n",
        "# The best decision tree classifier found by GridSearchCV is used to predict the labels of the training set and the test set.\n",
        "pred_train_dt = grid_dt.predict(X_train_tfidf)\n",
        "pred_test_dt = grid_dt.predict(X_test_tfidf)\n",
        "\n",
        "# The classification report, which includes precision, recall, f1-score, and support for each class, is printed for the test set.\n",
        "print(\"Decision Tree classification report:\\n\", classification_report(y_test, pred_test_dt))\n",
        "\n",
        "# The accuracy scores of the training and test sets\n",
        "train_score_dt = accuracy_score(pred_train_dt, y_train)\n",
        "test_score_dt = accuracy_score(pred_test_dt, y_test)\n",
        "\n",
        "print(\"Decision Tree train accuracy:\", train_score_dt)\n",
        "print(\"Decision Tree test accuracy:\", test_score_dt)"
      ]
    },
    {
      "cell_type": "code",
      "execution_count": null,
      "metadata": {
        "colab": {
          "base_uri": "https://localhost:8080/",
          "height": 472
        },
        "id": "o4TiOAUWaT9Y",
        "outputId": "1fa02a96-e73b-42c6-fbaf-99133ab68b28"
      },
      "outputs": [
        {
          "output_type": "display_data",
          "data": {
            "text/plain": [
              "<Figure size 640x480 with 2 Axes>"
            ],
            "image/png": "[encoded data removed]"
          },
          "metadata": {}
        }
      ],
      "source": [
        "# Confusion matrix for the test set predictions and true labels\n",
        "cm_dt = confusion_matrix(y_test, pred_test_dt)\n",
        "\n",
        "# Plot confusion matrix as heatmap using seaborn and matplotlib.\n",
        "sns.heatmap(cm_dt, annot=True, cmap='Blues', fmt='d')\n",
        "plt.title('Confusion matrix for Decision Tree')\n",
        "plt.xlabel('Predicted label')\n",
        "plt.ylabel('True label')\n",
        "plt.show()"
      ]
    },
    {
      "cell_type": "markdown",
      "metadata": {
        "id": "3aKQxL5E0TGj"
      },
      "source": [
        "#### Gradient Boosting"
      ]
    },
    {
      "cell_type": "code",
      "execution_count": null,
      "metadata": {
        "colab": {
          "base_uri": "https://localhost:8080/"
        },
        "id": "JLKLTiQ40WKB",
        "outputId": "ab8d1b98-6d52-4b90-8263-374d8080bb2a"
      },
      "outputs": [
        {
          "output_type": "stream",
          "name": "stdout",
          "text": [
            "Best parameters for Gradient Boosting:  {'learning_rate': 0.1, 'n_estimators': 300}\n",
            "Gradient Boosting classification report:\n",
            "               precision    recall  f1-score   support\n",
            "\n",
            "           0       0.83      0.95      0.88      9377\n",
            "           1       0.86      0.63      0.73      4918\n",
            "\n",
            "    accuracy                           0.84     14295\n",
            "   macro avg       0.85      0.79      0.81     14295\n",
            "weighted avg       0.84      0.84      0.83     14295\n",
            "\n",
            "Gradient Boosting train accuracy: 0.8484583500935658\n",
            "Gradient Boosting test accuracy: 0.8380552640783491\n"
          ]
        }
      ],
      "source": [
        "# Creating a Gradient Boosting classifier object gb\n",
        "gb = GradientBoostingClassifier(random_state=0)\n",
        "\n",
        "# A parameter grid is created for the n_estimators and learning_rate hyperparameters. \n",
        "# Three different values of n_estimators (100, 200, 300) and three different values of learning_rate (0.1, 0.05, 0.01) are specified to be tested.\n",
        "param_grid_gb = {'n_estimators': [100, 200, 300], 'learning_rate': [0.1, 0.05, 0.01]}\n",
        "\n",
        "# GridSearchCV to search for the best combination of hyperparameters using 5-fold cross-validation (cv=5) on the training set\n",
        "grid_gb = GridSearchCV(gb, param_grid_gb, cv=5)\n",
        "grid_gb.fit(X_train_tfidf, y_train)\n",
        "print(\"Best parameters for Gradient Boosting: \", grid_gb.best_params_)\n",
        "\n",
        "# The best gradient boosting classifier found by GridSearchCV to predict the labels of the training set and the test set\n",
        "pred_train_gb = grid_gb.predict(X_train_tfidf)\n",
        "pred_test_gb = grid_gb.predict(X_test_tfidf)\n",
        "\n",
        "# The classification report, which includes precision, recall, f1-score, and support for each class, is printed for the test set\n",
        "print(\"Gradient Boosting classification report:\\n\", classification_report(y_test, pred_test_gb))\n",
        "\n",
        "# The accuracy scores of the training and test sets\n",
        "train_score_gb = accuracy_score(pred_train_gb, y_train)\n",
        "test_score_gb = accuracy_score(pred_test_gb, y_test)\n",
        "print(\"Gradient Boosting train accuracy:\", train_score_gb)\n",
        "print(\"Gradient Boosting test accuracy:\", test_score_gb)"
      ]
    },
    {
      "cell_type": "code",
      "execution_count": null,
      "metadata": {
        "colab": {
          "base_uri": "https://localhost:8080/",
          "height": 472
        },
        "id": "OzG1I6d0ksct",
        "outputId": "6cb92d52-104c-4911-d22c-285947f1a40f"
      },
      "outputs": [
        {
          "output_type": "display_data",
          "data": {
            "text/plain": [
              "<Figure size 640x480 with 2 Axes>"
            ],
            "image/png": "[encoded data removed]"
          },
          "metadata": {}
        }
      ],
      "source": [
        "# Confusion matrix for the test set predictions and true labels\n",
        "cm_gb = confusion_matrix(y_test, pred_test_gb)\n",
        "\n",
        "# Plot confusion matrix as heatmap\n",
        "sns.heatmap(cm_gb, annot=True, cmap='Blues', fmt='d')\n",
        "# The title, x-label, and y-label of the confusion matrix plot are set and the plot is displayed using plt.show()\n",
        "plt.title('Confusion matrix for Gradient Boosting')\n",
        "plt.xlabel('Predicted label')\n",
        "plt.ylabel('True label')\n",
        "plt.show()"
      ]
    },
    {
      "cell_type": "markdown",
      "metadata": {
        "id": "mMC_-7by0WqB"
      },
      "source": [
        "#### Random Forest"
      ]
    },
    {
      "cell_type": "code",
      "execution_count": null,
      "metadata": {
        "colab": {
          "base_uri": "https://localhost:8080/"
        },
        "id": "0lYthqVa0ZvP",
        "outputId": "ad9f3556-b3e5-400a-8325-6304efaf75b7"
      },
      "outputs": [
        {
          "output_type": "stream",
          "name": "stdout",
          "text": [
            "Best parameters for Random Forest:  {'max_depth': 50, 'n_estimators': 100}\n",
            "Random Forest classification report:\n",
            "               precision    recall  f1-score   support\n",
            "\n",
            "           0       0.77      0.99      0.87      9377\n",
            "           1       0.95      0.44      0.60      4918\n",
            "\n",
            "    accuracy                           0.80     14295\n",
            "   macro avg       0.86      0.71      0.73     14295\n",
            "weighted avg       0.83      0.80      0.77     14295\n",
            "\n",
            "Random Forest train accuracy: 0.8193917347277847\n",
            "Random Forest test accuracy: 0.7988107729975515\n"
          ]
        }
      ],
      "source": [
        "# Creating a Random Forest classifier object rf\n",
        "rf = RandomForestClassifier(random_state=0)\n",
        "\n",
        "# A parameter grid is created for the n_estimators and learning_rate hyperparameters. \n",
        "# Three different values of n_estimators (100, 200, 300) and three different values of learning_rate (0.1, 0.05, 0.01) are specified to be tested.\n",
        "param_grid_rf = {'n_estimators': [100, 200, 300], 'max_depth': [4, 10, 50]}\n",
        "\n",
        "# GridSearchCV to search for the best combination of hyperparameters using 5-fold cross-validation (cv=5) on the training set\n",
        "grid_rf = GridSearchCV(rf, param_grid_rf, cv=5)\n",
        "\n",
        "grid_rf.fit(X_train_tfidf, y_train)\n",
        "print(\"Best parameters for Random Forest: \", grid_rf.best_params_)\n",
        "\n",
        "# The best Random Forest classifier found by GridSearchCV to predict the labels of the training set and the test set\n",
        "pred_train_rf = grid_rf.predict(X_train_tfidf)\n",
        "pred_test_rf = grid_rf.predict(X_test_tfidf)\n",
        "\n",
        "# The classification report, which includes precision, recall, f1-score, and support for each class, is printed for the test set\n",
        "print(\"Random Forest classification report:\\n\", classification_report(y_test, pred_test_rf))\n",
        "\n",
        "# The accuracy scores of the training and test sets\n",
        "train_score_rf = accuracy_score(pred_train_rf, y_train)\n",
        "test_score_rf = accuracy_score(pred_test_rf, y_test)\n",
        "\n",
        "print(\"Random Forest train accuracy:\", train_score_rf)\n",
        "print(\"Random Forest test accuracy:\", test_score_rf)"
      ]
    },
    {
      "cell_type": "code",
      "execution_count": null,
      "metadata": {
        "colab": {
          "base_uri": "https://localhost:8080/",
          "height": 472
        },
        "id": "208tQlO8lUF0",
        "outputId": "ab1a30af-836f-4b80-e557-8e412ffeabfe"
      },
      "outputs": [
        {
          "output_type": "display_data",
          "data": {
            "text/plain": [
              "<Figure size 640x480 with 2 Axes>"
            ],
            "image/png": "[encoded data removed]"
          },
          "metadata": {}
        }
      ],
      "source": [
        "# Confusion matrix for the test set predictions and true labels\n",
        "cm_rf = confusion_matrix(y_test, pred_test_rf)\n",
        "\n",
        "# Plot confusion matrix as heatmap\n",
        "sns.heatmap(cm_rf, annot=True, cmap='Blues', fmt='d')\n",
        "# The title, x-label, and y-label of the confusion matrix plot are set and the plot is displayed using plt.show()\n",
        "plt.title('Confusion matrix for Random Forest')\n",
        "plt.xlabel('Predicted label')\n",
        "plt.ylabel('True label')\n",
        "plt.show()"
      ]
    },
    {
      "cell_type": "markdown",
      "metadata": {
        "id": "cskcg9f70aNX"
      },
      "source": [
        "#### Multinomial NB"
      ]
    },
    {
      "cell_type": "markdown",
      "source": [
        "Even though MNB is designed for multiclass classification, it can work well for binary classification tasks because it can handle sparse data, which is common in text classification. In addition, MNB is fast and requires relatively little training data compared to other algorithms, which makes it a popular choice for text classification tasks."
      ],
      "metadata": {
        "id": "dI51vurB1HkP"
      }
    },
    {
      "cell_type": "code",
      "execution_count": null,
      "metadata": {
        "colab": {
          "base_uri": "https://localhost:8080/"
        },
        "id": "D6zs4xkO0hWd",
        "outputId": "f33f1999-bdaa-43c6-9118-380ba7d35cb0"
      },
      "outputs": [
        {
          "output_type": "stream",
          "name": "stdout",
          "text": [
            "Best parameters for Multinomial NB:  {'alpha': 0.1}\n",
            "Multinomial NB classification report:\n",
            "               precision    recall  f1-score   support\n",
            "\n",
            "           0       0.89      0.94      0.92      9377\n",
            "           1       0.87      0.79      0.83      4918\n",
            "\n",
            "    accuracy                           0.89     14295\n",
            "   macro avg       0.88      0.86      0.87     14295\n",
            "weighted avg       0.89      0.89      0.89     14295\n",
            "\n",
            "Multinomial NB train accuracy: 0.9295895346193532\n",
            "Multinomial NB test accuracy: 0.8884924798880728\n"
          ]
        }
      ],
      "source": [
        "# Creating a Multinomial Naive Bayes classifier object mnb\n",
        "mnb = MultinomialNB()\n",
        "\n",
        "# A parameter grid for the alpha hyperparameter is created, which is the smoothing parameter\n",
        "# Three different values of alpha are specified to be tested: 0.1, 1, and 10.\n",
        "param_grid_mnb = {'alpha': [0.1, 1, 10]}\n",
        "\n",
        "# GridSearchCV to search for the best combination of hyperparameters using 5-fold cross-validation (cv=5) on the training set\n",
        "grid_mnb = GridSearchCV(mnb, param_grid_mnb, cv=5)\n",
        "grid_mnb.fit(X_train_tfidf, y_train)\n",
        "print(\"Best parameters for Multinomial NB: \", grid_mnb.best_params_)\n",
        "\n",
        "# The best multinomial Naive Bayes classifier found by GridSearchCV used to predict the labels of the training set and the test set\n",
        "pred_train_mnb = grid_mnb.predict(X_train_tfidf)\n",
        "pred_test_mnb = grid_mnb.predict(X_test_tfidf)\n",
        "\n",
        "# The classification report, which includes precision, recall, f1-score, and support for each class, is printed for the test set\n",
        "print(\"Multinomial NB classification report:\\n\", classification_report(y_test, pred_test_mnb))\n",
        "\n",
        "# The accuracy scores of the training and test sets\n",
        "train_score_mnb = accuracy_score(pred_train_mnb, y_train)\n",
        "test_score_mnb = accuracy_score(pred_test_mnb, y_test)\n",
        "\n",
        "print(\"Multinomial NB train accuracy:\", train_score_mnb)\n",
        "print(\"Multinomial NB test accuracy:\", test_score_mnb)"
      ]
    },
    {
      "cell_type": "code",
      "execution_count": null,
      "metadata": {
        "colab": {
          "base_uri": "https://localhost:8080/",
          "height": 472
        },
        "id": "DLYjAO6qq14o",
        "outputId": "f38dcaf5-4183-4d0e-adb3-c4c6cf4faee4"
      },
      "outputs": [
        {
          "output_type": "display_data",
          "data": {
            "text/plain": [
              "<Figure size 640x480 with 2 Axes>"
            ],
            "image/png": "[encoded data removed]"
          },
          "metadata": {}
        }
      ],
      "source": [
        "# Confusion matrix for the test set predictions and true labels\n",
        "cm_mnb = confusion_matrix(y_test, pred_test_mnb)\n",
        "\n",
        "# Plot confusion matrix as heatmap\n",
        "sns.heatmap(cm_mnb, annot=True, cmap='Blues', fmt='d')\n",
        "# The title, x-label, and y-label of the confusion matrix plot are set and the plot is displayed using plt.show()\n",
        "plt.title('Confusion matrix for Multinomial NB')\n",
        "plt.xlabel('Predicted label')\n",
        "plt.ylabel('True label')\n",
        "plt.show()"
      ]
    },
    {
      "cell_type": "markdown",
      "metadata": {
        "id": "6RQLojsr0j3I"
      },
      "source": [
        "#### Passive Aggressive Classifier"
      ]
    },
    {
      "cell_type": "code",
      "execution_count": null,
      "metadata": {
        "colab": {
          "base_uri": "https://localhost:8080/"
        },
        "id": "l44shhHG0p8C",
        "outputId": "90fc00b6-fbf5-4261-e849-136228de6d70"
      },
      "outputs": [
        {
          "output_type": "stream",
          "name": "stdout",
          "text": [
            "Best parameters for Passive Aggressive Classifier:  {'C': 0.1}\n",
            "Passive Aggressive Classifier classification report:\n",
            "               precision    recall  f1-score   support\n",
            "\n",
            "           0       0.93      0.94      0.93      9377\n",
            "           1       0.88      0.86      0.87      4918\n",
            "\n",
            "    accuracy                           0.91     14295\n",
            "   macro avg       0.90      0.90      0.90     14295\n",
            "weighted avg       0.91      0.91      0.91     14295\n",
            "\n",
            "Passive Aggressive Classifier train accuracy: 0.976319977614159\n",
            "Passive Aggressive Classifier test accuracy: 0.9124169289961525\n"
          ]
        }
      ],
      "source": [
        "# Creating a Passive Aggressive Classifier object pac\n",
        "pac = PassiveAggressiveClassifier()\n",
        "\n",
        "# A parameter grid for the C hyperparameter is created, which controls the regularization strength\n",
        "# Three different values of C are specified to be tested: 0.1, 1, and 10.\n",
        "param_grid_pac = {'C': [0.1, 1, 10]}\n",
        "\n",
        "# GridSearchCV to search for the best combination of hyperparameters using 5-fold cross-validation (cv=5) on the training set\n",
        "grid_pac = GridSearchCV(pac, param_grid_pac, cv=5)\n",
        "\n",
        "grid_pac.fit(X_train_tfidf, y_train)\n",
        "print(\"Best parameters for Passive Aggressive Classifier: \", grid_pac.best_params_)\n",
        "\n",
        "# The best passive-aggressive classifier found by GridSearchCV is used to predict the labels of the training set and the test set.\n",
        "pred_train_pac = grid_pac.predict(X_train_tfidf)\n",
        "pred_test_pac = grid_pac.predict(X_test_tfidf)\n",
        "print(\"Passive Aggressive Classifier classification report:\\n\", classification_report(y_test, pred_test_pac))\n",
        "\n",
        "train_score_pac = accuracy_score(pred_train_pac, y_train)\n",
        "test_score_pac = accuracy_score(pred_test_pac, y_test)\n",
        "\n",
        "print(\"Passive Aggressive Classifier train accuracy:\", train_score_pac)\n",
        "print(\"Passive Aggressive Classifier test accuracy:\", test_score_pac)"
      ]
    },
    {
      "cell_type": "code",
      "execution_count": null,
      "metadata": {
        "colab": {
          "base_uri": "https://localhost:8080/",
          "height": 472
        },
        "id": "pqS8jbbnrY7W",
        "outputId": "a2087f4d-b9ff-4ec7-88c2-aec44fc42203"
      },
      "outputs": [
        {
          "output_type": "display_data",
          "data": {
            "text/plain": [
              "<Figure size 640x480 with 2 Axes>"
            ],
            "image/png": "[encoded data removed]"
          },
          "metadata": {}
        }
      ],
      "source": [
        "# Confusion matrix for the test set predictions and true labels\n",
        "cm_pac = confusion_matrix(y_test, pred_test_pac)\n",
        "\n",
        "# Plot confusion matrix as heatmap\n",
        "sns.heatmap(cm_pac, annot=True, cmap='Blues', fmt='d')\n",
        "# The title, x-label, and y-label of the confusion matrix plot are set and the plot is displayed using plt.show()\n",
        "plt.title('Confusion matrix for Passive Aggressive Classifier')\n",
        "plt.xlabel('Predicted label')\n",
        "plt.ylabel('True label')\n",
        "plt.show()"
      ]
    },
    {
      "cell_type": "markdown",
      "metadata": {
        "id": "r1MPcF_lmJwA"
      },
      "source": [
        "# Deep Learning Models"
      ]
    },
    {
      "cell_type": "code",
      "execution_count": 27,
      "metadata": {
        "id": "fg7JyaFG1J9s"
      },
      "outputs": [],
      "source": [
        "# Text preprocessing\n",
        "max_words = 5000\n",
        "tokenizer = Tokenizer(num_words=max_words, split=' ')\n",
        "tokenizer.fit_on_texts(X_train)"
      ]
    },
    {
      "cell_type": "code",
      "execution_count": 28,
      "metadata": {
        "id": "eqcJB21g1Nkt"
      },
      "outputs": [],
      "source": [
        "# Convert text to sequences\n",
        "X_train_seq = tokenizer.texts_to_sequences(X_train)\n",
        "X_test_seq = tokenizer.texts_to_sequences(X_test)"
      ]
    },
    {
      "cell_type": "code",
      "execution_count": 29,
      "metadata": {
        "id": "c8RP9b1i1NaJ"
      },
      "outputs": [],
      "source": [
        "# Padding\n",
        "max_len = max(len(x) for x in X_train_seq)\n",
        "X_train_pad = pad_sequences(X_train_seq, maxlen=max_len, padding='post')\n",
        "X_test_pad = pad_sequences(X_test_seq, maxlen=max_len, padding='post')"
      ]
    },
    {
      "cell_type": "code",
      "execution_count": 30,
      "metadata": {
        "id": "8lUHAsOF1Jxx"
      },
      "outputs": [],
      "source": [
        "# Label encoding\n",
        "le = LabelEncoder()\n",
        "y_train_enc = le.fit_transform(y_train)\n",
        "y_test_enc = le.transform(y_test)"
      ]
    },
    {
      "cell_type": "markdown",
      "metadata": {
        "id": "DcHgMFcTmQY4"
      },
      "source": [
        "#### LSTM"
      ]
    },
    {
      "cell_type": "code",
      "source": [
        "def create_model_lstm():\n",
        "    model = Sequential()\n",
        "    model.add(Embedding(max_words, 64, input_length=max_len))\n",
        "    model.add(LSTM(64, dropout=0.2, recurrent_dropout=0.2))\n",
        "    model.add(Dense(1, activation='sigmoid'))\n",
        "    model.compile(loss='binary_crossentropy', optimizer='adam', metrics=['accuracy'])\n",
        "    return model"
      ],
      "metadata": {
        "id": "StVH2Nwp2Pb3"
      },
      "execution_count": null,
      "outputs": []
    },
    {
      "cell_type": "code",
      "execution_count": null,
      "metadata": {
        "colab": {
          "base_uri": "https://localhost:8080/"
        },
        "id": "nOBHtRcsZQUW",
        "outputId": "e0fe5057-7630-4c8b-a8b3-6d46adb7ace3"
      },
      "outputs": [
        {
          "metadata": {
            "tags": null
          },
          "name": "stderr",
          "output_type": "stream",
          "text": [
            "<ipython-input-33-1d5a97db7133>:1: DeprecationWarning: KerasClassifier is deprecated, use Sci-Keras (https://github.com/adriangb/scikeras) instead. See https://www.adriangb.com/scikeras/stable/migration.html for help migrating.\n",
            "  model_lstm = KerasClassifier(build_fn=create_model_lstm)\n"
          ]
        },
        {
          "output_type": "stream",
          "name": "stdout",
          "text": [
            "Epoch 1/5\n",
            "1430/1430 [==============================] - 42s 27ms/step - loss: 0.3548 - accuracy: 0.8394\n",
            "Epoch 2/5\n",
            "1430/1430 [==============================] - 39s 27ms/step - loss: 0.2201 - accuracy: 0.9125\n",
            "Epoch 3/5\n",
            "1430/1430 [==============================] - 39s 27ms/step - loss: 0.1830 - accuracy: 0.9265\n",
            "Epoch 4/5\n",
            "1430/1430 [==============================] - 38s 27ms/step - loss: 0.1561 - accuracy: 0.9373\n",
            "Epoch 5/5\n",
            "1430/1430 [==============================] - 38s 27ms/step - loss: 0.1325 - accuracy: 0.9476\n",
            "358/358 [==============================] - 2s 6ms/step - loss: 0.2579 - accuracy: 0.9059\n",
            "Epoch 1/5\n",
            "1430/1430 [==============================] - 42s 27ms/step - loss: 0.4821 - accuracy: 0.7981\n",
            "Epoch 2/5\n",
            "1430/1430 [==============================] - 38s 27ms/step - loss: 0.2827 - accuracy: 0.8893\n",
            "Epoch 3/5\n",
            "1430/1430 [==============================] - 38s 27ms/step - loss: 0.2171 - accuracy: 0.9161\n",
            "Epoch 4/5\n",
            "1430/1430 [==============================] - 38s 27ms/step - loss: 0.1882 - accuracy: 0.9260\n",
            "Epoch 5/5\n",
            "1430/1430 [==============================] - 38s 27ms/step - loss: 0.1619 - accuracy: 0.9351\n",
            "358/358 [==============================] - 3s 6ms/step - loss: 0.2552 - accuracy: 0.9041\n",
            "Epoch 1/5\n",
            "1430/1430 [==============================] - 42s 27ms/step - loss: 0.3353 - accuracy: 0.8537\n",
            "Epoch 2/5\n",
            "1430/1430 [==============================] - 38s 27ms/step - loss: 0.2262 - accuracy: 0.9107\n",
            "Epoch 3/5\n",
            "1430/1430 [==============================] - 38s 27ms/step - loss: 0.1990 - accuracy: 0.9209\n",
            "Epoch 4/5\n",
            "1430/1430 [==============================] - 39s 27ms/step - loss: 0.1758 - accuracy: 0.9304\n",
            "Epoch 5/5\n",
            "1430/1430 [==============================] - 38s 27ms/step - loss: 0.1610 - accuracy: 0.9358\n",
            "358/358 [==============================] - 2s 6ms/step - loss: 0.2643 - accuracy: 0.9022\n",
            "Epoch 1/5\n",
            "1430/1430 [==============================] - 42s 27ms/step - loss: 0.3196 - accuracy: 0.8615\n",
            "Epoch 2/5\n",
            "1430/1430 [==============================] - 38s 27ms/step - loss: 0.2183 - accuracy: 0.9125\n",
            "Epoch 3/5\n",
            "1430/1430 [==============================] - 39s 27ms/step - loss: 0.1861 - accuracy: 0.9258\n",
            "Epoch 4/5\n",
            "1430/1430 [==============================] - 38s 27ms/step - loss: 0.1597 - accuracy: 0.9366\n",
            "Epoch 5/5\n",
            "1430/1430 [==============================] - 38s 27ms/step - loss: 0.1404 - accuracy: 0.9437\n",
            "358/358 [==============================] - 3s 6ms/step - loss: 0.2748 - accuracy: 0.8904\n",
            "Epoch 1/5\n",
            "1430/1430 [==============================] - 41s 27ms/step - loss: 0.3198 - accuracy: 0.8617\n",
            "Epoch 2/5\n",
            "1430/1430 [==============================] - 38s 27ms/step - loss: 0.2170 - accuracy: 0.9149\n",
            "Epoch 3/5\n",
            "1430/1430 [==============================] - 38s 27ms/step - loss: 0.1817 - accuracy: 0.9303\n",
            "Epoch 4/5\n",
            "1430/1430 [==============================] - 38s 27ms/step - loss: 0.1586 - accuracy: 0.9378\n",
            "Epoch 5/5\n",
            "1430/1430 [==============================] - 39s 27ms/step - loss: 0.1371 - accuracy: 0.9448\n",
            "358/358 [==============================] - 3s 6ms/step - loss: 0.2788 - accuracy: 0.9039\n",
            "Epoch 1/10\n",
            "1430/1430 [==============================] - 42s 27ms/step - loss: 0.3191 - accuracy: 0.8640\n",
            "Epoch 2/10\n",
            "1430/1430 [==============================] - 38s 27ms/step - loss: 0.2250 - accuracy: 0.9105\n",
            "Epoch 3/10\n",
            "1430/1430 [==============================] - 38s 27ms/step - loss: 0.1998 - accuracy: 0.9201\n",
            "Epoch 4/10\n",
            "1430/1430 [==============================] - 38s 27ms/step - loss: 0.1786 - accuracy: 0.9293\n",
            "Epoch 5/10\n",
            "1430/1430 [==============================] - 38s 27ms/step - loss: 0.1633 - accuracy: 0.9351\n",
            "Epoch 6/10\n",
            "1430/1430 [==============================] - 38s 26ms/step - loss: 0.1452 - accuracy: 0.9426\n",
            "Epoch 7/10\n",
            "1430/1430 [==============================] - 38s 27ms/step - loss: 0.1300 - accuracy: 0.9475\n",
            "Epoch 8/10\n",
            "1430/1430 [==============================] - 38s 27ms/step - loss: 0.1143 - accuracy: 0.9556\n",
            "Epoch 9/10\n",
            "1430/1430 [==============================] - 39s 27ms/step - loss: 0.1030 - accuracy: 0.9607\n",
            "Epoch 10/10\n",
            "1430/1430 [==============================] - 38s 27ms/step - loss: 0.0929 - accuracy: 0.9651\n",
            "358/358 [==============================] - 2s 6ms/step - loss: 0.3624 - accuracy: 0.9014\n",
            "Epoch 1/10\n",
            "1430/1430 [==============================] - 42s 27ms/step - loss: 0.3335 - accuracy: 0.8576\n",
            "Epoch 2/10\n",
            "1430/1430 [==============================] - 38s 27ms/step - loss: 0.2228 - accuracy: 0.9130\n",
            "Epoch 3/10\n",
            "1430/1430 [==============================] - 38s 27ms/step - loss: 0.1923 - accuracy: 0.9253\n",
            "Epoch 4/10\n",
            "1430/1430 [==============================] - 38s 27ms/step - loss: 0.1684 - accuracy: 0.9337\n",
            "Epoch 5/10\n",
            "1430/1430 [==============================] - 38s 27ms/step - loss: 0.1469 - accuracy: 0.9420\n",
            "Epoch 6/10\n",
            "1430/1430 [==============================] - 38s 27ms/step - loss: 0.1323 - accuracy: 0.9466\n",
            "Epoch 7/10\n",
            "1430/1430 [==============================] - 39s 27ms/step - loss: 0.1162 - accuracy: 0.9551\n",
            "Epoch 8/10\n",
            "1430/1430 [==============================] - 38s 26ms/step - loss: 0.1025 - accuracy: 0.9619\n",
            "Epoch 9/10\n",
            "1430/1430 [==============================] - 38s 27ms/step - loss: 0.0908 - accuracy: 0.9676\n",
            "Epoch 10/10\n",
            "1430/1430 [==============================] - 38s 27ms/step - loss: 0.0789 - accuracy: 0.9725\n",
            "358/358 [==============================] - 2s 6ms/step - loss: 0.3561 - accuracy: 0.8998\n",
            "Epoch 1/10\n",
            "1430/1430 [==============================] - 42s 27ms/step - loss: 0.5012 - accuracy: 0.7907\n",
            "Epoch 2/10\n",
            "1430/1430 [==============================] - 38s 27ms/step - loss: 0.4216 - accuracy: 0.8503\n",
            "Epoch 3/10\n",
            "1430/1430 [==============================] - 38s 27ms/step - loss: 0.4667 - accuracy: 0.8075\n",
            "Epoch 4/10\n",
            "1430/1430 [==============================] - 38s 27ms/step - loss: 0.6452 - accuracy: 0.6552\n",
            "Epoch 5/10\n",
            "1430/1430 [==============================] - 39s 27ms/step - loss: 0.3638 - accuracy: 0.8464\n",
            "Epoch 6/10\n",
            "1430/1430 [==============================] - 38s 26ms/step - loss: 0.2211 - accuracy: 0.9150\n",
            "Epoch 7/10\n",
            "1430/1430 [==============================] - 38s 27ms/step - loss: 0.1846 - accuracy: 0.9302\n",
            "Epoch 8/10\n",
            "1430/1430 [==============================] - 38s 26ms/step - loss: 0.1560 - accuracy: 0.9421\n",
            "Epoch 9/10\n",
            "1430/1430 [==============================] - 38s 26ms/step - loss: 0.1319 - accuracy: 0.9521\n",
            "Epoch 10/10\n",
            "1430/1430 [==============================] - 38s 27ms/step - loss: 0.1113 - accuracy: 0.9602\n",
            "358/358 [==============================] - 2s 6ms/step - loss: 0.3097 - accuracy: 0.9027\n",
            "Epoch 1/10\n",
            "1430/1430 [==============================] - 42s 27ms/step - loss: 0.3281 - accuracy: 0.8572\n",
            "Epoch 2/10\n",
            "1430/1430 [==============================] - 38s 27ms/step - loss: 0.2216 - accuracy: 0.9131\n",
            "Epoch 3/10\n",
            "1430/1430 [==============================] - 39s 27ms/step - loss: 0.1975 - accuracy: 0.9217\n",
            "Epoch 4/10\n",
            "1430/1430 [==============================] - 38s 27ms/step - loss: 0.1767 - accuracy: 0.9283\n",
            "Epoch 5/10\n",
            "1430/1430 [==============================] - 38s 26ms/step - loss: 0.1552 - accuracy: 0.9367\n",
            "Epoch 6/10\n",
            "1430/1430 [==============================] - 38s 27ms/step - loss: 0.1390 - accuracy: 0.9414\n",
            "Epoch 7/10\n",
            "1430/1430 [==============================] - 38s 26ms/step - loss: 0.1236 - accuracy: 0.9482\n",
            "Epoch 8/10\n",
            "1430/1430 [==============================] - 38s 26ms/step - loss: 0.1092 - accuracy: 0.9547\n",
            "Epoch 9/10\n",
            "1430/1430 [==============================] - 38s 27ms/step - loss: 0.0948 - accuracy: 0.9613\n",
            "Epoch 10/10\n",
            "1430/1430 [==============================] - 38s 27ms/step - loss: 0.0866 - accuracy: 0.9659\n",
            "358/358 [==============================] - 2s 6ms/step - loss: 0.3993 - accuracy: 0.8959\n",
            "Epoch 1/10\n",
            "1430/1430 [==============================] - 42s 27ms/step - loss: 0.3976 - accuracy: 0.8208\n",
            "Epoch 2/10\n",
            "1430/1430 [==============================] - 39s 27ms/step - loss: 0.2355 - accuracy: 0.9091\n",
            "Epoch 3/10\n",
            "1430/1430 [==============================] - 39s 27ms/step - loss: 0.2072 - accuracy: 0.9201\n",
            "Epoch 4/10\n",
            "1430/1430 [==============================] - 38s 27ms/step - loss: 0.1845 - accuracy: 0.9286\n",
            "Epoch 5/10\n",
            "1430/1430 [==============================] - 38s 27ms/step - loss: 0.1632 - accuracy: 0.9372\n",
            "Epoch 6/10\n",
            "1430/1430 [==============================] - 38s 27ms/step - loss: 0.1465 - accuracy: 0.9445\n",
            "Epoch 7/10\n",
            "1430/1430 [==============================] - 38s 27ms/step - loss: 0.1288 - accuracy: 0.9522\n",
            "Epoch 8/10\n",
            "1430/1430 [==============================] - 38s 27ms/step - loss: 0.1167 - accuracy: 0.9566\n",
            "Epoch 9/10\n",
            "1430/1430 [==============================] - 39s 27ms/step - loss: 0.1031 - accuracy: 0.9624\n",
            "Epoch 10/10\n",
            "1430/1430 [==============================] - 38s 27ms/step - loss: 0.0965 - accuracy: 0.9659\n",
            "358/358 [==============================] - 3s 6ms/step - loss: 0.3598 - accuracy: 0.8960\n",
            "Epoch 1/5\n",
            "715/715 [==============================] - 24s 29ms/step - loss: 0.4694 - accuracy: 0.7916\n",
            "Epoch 2/5\n",
            "715/715 [==============================] - 21s 29ms/step - loss: 0.3297 - accuracy: 0.8761\n",
            "Epoch 3/5\n",
            "715/715 [==============================] - 21s 29ms/step - loss: 0.2354 - accuracy: 0.9095\n",
            "Epoch 4/5\n",
            "715/715 [==============================] - 21s 29ms/step - loss: 0.2023 - accuracy: 0.9242\n",
            "Epoch 5/5\n",
            "715/715 [==============================] - 21s 29ms/step - loss: 0.1806 - accuracy: 0.9319\n",
            "179/179 [==============================] - 1s 6ms/step - loss: 0.2564 - accuracy: 0.9036\n",
            "Epoch 1/5\n",
            "715/715 [==============================] - 24s 30ms/step - loss: 0.5366 - accuracy: 0.7608\n",
            "Epoch 2/5\n",
            "715/715 [==============================] - 21s 30ms/step - loss: 0.4700 - accuracy: 0.8214\n",
            "Epoch 3/5\n",
            "715/715 [==============================] - 21s 29ms/step - loss: 0.4489 - accuracy: 0.8147\n",
            "Epoch 4/5\n",
            "715/715 [==============================] - 21s 30ms/step - loss: 0.4315 - accuracy: 0.8071\n",
            "Epoch 5/5\n",
            "715/715 [==============================] - 21s 29ms/step - loss: 0.2511 - accuracy: 0.9013\n",
            "179/179 [==============================] - 2s 7ms/step - loss: 0.2470 - accuracy: 0.9021\n",
            "Epoch 1/5\n",
            "715/715 [==============================] - 24s 29ms/step - loss: 0.4633 - accuracy: 0.7981\n",
            "Epoch 2/5\n",
            "715/715 [==============================] - 21s 30ms/step - loss: 0.2686 - accuracy: 0.8900\n",
            "Epoch 3/5\n",
            "715/715 [==============================] - 21s 29ms/step - loss: 0.2154 - accuracy: 0.9147\n",
            "Epoch 4/5\n",
            "715/715 [==============================] - 21s 29ms/step - loss: 0.1936 - accuracy: 0.9229\n",
            "Epoch 5/5\n",
            "715/715 [==============================] - 21s 29ms/step - loss: 0.1750 - accuracy: 0.9288\n",
            "179/179 [==============================] - 2s 7ms/step - loss: 0.2551 - accuracy: 0.8999\n",
            "Epoch 1/5\n",
            "715/715 [==============================] - 24s 29ms/step - loss: 0.3285 - accuracy: 0.8537\n",
            "Epoch 2/5\n",
            "715/715 [==============================] - 21s 29ms/step - loss: 0.2177 - accuracy: 0.9143\n",
            "Epoch 3/5\n",
            "715/715 [==============================] - 21s 29ms/step - loss: 0.1872 - accuracy: 0.9263\n",
            "Epoch 4/5\n",
            "715/715 [==============================] - 21s 29ms/step - loss: 0.1666 - accuracy: 0.9359\n",
            "Epoch 5/5\n",
            "715/715 [==============================] - 21s 29ms/step - loss: 0.1499 - accuracy: 0.9434\n",
            "179/179 [==============================] - 2s 6ms/step - loss: 0.2918 - accuracy: 0.9015\n",
            "Epoch 1/5\n",
            "715/715 [==============================] - 24s 29ms/step - loss: 0.3454 - accuracy: 0.8446\n",
            "Epoch 2/5\n",
            "715/715 [==============================] - 21s 29ms/step - loss: 0.2182 - accuracy: 0.9161\n",
            "Epoch 3/5\n",
            "715/715 [==============================] - 21s 29ms/step - loss: 0.1870 - accuracy: 0.9292\n",
            "Epoch 4/5\n",
            "715/715 [==============================] - 21s 29ms/step - loss: 0.1623 - accuracy: 0.9370\n",
            "Epoch 5/5\n",
            "715/715 [==============================] - 21s 29ms/step - loss: 0.1459 - accuracy: 0.9429\n",
            "179/179 [==============================] - 2s 7ms/step - loss: 0.2799 - accuracy: 0.8985\n",
            "Epoch 1/10\n",
            "715/715 [==============================] - 25s 31ms/step - loss: 0.4875 - accuracy: 0.7901\n",
            "Epoch 2/10\n",
            "715/715 [==============================] - 21s 30ms/step - loss: 0.4621 - accuracy: 0.8019\n",
            "Epoch 3/10\n",
            "715/715 [==============================] - 21s 29ms/step - loss: 0.4487 - accuracy: 0.8274\n",
            "Epoch 4/10\n",
            "715/715 [==============================] - 21s 29ms/step - loss: 0.4385 - accuracy: 0.8351\n",
            "Epoch 5/10\n",
            "715/715 [==============================] - 21s 29ms/step - loss: 0.4289 - accuracy: 0.8419\n",
            "Epoch 6/10\n",
            "715/715 [==============================] - 21s 30ms/step - loss: 0.4283 - accuracy: 0.8443\n",
            "Epoch 7/10\n",
            "715/715 [==============================] - 21s 29ms/step - loss: 0.4194 - accuracy: 0.8505\n",
            "Epoch 8/10\n",
            "715/715 [==============================] - 21s 29ms/step - loss: 0.4500 - accuracy: 0.8276\n",
            "Epoch 9/10\n",
            "715/715 [==============================] - 21s 29ms/step - loss: 0.4500 - accuracy: 0.8270\n",
            "Epoch 10/10\n",
            "715/715 [==============================] - 20s 29ms/step - loss: 0.4369 - accuracy: 0.8337\n",
            "179/179 [==============================] - 2s 7ms/step - loss: 0.4606 - accuracy: 0.8184\n",
            "Epoch 1/10\n",
            "715/715 [==============================] - 24s 29ms/step - loss: 0.3751 - accuracy: 0.8318\n",
            "Epoch 2/10\n",
            "715/715 [==============================] - 20s 29ms/step - loss: 0.2230 - accuracy: 0.9130\n",
            "Epoch 3/10\n",
            "715/715 [==============================] - 21s 29ms/step - loss: 0.1930 - accuracy: 0.9259\n",
            "Epoch 4/10\n",
            "715/715 [==============================] - 20s 29ms/step - loss: 0.1721 - accuracy: 0.9341\n",
            "Epoch 5/10\n",
            "715/715 [==============================] - 21s 29ms/step - loss: 0.1533 - accuracy: 0.9410\n",
            "Epoch 6/10\n",
            "715/715 [==============================] - 21s 29ms/step - loss: 0.1391 - accuracy: 0.9464\n",
            "Epoch 7/10\n",
            "715/715 [==============================] - 21s 29ms/step - loss: 0.1230 - accuracy: 0.9527\n",
            "Epoch 8/10\n",
            "715/715 [==============================] - 21s 29ms/step - loss: 0.1111 - accuracy: 0.9577\n",
            "Epoch 9/10\n",
            "715/715 [==============================] - 21s 29ms/step - loss: 0.1018 - accuracy: 0.9622\n",
            "Epoch 10/10\n",
            "715/715 [==============================] - 21s 29ms/step - loss: 0.0921 - accuracy: 0.9667\n",
            "179/179 [==============================] - 2s 7ms/step - loss: 0.3638 - accuracy: 0.8946\n",
            "Epoch 1/10\n",
            "715/715 [==============================] - 24s 30ms/step - loss: 0.4617 - accuracy: 0.8028\n",
            "Epoch 2/10\n",
            "715/715 [==============================] - 21s 30ms/step - loss: 0.2601 - accuracy: 0.8978\n",
            "Epoch 3/10\n",
            "715/715 [==============================] - 21s 29ms/step - loss: 0.2122 - accuracy: 0.9177\n",
            "Epoch 4/10\n",
            "715/715 [==============================] - 21s 29ms/step - loss: 0.1882 - accuracy: 0.9267\n",
            "Epoch 5/10\n",
            "715/715 [==============================] - 21s 30ms/step - loss: 0.1680 - accuracy: 0.9345\n",
            "Epoch 6/10\n",
            "715/715 [==============================] - 21s 30ms/step - loss: 0.1565 - accuracy: 0.9396\n",
            "Epoch 7/10\n",
            "715/715 [==============================] - 21s 29ms/step - loss: 0.1403 - accuracy: 0.9458\n",
            "Epoch 8/10\n",
            "715/715 [==============================] - 21s 29ms/step - loss: 0.1274 - accuracy: 0.9509\n",
            "Epoch 9/10\n",
            "715/715 [==============================] - 21s 29ms/step - loss: 0.1134 - accuracy: 0.9567\n",
            "Epoch 10/10\n",
            "715/715 [==============================] - 21s 29ms/step - loss: 0.1027 - accuracy: 0.9619\n",
            "179/179 [==============================] - 2s 7ms/step - loss: 0.3485 - accuracy: 0.8949\n",
            "Epoch 1/10\n",
            "715/715 [==============================] - 24s 29ms/step - loss: 0.3571 - accuracy: 0.8399\n",
            "Epoch 2/10\n",
            "715/715 [==============================] - 20s 28ms/step - loss: 0.2223 - accuracy: 0.9124\n",
            "Epoch 3/10\n",
            "715/715 [==============================] - 20s 28ms/step - loss: 0.1959 - accuracy: 0.9213\n",
            "Epoch 4/10\n",
            "715/715 [==============================] - 20s 28ms/step - loss: 0.1785 - accuracy: 0.9281\n",
            "Epoch 5/10\n",
            "715/715 [==============================] - 20s 28ms/step - loss: 0.1609 - accuracy: 0.9349\n",
            "Epoch 6/10\n",
            "715/715 [==============================] - 20s 28ms/step - loss: 0.1460 - accuracy: 0.9410\n",
            "Epoch 7/10\n",
            "715/715 [==============================] - 20s 28ms/step - loss: 0.1327 - accuracy: 0.9460\n",
            "Epoch 8/10\n",
            "715/715 [==============================] - 20s 28ms/step - loss: 0.1207 - accuracy: 0.9521\n",
            "Epoch 9/10\n",
            "715/715 [==============================] - 20s 28ms/step - loss: 0.1118 - accuracy: 0.9553\n",
            "Epoch 10/10\n",
            "715/715 [==============================] - 20s 28ms/step - loss: 0.1036 - accuracy: 0.9581\n",
            "179/179 [==============================] - 2s 7ms/step - loss: 0.3601 - accuracy: 0.8963\n",
            "Epoch 1/10\n",
            "715/715 [==============================] - 23s 28ms/step - loss: 0.3572 - accuracy: 0.8418\n",
            "Epoch 2/10\n",
            "715/715 [==============================] - 20s 28ms/step - loss: 0.2244 - accuracy: 0.9104\n",
            "Epoch 3/10\n",
            "715/715 [==============================] - 20s 28ms/step - loss: 0.1985 - accuracy: 0.9212\n",
            "Epoch 4/10\n",
            "715/715 [==============================] - 20s 28ms/step - loss: 0.1759 - accuracy: 0.9278\n",
            "Epoch 5/10\n",
            "715/715 [==============================] - 20s 28ms/step - loss: 0.1550 - accuracy: 0.9345\n",
            "Epoch 6/10\n",
            "715/715 [==============================] - 20s 28ms/step - loss: 0.1358 - accuracy: 0.9411\n",
            "Epoch 7/10\n",
            "715/715 [==============================] - 20s 28ms/step - loss: 0.1211 - accuracy: 0.9484\n",
            "Epoch 8/10\n",
            "715/715 [==============================] - 20s 28ms/step - loss: 0.1092 - accuracy: 0.9533\n",
            "Epoch 9/10\n",
            "715/715 [==============================] - 20s 28ms/step - loss: 0.0953 - accuracy: 0.9615\n",
            "Epoch 10/10\n",
            "715/715 [==============================] - 20s 28ms/step - loss: 0.0894 - accuracy: 0.9636\n",
            "179/179 [==============================] - 2s 7ms/step - loss: 0.3779 - accuracy: 0.8933\n",
            "Epoch 1/5\n",
            "1787/1787 [==============================] - 50s 26ms/step - loss: 0.3055 - accuracy: 0.8682\n",
            "Epoch 2/5\n",
            "1787/1787 [==============================] - 46s 26ms/step - loss: 0.2137 - accuracy: 0.9170\n",
            "Epoch 3/5\n",
            "1787/1787 [==============================] - 46s 26ms/step - loss: 0.1835 - accuracy: 0.9276\n",
            "Epoch 4/5\n",
            "1787/1787 [==============================] - 46s 26ms/step - loss: 0.1607 - accuracy: 0.9368\n",
            "Epoch 5/5\n",
            "1787/1787 [==============================] - 46s 26ms/step - loss: 0.1405 - accuracy: 0.9445\n",
            "Parameters for LSTM:  {'batch_size': 32, 'epochs': 5}\n",
            "1787/1787 [==============================] - 10s 6ms/step\n",
            "447/447 [==============================] - 3s 6ms/step\n",
            "LSTM classification report:\n",
            "               precision    recall  f1-score   support\n",
            "\n",
            "           0       0.92      0.94      0.93      9377\n",
            "           1       0.88      0.85      0.87      4918\n",
            "\n",
            "    accuracy                           0.91     14295\n",
            "   macro avg       0.90      0.90      0.90     14295\n",
            "weighted avg       0.91      0.91      0.91     14295\n",
            "\n",
            "LSTM train accuracy: 0.9611570681543924\n",
            "LSTM test accuracy: 0.9086393844001399\n"
          ]
        }
      ],
      "source": [
        "model_lstm = KerasClassifier(build_fn=create_model_lstm)\n",
        "param_grid_lstm = {'epochs': [5,10], 'batch_size': [32,64]}\n",
        "grid_lstm = GridSearchCV(model_lstm, param_grid_lstm, cv=5)\n",
        "grid_lstm.fit(X_train_pad, y_train_enc)\n",
        "print(\"Parameters for LSTM: \", grid_lstm.best_params_)\n",
        "\n",
        "pred_train_lstm = grid_lstm.predict(X_train_pad)\n",
        "pred_test_lstm = grid_lstm.predict(X_test_pad)\n",
        "print(\"LSTM classification report:\\n\", classification_report(y_test_enc, pred_test_lstm))\n",
        "\n",
        "train_score_lstm = accuracy_score(pred_train_lstm, y_train)\n",
        "test_score_lstm = accuracy_score(pred_test_lstm, y_test)\n",
        "\n",
        "print(\"LSTM train accuracy:\", train_score_lstm)\n",
        "print(\"LSTM test accuracy:\", test_score_lstm)"
      ]
    },
    {
      "cell_type": "code",
      "source": [
        "# Confusion matrix for the test set predictions and true labels\n",
        "cm_lstm = confusion_matrix(y_test, pred_test_lstm)\n",
        "\n",
        "# Plot confusion matrix as heatmap\n",
        "sns.heatmap(cm_lstm, annot=True, cmap='Blues', fmt='d')\n",
        "# The title, x-label, and y-label of the confusion matrix plot are set and the plot is displayed using plt.show()\n",
        "plt.title('Confusion matrix for LSTM')\n",
        "plt.xlabel('Predicted label')\n",
        "plt.ylabel('True label')\n",
        "plt.show()"
      ],
      "metadata": {
        "colab": {
          "base_uri": "https://localhost:8080/",
          "height": 472
        },
        "id": "CyASUNK4pWyK",
        "outputId": "5a067e5d-9bee-41b6-8554-ae67aeafd14a"
      },
      "execution_count": null,
      "outputs": [
        {
          "output_type": "display_data",
          "data": {
            "text/plain": [
              "<Figure size 640x480 with 2 Axes>"
            ],
            "image/png": "[encoded data removed]"
          },
          "metadata": {}
        }
      ]
    },
    {
      "cell_type": "markdown",
      "metadata": {
        "id": "GX8brgcy1YpW"
      },
      "source": [
        "#### Bidirectional LSTM"
      ]
    },
    {
      "cell_type": "code",
      "source": [
        "# Bidirectional LSTM\n",
        "def create_model_bilstm():\n",
        "    model = Sequential()\n",
        "    model.add(Embedding(max_words, 64, input_length=max_len))\n",
        "    model.add(Bidirectional(LSTM(64, dropout=0.2, recurrent_dropout=0.2)))\n",
        "    model.add(Dense(1, activation='sigmoid'))\n",
        "    model.compile(loss='binary_crossentropy', optimizer='adam', metrics=['accuracy'])\n",
        "    return model"
      ],
      "metadata": {
        "id": "aeahWxzJMUBF"
      },
      "execution_count": null,
      "outputs": []
    },
    {
      "cell_type": "code",
      "source": [
        "model_bilstm = KerasClassifier(build_fn=create_model_bilstm)\n",
        "param_grid_bilstm = {'epochs': [5,10], 'batch_size': [32,64]}\n",
        "grid_bilstm = GridSearchCV(model_bilstm, param_grid_bilstm, cv=5)\n",
        "grid_bilstm.fit(X_train_pad, y_train_enc)\n",
        "print(\"Parameters for Bidirectional LSTM: \", grid_bilstm.best_params_)\n",
        "\n",
        "pred_train_bilstm = grid_bilstm.predict(X_train_pad)\n",
        "pred_test_bilstm = grid_bilstm.predict(X_test_pad)\n",
        "print(\"Bidirectional LSTM classification report:\\n\", classification_report(y_test_enc, pred_test_bilstm))\n",
        "\n",
        "train_score_bilstm = accuracy_score(pred_train_bilstm, y_train)\n",
        "test_score_bilstm = accuracy_score(pred_test_bilstm, y_test)\n",
        "\n",
        "print(\"Bidirectional LSTM train accuracy:\", train_score_bilstm)\n",
        "print(\"Bidirectional LSTM test accuracy:\", test_score_bilstm)"
      ],
      "metadata": {
        "colab": {
          "base_uri": "https://localhost:8080/"
        },
        "id": "jehQ8PPpMX7E",
        "outputId": "c7589ef3-5d2a-4ad6-881a-24dc6ed5d656"
      },
      "execution_count": null,
      "outputs": [
        {
          "output_type": "stream",
          "name": "stderr",
          "text": [
            "<ipython-input-36-156970a8975a>:1: DeprecationWarning: KerasClassifier is deprecated, use Sci-Keras (https://github.com/adriangb/scikeras) instead. See https://www.adriangb.com/scikeras/stable/migration.html for help migrating.\n",
            "  model_bilstm = KerasClassifier(build_fn=create_model_bilstm)\n"
          ]
        },
        {
          "output_type": "stream",
          "name": "stdout",
          "text": [
            "Epoch 1/5\n",
            "1430/1430 [==============================] - 67s 42ms/step - loss: 0.2830 - accuracy: 0.8763\n",
            "Epoch 2/5\n",
            "1430/1430 [==============================] - 53s 37ms/step - loss: 0.1921 - accuracy: 0.9213\n",
            "Epoch 3/5\n",
            "1430/1430 [==============================] - 53s 37ms/step - loss: 0.1598 - accuracy: 0.9347\n",
            "Epoch 4/5\n",
            "1430/1430 [==============================] - 54s 38ms/step - loss: 0.1352 - accuracy: 0.9457\n",
            "Epoch 5/5\n",
            "1430/1430 [==============================] - 53s 37ms/step - loss: 0.1144 - accuracy: 0.9539\n",
            "358/358 [==============================] - 4s 10ms/step - loss: 0.2814 - accuracy: 0.9035\n",
            "Epoch 1/5\n",
            "1430/1430 [==============================] - 57s 36ms/step - loss: 0.2835 - accuracy: 0.8762\n",
            "Epoch 2/5\n",
            "1430/1430 [==============================] - 53s 37ms/step - loss: 0.1918 - accuracy: 0.9217\n",
            "Epoch 3/5\n",
            "1430/1430 [==============================] - 53s 37ms/step - loss: 0.1598 - accuracy: 0.9351\n",
            "Epoch 4/5\n",
            "1430/1430 [==============================] - 52s 36ms/step - loss: 0.1355 - accuracy: 0.9452\n",
            "Epoch 5/5\n",
            "1430/1430 [==============================] - 53s 37ms/step - loss: 0.1136 - accuracy: 0.9538\n",
            "358/358 [==============================] - 4s 9ms/step - loss: 0.3131 - accuracy: 0.9056\n",
            "Epoch 1/5\n",
            "1430/1430 [==============================] - 62s 38ms/step - loss: 0.2860 - accuracy: 0.8747\n",
            "Epoch 2/5\n",
            "1430/1430 [==============================] - 57s 40ms/step - loss: 0.1942 - accuracy: 0.9200\n",
            "Epoch 3/5\n",
            "1430/1430 [==============================] - 55s 39ms/step - loss: 0.1608 - accuracy: 0.9347\n",
            "Epoch 4/5\n",
            "1430/1430 [==============================] - 58s 40ms/step - loss: 0.1355 - accuracy: 0.9457\n",
            "Epoch 5/5\n",
            "1430/1430 [==============================] - 58s 41ms/step - loss: 0.1146 - accuracy: 0.9542\n",
            "358/358 [==============================] - 4s 9ms/step - loss: 0.2837 - accuracy: 0.9021\n",
            "Epoch 1/5\n",
            "1430/1430 [==============================] - 66s 42ms/step - loss: 0.2849 - accuracy: 0.8739\n",
            "Epoch 2/5\n",
            "1430/1430 [==============================] - 59s 42ms/step - loss: 0.1904 - accuracy: 0.9227\n",
            "Epoch 3/5\n",
            "1430/1430 [==============================] - 60s 42ms/step - loss: 0.1553 - accuracy: 0.9364\n",
            "Epoch 4/5\n",
            "1430/1430 [==============================] - 59s 41ms/step - loss: 0.1315 - accuracy: 0.9463\n",
            "Epoch 5/5\n",
            "1430/1430 [==============================] - 59s 41ms/step - loss: 0.1115 - accuracy: 0.9554\n",
            "358/358 [==============================] - 4s 10ms/step - loss: 0.3112 - accuracy: 0.8982\n",
            "Epoch 1/5\n",
            "1430/1430 [==============================] - 62s 39ms/step - loss: 0.2867 - accuracy: 0.8722\n",
            "Epoch 2/5\n",
            "1430/1430 [==============================] - 56s 39ms/step - loss: 0.1939 - accuracy: 0.9210\n",
            "Epoch 3/5\n",
            "1430/1430 [==============================] - 51s 36ms/step - loss: 0.1619 - accuracy: 0.9337\n",
            "Epoch 4/5\n",
            "1430/1430 [==============================] - 54s 38ms/step - loss: 0.1353 - accuracy: 0.9454\n",
            "Epoch 5/5\n",
            "1430/1430 [==============================] - 55s 39ms/step - loss: 0.1173 - accuracy: 0.9539\n",
            "358/358 [==============================] - 4s 11ms/step - loss: 0.2771 - accuracy: 0.9032\n",
            "Epoch 1/10\n",
            "1430/1430 [==============================] - 62s 39ms/step - loss: 0.2957 - accuracy: 0.8704\n",
            "Epoch 2/10\n",
            "1430/1430 [==============================] - 57s 40ms/step - loss: 0.1944 - accuracy: 0.9207\n",
            "Epoch 3/10\n",
            "1430/1430 [==============================] - 57s 40ms/step - loss: 0.1633 - accuracy: 0.9344\n",
            "Epoch 4/10\n",
            "1430/1430 [==============================] - 57s 40ms/step - loss: 0.1393 - accuracy: 0.9438\n",
            "Epoch 5/10\n",
            "1430/1430 [==============================] - 52s 37ms/step - loss: 0.1169 - accuracy: 0.9533\n",
            "Epoch 6/10\n",
            "1430/1430 [==============================] - 53s 37ms/step - loss: 0.0979 - accuracy: 0.9611\n",
            "Epoch 7/10\n",
            "1430/1430 [==============================] - 53s 37ms/step - loss: 0.0793 - accuracy: 0.9685\n",
            "Epoch 8/10\n",
            "1430/1430 [==============================] - 54s 37ms/step - loss: 0.0642 - accuracy: 0.9751\n",
            "Epoch 9/10\n",
            "1430/1430 [==============================] - 54s 38ms/step - loss: 0.0498 - accuracy: 0.9806\n",
            "Epoch 10/10\n",
            "1430/1430 [==============================] - 54s 38ms/step - loss: 0.0399 - accuracy: 0.9856\n",
            "358/358 [==============================] - 4s 10ms/step - loss: 0.4896 - accuracy: 0.9012\n",
            "Epoch 1/10\n",
            "1430/1430 [==============================] - 61s 38ms/step - loss: 0.2857 - accuracy: 0.8742\n",
            "Epoch 2/10\n",
            "1430/1430 [==============================] - 58s 40ms/step - loss: 0.1940 - accuracy: 0.9208\n",
            "Epoch 3/10\n",
            "1430/1430 [==============================] - 56s 39ms/step - loss: 0.1624 - accuracy: 0.9341\n",
            "Epoch 4/10\n",
            "1430/1430 [==============================] - 57s 40ms/step - loss: 0.1368 - accuracy: 0.9436\n",
            "Epoch 5/10\n",
            "1430/1430 [==============================] - 57s 40ms/step - loss: 0.1150 - accuracy: 0.9536\n",
            "Epoch 6/10\n",
            "1430/1430 [==============================] - 56s 39ms/step - loss: 0.0970 - accuracy: 0.9613\n",
            "Epoch 7/10\n",
            "1430/1430 [==============================] - 58s 41ms/step - loss: 0.0791 - accuracy: 0.9688\n",
            "Epoch 8/10\n",
            "1430/1430 [==============================] - 59s 41ms/step - loss: 0.0629 - accuracy: 0.9761\n",
            "Epoch 9/10\n",
            "1430/1430 [==============================] - 57s 40ms/step - loss: 0.0519 - accuracy: 0.9808\n",
            "Epoch 10/10\n",
            "1430/1430 [==============================] - 57s 40ms/step - loss: 0.0402 - accuracy: 0.9854\n",
            "358/358 [==============================] - 4s 9ms/step - loss: 0.4930 - accuracy: 0.8998\n",
            "Epoch 1/10\n",
            "1430/1430 [==============================] - 64s 40ms/step - loss: 0.2886 - accuracy: 0.8724\n",
            "Epoch 2/10\n",
            "1430/1430 [==============================] - 59s 41ms/step - loss: 0.1963 - accuracy: 0.9195\n",
            "Epoch 3/10\n",
            "1430/1430 [==============================] - 58s 41ms/step - loss: 0.1634 - accuracy: 0.9331\n",
            "Epoch 4/10\n",
            "1430/1430 [==============================] - 57s 40ms/step - loss: 0.1362 - accuracy: 0.9437\n",
            "Epoch 5/10\n",
            "1430/1430 [==============================] - 58s 41ms/step - loss: 0.1155 - accuracy: 0.9530\n",
            "Epoch 6/10\n",
            "1430/1430 [==============================] - 58s 40ms/step - loss: 0.0961 - accuracy: 0.9616\n",
            "Epoch 7/10\n",
            "1430/1430 [==============================] - 57s 40ms/step - loss: 0.0783 - accuracy: 0.9692\n",
            "Epoch 8/10\n",
            "1430/1430 [==============================] - 56s 39ms/step - loss: 0.0661 - accuracy: 0.9751\n",
            "Epoch 9/10\n",
            "1430/1430 [==============================] - 56s 39ms/step - loss: 0.0519 - accuracy: 0.9805\n",
            "Epoch 10/10\n",
            "1430/1430 [==============================] - 53s 37ms/step - loss: 0.0439 - accuracy: 0.9840\n",
            "358/358 [==============================] - 4s 10ms/step - loss: 0.4679 - accuracy: 0.8946\n",
            "Epoch 1/10\n",
            "1430/1430 [==============================] - 58s 36ms/step - loss: 0.2812 - accuracy: 0.8768\n",
            "Epoch 2/10\n",
            "1430/1430 [==============================] - 52s 37ms/step - loss: 0.1921 - accuracy: 0.9225\n",
            "Epoch 3/10\n",
            "1430/1430 [==============================] - 53s 37ms/step - loss: 0.1614 - accuracy: 0.9361\n",
            "Epoch 4/10\n",
            "1430/1430 [==============================] - 54s 38ms/step - loss: 0.1364 - accuracy: 0.9458\n",
            "Epoch 5/10\n",
            "1430/1430 [==============================] - 53s 37ms/step - loss: 0.1145 - accuracy: 0.9546\n",
            "Epoch 6/10\n",
            "1430/1430 [==============================] - 53s 37ms/step - loss: 0.0955 - accuracy: 0.9620\n",
            "Epoch 7/10\n",
            "1430/1430 [==============================] - 53s 37ms/step - loss: 0.0792 - accuracy: 0.9690\n",
            "Epoch 8/10\n",
            "1430/1430 [==============================] - 53s 37ms/step - loss: 0.0673 - accuracy: 0.9741\n",
            "Epoch 9/10\n",
            "1430/1430 [==============================] - 53s 37ms/step - loss: 0.0550 - accuracy: 0.9787\n",
            "Epoch 10/10\n",
            "1430/1430 [==============================] - 52s 37ms/step - loss: 0.0447 - accuracy: 0.9831\n",
            "358/358 [==============================] - 5s 11ms/step - loss: 0.4990 - accuracy: 0.8940\n",
            "Epoch 1/10\n",
            "1430/1430 [==============================] - 59s 36ms/step - loss: 0.2870 - accuracy: 0.8733\n",
            "Epoch 2/10\n",
            "1430/1430 [==============================] - 52s 37ms/step - loss: 0.1918 - accuracy: 0.9220\n",
            "Epoch 3/10\n",
            "1430/1430 [==============================] - 52s 36ms/step - loss: 0.1602 - accuracy: 0.9357\n",
            "Epoch 4/10\n",
            "1430/1430 [==============================] - 53s 37ms/step - loss: 0.1360 - accuracy: 0.9449\n",
            "Epoch 5/10\n",
            "1430/1430 [==============================] - 52s 36ms/step - loss: 0.1142 - accuracy: 0.9543\n",
            "Epoch 6/10\n",
            "1430/1430 [==============================] - 52s 37ms/step - loss: 0.0963 - accuracy: 0.9621\n",
            "Epoch 7/10\n",
            "1430/1430 [==============================] - 53s 37ms/step - loss: 0.0780 - accuracy: 0.9697\n",
            "Epoch 8/10\n",
            "1430/1430 [==============================] - 53s 37ms/step - loss: 0.0649 - accuracy: 0.9754\n",
            "Epoch 9/10\n",
            "1430/1430 [==============================] - 52s 36ms/step - loss: 0.0512 - accuracy: 0.9813\n",
            "Epoch 10/10\n",
            "1430/1430 [==============================] - 53s 37ms/step - loss: 0.0428 - accuracy: 0.9848\n",
            "358/358 [==============================] - 5s 11ms/step - loss: 0.4850 - accuracy: 0.8958\n",
            "Epoch 1/5\n",
            "715/715 [==============================] - 35s 40ms/step - loss: 0.3036 - accuracy: 0.8639\n",
            "Epoch 2/5\n",
            "715/715 [==============================] - 29s 40ms/step - loss: 0.1985 - accuracy: 0.9188\n",
            "Epoch 3/5\n",
            "715/715 [==============================] - 29s 40ms/step - loss: 0.1683 - accuracy: 0.9314\n",
            "Epoch 4/5\n",
            "715/715 [==============================] - 28s 39ms/step - loss: 0.1444 - accuracy: 0.9423\n",
            "Epoch 5/5\n",
            "715/715 [==============================] - 28s 39ms/step - loss: 0.1247 - accuracy: 0.9496\n",
            "179/179 [==============================] - 3s 12ms/step - loss: 0.2710 - accuracy: 0.9069\n",
            "Epoch 1/5\n",
            "715/715 [==============================] - 36s 40ms/step - loss: 0.3032 - accuracy: 0.8653\n",
            "Epoch 2/5\n",
            "715/715 [==============================] - 28s 39ms/step - loss: 0.1992 - accuracy: 0.9198\n",
            "Epoch 3/5\n",
            "715/715 [==============================] - 28s 40ms/step - loss: 0.1676 - accuracy: 0.9332\n",
            "Epoch 4/5\n",
            "715/715 [==============================] - 29s 41ms/step - loss: 0.1454 - accuracy: 0.9412\n",
            "Epoch 5/5\n",
            "715/715 [==============================] - 29s 40ms/step - loss: 0.1246 - accuracy: 0.9499\n",
            "179/179 [==============================] - 3s 12ms/step - loss: 0.2680 - accuracy: 0.9049\n",
            "Epoch 1/5\n",
            "715/715 [==============================] - 35s 40ms/step - loss: 0.3009 - accuracy: 0.8673\n",
            "Epoch 2/5\n",
            "715/715 [==============================] - 29s 40ms/step - loss: 0.1980 - accuracy: 0.9197\n",
            "Epoch 3/5\n",
            "715/715 [==============================] - 29s 40ms/step - loss: 0.1703 - accuracy: 0.9316\n",
            "Epoch 4/5\n",
            "715/715 [==============================] - 28s 40ms/step - loss: 0.1476 - accuracy: 0.9406\n",
            "Epoch 5/5\n",
            "715/715 [==============================] - 28s 40ms/step - loss: 0.1289 - accuracy: 0.9479\n",
            "179/179 [==============================] - 3s 11ms/step - loss: 0.2677 - accuracy: 0.9022\n",
            "Epoch 1/5\n",
            "715/715 [==============================] - 36s 40ms/step - loss: 0.3010 - accuracy: 0.8662\n",
            "Epoch 2/5\n",
            "715/715 [==============================] - 28s 40ms/step - loss: 0.1950 - accuracy: 0.9205\n",
            "Epoch 3/5\n",
            "715/715 [==============================] - 28s 40ms/step - loss: 0.1657 - accuracy: 0.9336\n",
            "Epoch 4/5\n",
            "715/715 [==============================] - 29s 41ms/step - loss: 0.1413 - accuracy: 0.9438\n",
            "Epoch 5/5\n",
            "715/715 [==============================] - 30s 42ms/step - loss: 0.1213 - accuracy: 0.9509\n",
            "179/179 [==============================] - 3s 11ms/step - loss: 0.2959 - accuracy: 0.8984\n",
            "Epoch 1/5\n",
            "715/715 [==============================] - 34s 39ms/step - loss: 0.3083 - accuracy: 0.8591\n",
            "Epoch 2/5\n",
            "715/715 [==============================] - 28s 40ms/step - loss: 0.2026 - accuracy: 0.9178\n",
            "Epoch 3/5\n",
            "715/715 [==============================] - 29s 40ms/step - loss: 0.1751 - accuracy: 0.9291\n",
            "Epoch 4/5\n",
            "715/715 [==============================] - 28s 40ms/step - loss: 0.1524 - accuracy: 0.9399\n",
            "Epoch 5/5\n",
            "715/715 [==============================] - 28s 39ms/step - loss: 0.1323 - accuracy: 0.9477\n",
            "179/179 [==============================] - 3s 12ms/step - loss: 0.2580 - accuracy: 0.9033\n",
            "Epoch 1/10\n",
            "715/715 [==============================] - 35s 39ms/step - loss: 0.3004 - accuracy: 0.8662\n",
            "Epoch 2/10\n",
            "715/715 [==============================] - 28s 39ms/step - loss: 0.1967 - accuracy: 0.9197\n",
            "Epoch 3/10\n",
            "715/715 [==============================] - 27s 38ms/step - loss: 0.1665 - accuracy: 0.9323\n",
            "Epoch 4/10\n",
            "715/715 [==============================] - 28s 40ms/step - loss: 0.1449 - accuracy: 0.9418\n",
            "Epoch 5/10\n",
            "715/715 [==============================] - 29s 41ms/step - loss: 0.1259 - accuracy: 0.9494\n",
            "Epoch 6/10\n",
            "715/715 [==============================] - 28s 39ms/step - loss: 0.1083 - accuracy: 0.9570\n",
            "Epoch 7/10\n",
            "715/715 [==============================] - 28s 39ms/step - loss: 0.0949 - accuracy: 0.9625\n",
            "Epoch 8/10\n",
            "715/715 [==============================] - 28s 40ms/step - loss: 0.0817 - accuracy: 0.9674\n",
            "Epoch 9/10\n",
            "715/715 [==============================] - 28s 39ms/step - loss: 0.0702 - accuracy: 0.9727\n",
            "Epoch 10/10\n",
            "715/715 [==============================] - 28s 39ms/step - loss: 0.0595 - accuracy: 0.9776\n",
            "179/179 [==============================] - 3s 11ms/step - loss: 0.4338 - accuracy: 0.8997\n",
            "Epoch 1/10\n",
            "715/715 [==============================] - 34s 39ms/step - loss: 0.3021 - accuracy: 0.8640\n",
            "Epoch 2/10\n",
            "715/715 [==============================] - 28s 40ms/step - loss: 0.1990 - accuracy: 0.9203\n",
            "Epoch 3/10\n",
            "715/715 [==============================] - 28s 40ms/step - loss: 0.1678 - accuracy: 0.9330\n",
            "Epoch 4/10\n",
            "715/715 [==============================] - 29s 40ms/step - loss: 0.1454 - accuracy: 0.9420\n",
            "Epoch 5/10\n",
            "715/715 [==============================] - 29s 40ms/step - loss: 0.1270 - accuracy: 0.9490\n",
            "Epoch 6/10\n",
            "715/715 [==============================] - 28s 39ms/step - loss: 0.1105 - accuracy: 0.9553\n",
            "Epoch 7/10\n",
            "715/715 [==============================] - 28s 39ms/step - loss: 0.0981 - accuracy: 0.9605\n",
            "Epoch 8/10\n",
            "715/715 [==============================] - 28s 39ms/step - loss: 0.0840 - accuracy: 0.9670\n",
            "Epoch 9/10\n",
            "715/715 [==============================] - 29s 40ms/step - loss: 0.0755 - accuracy: 0.9705\n",
            "Epoch 10/10\n",
            "715/715 [==============================] - 27s 38ms/step - loss: 0.0646 - accuracy: 0.9750\n",
            "179/179 [==============================] - 2s 10ms/step - loss: 0.4369 - accuracy: 0.9016\n",
            "Epoch 1/10\n",
            "715/715 [==============================] - 35s 40ms/step - loss: 0.3018 - accuracy: 0.8670\n",
            "Epoch 2/10\n",
            "715/715 [==============================] - 29s 41ms/step - loss: 0.1983 - accuracy: 0.9195\n",
            "Epoch 3/10\n",
            "715/715 [==============================] - 30s 42ms/step - loss: 0.1647 - accuracy: 0.9318\n",
            "Epoch 4/10\n",
            "715/715 [==============================] - 29s 40ms/step - loss: 0.1422 - accuracy: 0.9429\n",
            "Epoch 5/10\n",
            "715/715 [==============================] - 29s 41ms/step - loss: 0.1241 - accuracy: 0.9499\n",
            "Epoch 6/10\n",
            "715/715 [==============================] - 30s 42ms/step - loss: 0.1071 - accuracy: 0.9571\n",
            "Epoch 7/10\n",
            "715/715 [==============================] - 30s 41ms/step - loss: 0.0932 - accuracy: 0.9627\n",
            "Epoch 8/10\n",
            "715/715 [==============================] - 29s 40ms/step - loss: 0.0808 - accuracy: 0.9682\n",
            "Epoch 9/10\n",
            "715/715 [==============================] - 29s 40ms/step - loss: 0.0687 - accuracy: 0.9733\n",
            "Epoch 10/10\n",
            "715/715 [==============================] - 29s 41ms/step - loss: 0.0587 - accuracy: 0.9773\n",
            "179/179 [==============================] - 2s 10ms/step - loss: 0.4503 - accuracy: 0.8938\n",
            "Epoch 1/10\n",
            "715/715 [==============================] - 34s 39ms/step - loss: 0.3067 - accuracy: 0.8632\n",
            "Epoch 2/10\n",
            "715/715 [==============================] - 29s 40ms/step - loss: 0.2016 - accuracy: 0.9180\n",
            "Epoch 3/10\n",
            "715/715 [==============================] - 29s 41ms/step - loss: 0.1724 - accuracy: 0.9304\n",
            "Epoch 4/10\n",
            "715/715 [==============================] - 28s 40ms/step - loss: 0.1491 - accuracy: 0.9406\n",
            "Epoch 5/10\n",
            "715/715 [==============================] - 30s 42ms/step - loss: 0.1275 - accuracy: 0.9479\n",
            "Epoch 6/10\n",
            "715/715 [==============================] - 30s 41ms/step - loss: 0.1095 - accuracy: 0.9561\n",
            "Epoch 7/10\n",
            "715/715 [==============================] - 29s 41ms/step - loss: 0.0934 - accuracy: 0.9624\n",
            "Epoch 8/10\n",
            "715/715 [==============================] - 30s 42ms/step - loss: 0.0821 - accuracy: 0.9676\n",
            "Epoch 9/10\n",
            "715/715 [==============================] - 30s 42ms/step - loss: 0.0700 - accuracy: 0.9712\n",
            "Epoch 10/10\n",
            "715/715 [==============================] - 30s 42ms/step - loss: 0.0616 - accuracy: 0.9752\n",
            "179/179 [==============================] - 2s 10ms/step - loss: 0.4484 - accuracy: 0.8953\n",
            "Epoch 1/10\n",
            "715/715 [==============================] - 37s 43ms/step - loss: 0.3027 - accuracy: 0.8635\n",
            "Epoch 2/10\n",
            "715/715 [==============================] - 30s 43ms/step - loss: 0.1978 - accuracy: 0.9195\n",
            "Epoch 3/10\n",
            "715/715 [==============================] - 31s 43ms/step - loss: 0.1694 - accuracy: 0.9320\n",
            "Epoch 4/10\n",
            "715/715 [==============================] - 31s 44ms/step - loss: 0.1455 - accuracy: 0.9419\n",
            "Epoch 5/10\n",
            "715/715 [==============================] - 31s 43ms/step - loss: 0.1258 - accuracy: 0.9499\n",
            "Epoch 6/10\n",
            "715/715 [==============================] - 31s 43ms/step - loss: 0.1084 - accuracy: 0.9571\n",
            "Epoch 7/10\n",
            "715/715 [==============================] - 31s 43ms/step - loss: 0.0934 - accuracy: 0.9631\n",
            "Epoch 8/10\n",
            "715/715 [==============================] - 31s 43ms/step - loss: 0.0799 - accuracy: 0.9693\n",
            "Epoch 9/10\n",
            "715/715 [==============================] - 31s 43ms/step - loss: 0.0680 - accuracy: 0.9739\n",
            "Epoch 10/10\n",
            "715/715 [==============================] - 31s 43ms/step - loss: 0.0601 - accuracy: 0.9771\n",
            "179/179 [==============================] - 2s 10ms/step - loss: 0.4380 - accuracy: 0.8960\n",
            "Epoch 1/5\n",
            "894/894 [==============================] - 44s 42ms/step - loss: 0.2915 - accuracy: 0.8713\n",
            "Epoch 2/5\n",
            "894/894 [==============================] - 39s 43ms/step - loss: 0.1962 - accuracy: 0.9202\n",
            "Epoch 3/5\n",
            "894/894 [==============================] - 37s 42ms/step - loss: 0.1674 - accuracy: 0.9314\n",
            "Epoch 4/5\n",
            "894/894 [==============================] - 38s 42ms/step - loss: 0.1463 - accuracy: 0.9405\n",
            "Epoch 5/5\n",
            "894/894 [==============================] - 37s 41ms/step - loss: 0.1301 - accuracy: 0.9473\n",
            "Parameters for Bidirectional LSTM:  {'batch_size': 32, 'epochs': 5}\n",
            "1787/1787 [==============================] - 17s 9ms/step\n",
            "447/447 [==============================] - 4s 9ms/step\n",
            "Bidirectional LSTM classification report:\n",
            "               precision    recall  f1-score   support\n",
            "\n",
            "           0       0.93      0.94      0.94      9377\n",
            "           1       0.89      0.86      0.87      4918\n",
            "\n",
            "    accuracy                           0.91     14295\n",
            "   macro avg       0.91      0.90      0.90     14295\n",
            "weighted avg       0.91      0.91      0.91     14295\n",
            "\n",
            "Bidirectional LSTM train accuracy: 0.9635355637559244\n",
            "Bidirectional LSTM test accuracy: 0.9141657922350472\n"
          ]
        }
      ]
    },
    {
      "cell_type": "code",
      "source": [
        "# Confusion matrix for the test set predictions and true labels\n",
        "cm_bilstm = confusion_matrix(y_test, pred_test_bilstm)\n",
        "\n",
        "# Plot confusion matrix as heatmap\n",
        "sns.heatmap(cm_bilstm, annot=True, cmap='Blues', fmt='d')\n",
        "# The title, x-label, and y-label of the confusion matrix plot are set and the plot is displayed using plt.show()\n",
        "plt.title('Confusion matrix for Bidirectional LSTM')\n",
        "plt.xlabel('Predicted label')\n",
        "plt.ylabel('True label')\n",
        "plt.show()"
      ],
      "metadata": {
        "colab": {
          "base_uri": "https://localhost:8080/",
          "height": 472
        },
        "id": "OzhkAETzqEZK",
        "outputId": "b9b88a17-6cdf-43bc-8f2d-5299b3be8cd2"
      },
      "execution_count": null,
      "outputs": [
        {
          "output_type": "display_data",
          "data": {
            "text/plain": [
              "<Figure size 640x480 with 2 Axes>"
            ],
            "image/png": "[encoded data removed]"
          },
          "metadata": {}
        }
      ]
    },
    {
      "cell_type": "markdown",
      "metadata": {
        "id": "apBN2CBX1f7h"
      },
      "source": [
        "#### RNN"
      ]
    },
    {
      "cell_type": "code",
      "execution_count": 31,
      "metadata": {
        "id": "WSVURGOi1gVO",
        "colab": {
          "base_uri": "https://localhost:8080/"
        },
        "outputId": "c32a81fa-d2b7-462f-f606-b454a0e6c598"
      },
      "outputs": [
        {
          "output_type": "stream",
          "name": "stderr",
          "text": [
            "<ipython-input-31-0d09bd712be6>:10: DeprecationWarning: KerasClassifier is deprecated, use Sci-Keras (https://github.com/adriangb/scikeras) instead. See https://www.adriangb.com/scikeras/stable/migration.html for help migrating.\n",
            "  model_rnn = KerasClassifier(build_fn=create_model_rnn)\n"
          ]
        },
        {
          "output_type": "stream",
          "name": "stdout",
          "text": [
            "Epoch 1/5\n",
            "1430/1430 [==============================] - 21s 13ms/step - loss: 0.6421 - accuracy: 0.6601\n",
            "Epoch 2/5\n",
            "1430/1430 [==============================] - 18s 13ms/step - loss: 0.6315 - accuracy: 0.6763\n",
            "Epoch 3/5\n",
            "1430/1430 [==============================] - 19s 13ms/step - loss: 0.6315 - accuracy: 0.6758\n",
            "Epoch 4/5\n",
            "1430/1430 [==============================] - 18s 13ms/step - loss: 0.6307 - accuracy: 0.6771\n",
            "Epoch 5/5\n",
            "1430/1430 [==============================] - 19s 13ms/step - loss: 0.6310 - accuracy: 0.6762\n",
            "358/358 [==============================] - 2s 4ms/step - loss: 0.6335 - accuracy: 0.6710\n",
            "Epoch 1/5\n",
            "1430/1430 [==============================] - 20s 13ms/step - loss: 0.6491 - accuracy: 0.6516\n",
            "Epoch 2/5\n",
            "1430/1430 [==============================] - 18s 13ms/step - loss: 0.5425 - accuracy: 0.7382\n",
            "Epoch 3/5\n",
            "1430/1430 [==============================] - 18s 12ms/step - loss: 0.4647 - accuracy: 0.7959\n",
            "Epoch 4/5\n",
            "1430/1430 [==============================] - 18s 13ms/step - loss: 0.4255 - accuracy: 0.8196\n",
            "Epoch 5/5\n",
            "1430/1430 [==============================] - 18s 13ms/step - loss: 0.4151 - accuracy: 0.8220\n",
            "358/358 [==============================] - 2s 4ms/step - loss: 0.4568 - accuracy: 0.7998\n",
            "Epoch 1/5\n",
            "1430/1430 [==============================] - 20s 13ms/step - loss: 0.5071 - accuracy: 0.7617\n",
            "Epoch 2/5\n",
            "1430/1430 [==============================] - 18s 13ms/step - loss: 0.3544 - accuracy: 0.8674\n",
            "Epoch 3/5\n",
            "1430/1430 [==============================] - 19s 13ms/step - loss: 0.3183 - accuracy: 0.8816\n",
            "Epoch 4/5\n",
            "1430/1430 [==============================] - 19s 13ms/step - loss: 0.2914 - accuracy: 0.8915\n",
            "Epoch 5/5\n",
            "1430/1430 [==============================] - 18s 13ms/step - loss: 0.2663 - accuracy: 0.9023\n",
            "358/358 [==============================] - 2s 4ms/step - loss: 0.2904 - accuracy: 0.8903\n",
            "Epoch 1/5\n",
            "1430/1430 [==============================] - 19s 12ms/step - loss: 0.6495 - accuracy: 0.6544\n",
            "Epoch 2/5\n",
            "1430/1430 [==============================] - 18s 12ms/step - loss: 0.5075 - accuracy: 0.7647\n",
            "Epoch 3/5\n",
            "1430/1430 [==============================] - 18s 12ms/step - loss: 0.3986 - accuracy: 0.8392\n",
            "Epoch 4/5\n",
            "1430/1430 [==============================] - 18s 13ms/step - loss: 0.3896 - accuracy: 0.8445\n",
            "Epoch 5/5\n",
            "1430/1430 [==============================] - 18s 13ms/step - loss: 0.3523 - accuracy: 0.8621\n",
            "358/358 [==============================] - 1s 3ms/step - loss: 0.3757 - accuracy: 0.8502\n",
            "Epoch 1/5\n",
            "1430/1430 [==============================] - 19s 12ms/step - loss: 0.6496 - accuracy: 0.6531\n",
            "Epoch 2/5\n",
            "1430/1430 [==============================] - 18s 12ms/step - loss: 0.6422 - accuracy: 0.6566\n",
            "Epoch 3/5\n",
            "1430/1430 [==============================] - 18s 12ms/step - loss: 0.5380 - accuracy: 0.7429\n",
            "Epoch 4/5\n",
            "1430/1430 [==============================] - 17s 12ms/step - loss: 0.4677 - accuracy: 0.7947\n",
            "Epoch 5/5\n",
            "1430/1430 [==============================] - 17s 12ms/step - loss: 0.4481 - accuracy: 0.8051\n",
            "358/358 [==============================] - 1s 3ms/step - loss: 0.4634 - accuracy: 0.7934\n",
            "Epoch 1/10\n",
            "1430/1430 [==============================] - 19s 12ms/step - loss: 0.6497 - accuracy: 0.6541\n",
            "Epoch 2/10\n",
            "1430/1430 [==============================] - 18s 13ms/step - loss: 0.6024 - accuracy: 0.6830\n",
            "Epoch 3/10\n",
            "1430/1430 [==============================] - 19s 13ms/step - loss: 0.5018 - accuracy: 0.7650\n",
            "Epoch 4/10\n",
            "1430/1430 [==============================] - 18s 13ms/step - loss: 0.4625 - accuracy: 0.7900\n",
            "Epoch 5/10\n",
            "1430/1430 [==============================] - 18s 13ms/step - loss: 0.4519 - accuracy: 0.7983\n",
            "Epoch 6/10\n",
            "1430/1430 [==============================] - 18s 13ms/step - loss: 0.4314 - accuracy: 0.8105\n",
            "Epoch 7/10\n",
            "1430/1430 [==============================] - 18s 13ms/step - loss: 0.4400 - accuracy: 0.8055\n",
            "Epoch 8/10\n",
            "1430/1430 [==============================] - 18s 12ms/step - loss: 0.4298 - accuracy: 0.8138\n",
            "Epoch 9/10\n",
            "1430/1430 [==============================] - 18s 12ms/step - loss: 0.4221 - accuracy: 0.8186\n",
            "Epoch 10/10\n",
            "1430/1430 [==============================] - 17s 12ms/step - loss: 0.4128 - accuracy: 0.8169\n",
            "358/358 [==============================] - 1s 3ms/step - loss: 0.4828 - accuracy: 0.7707\n",
            "Epoch 1/10\n",
            "1430/1430 [==============================] - 19s 12ms/step - loss: 0.6531 - accuracy: 0.6490\n",
            "Epoch 2/10\n",
            "1430/1430 [==============================] - 17s 12ms/step - loss: 0.4345 - accuracy: 0.8152\n",
            "Epoch 3/10\n",
            "1430/1430 [==============================] - 17s 12ms/step - loss: 0.3246 - accuracy: 0.8797\n",
            "Epoch 4/10\n",
            "1430/1430 [==============================] - 17s 12ms/step - loss: 0.2979 - accuracy: 0.8914\n",
            "Epoch 5/10\n",
            "1430/1430 [==============================] - 17s 12ms/step - loss: 0.2738 - accuracy: 0.8997\n",
            "Epoch 6/10\n",
            "1430/1430 [==============================] - 17s 12ms/step - loss: 0.2606 - accuracy: 0.9047\n",
            "Epoch 7/10\n",
            "1430/1430 [==============================] - 18s 12ms/step - loss: 0.2513 - accuracy: 0.9074\n",
            "Epoch 8/10\n",
            "1430/1430 [==============================] - 18s 12ms/step - loss: 0.2383 - accuracy: 0.9110\n",
            "Epoch 9/10\n",
            "1430/1430 [==============================] - 18s 12ms/step - loss: 0.2293 - accuracy: 0.9175\n",
            "Epoch 10/10\n",
            "1430/1430 [==============================] - 18s 13ms/step - loss: 0.2236 - accuracy: 0.9173\n",
            "358/358 [==============================] - 2s 4ms/step - loss: 0.2930 - accuracy: 0.8903\n",
            "Epoch 1/10\n",
            "1430/1430 [==============================] - 21s 13ms/step - loss: 0.6032 - accuracy: 0.6890\n",
            "Epoch 2/10\n",
            "1430/1430 [==============================] - 18s 12ms/step - loss: 0.4144 - accuracy: 0.8290\n",
            "Epoch 3/10\n",
            "1430/1430 [==============================] - 17s 12ms/step - loss: 0.5135 - accuracy: 0.7589\n",
            "Epoch 4/10\n",
            "1430/1430 [==============================] - 16s 11ms/step - loss: 0.4925 - accuracy: 0.7747\n",
            "Epoch 5/10\n",
            "1430/1430 [==============================] - 15s 11ms/step - loss: 0.4578 - accuracy: 0.7942\n",
            "Epoch 6/10\n",
            "1430/1430 [==============================] - 15s 11ms/step - loss: 0.4365 - accuracy: 0.8109\n",
            "Epoch 7/10\n",
            "1430/1430 [==============================] - 15s 11ms/step - loss: 0.4201 - accuracy: 0.8177\n",
            "Epoch 8/10\n",
            "1430/1430 [==============================] - 15s 10ms/step - loss: 0.4390 - accuracy: 0.8068\n",
            "Epoch 9/10\n",
            "1430/1430 [==============================] - 15s 10ms/step - loss: 0.4350 - accuracy: 0.8104\n",
            "Epoch 10/10\n",
            "1430/1430 [==============================] - 15s 10ms/step - loss: 0.4276 - accuracy: 0.8178\n",
            "358/358 [==============================] - 1s 3ms/step - loss: 0.4682 - accuracy: 0.7985\n",
            "Epoch 1/10\n",
            "1430/1430 [==============================] - 16s 10ms/step - loss: 0.5229 - accuracy: 0.7503\n",
            "Epoch 2/10\n",
            "1430/1430 [==============================] - 15s 10ms/step - loss: 0.3620 - accuracy: 0.8586\n",
            "Epoch 3/10\n",
            "1430/1430 [==============================] - 15s 10ms/step - loss: 0.3421 - accuracy: 0.8684\n",
            "Epoch 4/10\n",
            "1430/1430 [==============================] - 15s 10ms/step - loss: 0.3287 - accuracy: 0.8761\n",
            "Epoch 5/10\n",
            "1430/1430 [==============================] - 15s 10ms/step - loss: 0.2840 - accuracy: 0.8934\n",
            "Epoch 6/10\n",
            "1430/1430 [==============================] - 15s 10ms/step - loss: 0.2687 - accuracy: 0.8998\n",
            "Epoch 7/10\n",
            "1430/1430 [==============================] - 15s 11ms/step - loss: 0.2436 - accuracy: 0.9117\n",
            "Epoch 8/10\n",
            "1430/1430 [==============================] - 15s 10ms/step - loss: 0.2322 - accuracy: 0.9145\n",
            "Epoch 9/10\n",
            "1430/1430 [==============================] - 15s 10ms/step - loss: 0.2253 - accuracy: 0.9180\n",
            "Epoch 10/10\n",
            "1430/1430 [==============================] - 16s 11ms/step - loss: 0.2175 - accuracy: 0.9189\n",
            "358/358 [==============================] - 1s 3ms/step - loss: 0.3010 - accuracy: 0.8903\n",
            "Epoch 1/10\n",
            "1430/1430 [==============================] - 17s 11ms/step - loss: 0.5383 - accuracy: 0.7370\n",
            "Epoch 2/10\n",
            "1430/1430 [==============================] - 16s 11ms/step - loss: 0.4152 - accuracy: 0.8280\n",
            "Epoch 3/10\n",
            "1430/1430 [==============================] - 15s 11ms/step - loss: 0.3709 - accuracy: 0.8534\n",
            "Epoch 4/10\n",
            "1430/1430 [==============================] - 15s 11ms/step - loss: 0.5862 - accuracy: 0.6971\n",
            "Epoch 5/10\n",
            "1430/1430 [==============================] - 16s 11ms/step - loss: 0.4807 - accuracy: 0.7815\n",
            "Epoch 6/10\n",
            "1430/1430 [==============================] - 17s 12ms/step - loss: 0.4369 - accuracy: 0.8115\n",
            "Epoch 7/10\n",
            "1430/1430 [==============================] - 18s 13ms/step - loss: 0.4079 - accuracy: 0.8302\n",
            "Epoch 8/10\n",
            "1430/1430 [==============================] - 15s 11ms/step - loss: 0.3933 - accuracy: 0.8386\n",
            "Epoch 9/10\n",
            "1430/1430 [==============================] - 15s 10ms/step - loss: 0.3805 - accuracy: 0.8449\n",
            "Epoch 10/10\n",
            "1430/1430 [==============================] - 15s 10ms/step - loss: 0.3737 - accuracy: 0.8491\n",
            "358/358 [==============================] - 1s 3ms/step - loss: 0.4259 - accuracy: 0.8135\n",
            "Epoch 1/5\n",
            "715/715 [==============================] - 10s 12ms/step - loss: 0.6503 - accuracy: 0.6538\n",
            "Epoch 2/5\n",
            "715/715 [==============================] - 9s 12ms/step - loss: 0.6463 - accuracy: 0.6568\n",
            "Epoch 3/5\n",
            "715/715 [==============================] - 9s 13ms/step - loss: 0.6454 - accuracy: 0.6568\n",
            "Epoch 4/5\n",
            "715/715 [==============================] - 9s 13ms/step - loss: 0.6373 - accuracy: 0.6544\n",
            "Epoch 5/5\n",
            "715/715 [==============================] - 9s 13ms/step - loss: 0.6250 - accuracy: 0.6529\n",
            "179/179 [==============================] - 1s 3ms/step - loss: 0.6249 - accuracy: 0.6527\n",
            "Epoch 1/5\n",
            "715/715 [==============================] - 10s 12ms/step - loss: 0.5918 - accuracy: 0.6982\n",
            "Epoch 2/5\n",
            "715/715 [==============================] - 9s 13ms/step - loss: 0.3744 - accuracy: 0.8549\n",
            "Epoch 3/5\n",
            "715/715 [==============================] - 9s 13ms/step - loss: 0.3125 - accuracy: 0.8882\n",
            "Epoch 4/5\n",
            "715/715 [==============================] - 9s 12ms/step - loss: 0.2851 - accuracy: 0.9007\n",
            "Epoch 5/5\n",
            "715/715 [==============================] - 9s 12ms/step - loss: 0.2747 - accuracy: 0.9053\n",
            "179/179 [==============================] - 1s 3ms/step - loss: 0.3252 - accuracy: 0.8831\n",
            "Epoch 1/5\n",
            "715/715 [==============================] - 10s 12ms/step - loss: 0.5337 - accuracy: 0.7406\n",
            "Epoch 2/5\n",
            "715/715 [==============================] - 9s 12ms/step - loss: 0.3826 - accuracy: 0.8477\n",
            "Epoch 3/5\n",
            "715/715 [==============================] - 9s 12ms/step - loss: 0.3535 - accuracy: 0.8645\n",
            "Epoch 4/5\n",
            "715/715 [==============================] - 9s 12ms/step - loss: 0.3209 - accuracy: 0.8799\n",
            "Epoch 5/5\n",
            "715/715 [==============================] - 9s 12ms/step - loss: 0.2986 - accuracy: 0.8908\n",
            "179/179 [==============================] - 1s 3ms/step - loss: 0.3512 - accuracy: 0.8695\n",
            "Epoch 1/5\n",
            "715/715 [==============================] - 10s 13ms/step - loss: 0.6499 - accuracy: 0.6545\n",
            "Epoch 2/5\n",
            "715/715 [==============================] - 9s 12ms/step - loss: 0.6154 - accuracy: 0.6746\n",
            "Epoch 3/5\n",
            "715/715 [==============================] - 9s 12ms/step - loss: 0.5286 - accuracy: 0.7513\n",
            "Epoch 4/5\n",
            "715/715 [==============================] - 9s 13ms/step - loss: 0.4737 - accuracy: 0.7896\n",
            "Epoch 5/5\n",
            "715/715 [==============================] - 9s 12ms/step - loss: 0.4423 - accuracy: 0.8107\n",
            "179/179 [==============================] - 1s 3ms/step - loss: 0.4694 - accuracy: 0.7918\n",
            "Epoch 1/5\n",
            "715/715 [==============================] - 10s 12ms/step - loss: 0.6500 - accuracy: 0.6535\n",
            "Epoch 2/5\n",
            "715/715 [==============================] - 9s 13ms/step - loss: 0.6083 - accuracy: 0.6849\n",
            "Epoch 3/5\n",
            "715/715 [==============================] - 9s 12ms/step - loss: 0.3828 - accuracy: 0.8505\n",
            "Epoch 4/5\n",
            "715/715 [==============================] - 9s 12ms/step - loss: 0.3676 - accuracy: 0.8515\n",
            "Epoch 5/5\n",
            "715/715 [==============================] - 9s 12ms/step - loss: 0.2974 - accuracy: 0.8890\n",
            "179/179 [==============================] - 1s 3ms/step - loss: 0.3131 - accuracy: 0.8817\n",
            "Epoch 1/10\n",
            "715/715 [==============================] - 10s 12ms/step - loss: 0.6505 - accuracy: 0.6528\n",
            "Epoch 2/10\n",
            "715/715 [==============================] - 9s 12ms/step - loss: 0.6460 - accuracy: 0.6568\n",
            "Epoch 3/10\n",
            "715/715 [==============================] - 9s 13ms/step - loss: 0.6211 - accuracy: 0.6777\n",
            "Epoch 4/10\n",
            "715/715 [==============================] - 10s 14ms/step - loss: 0.5039 - accuracy: 0.7761\n",
            "Epoch 5/10\n",
            "715/715 [==============================] - 10s 14ms/step - loss: 0.4441 - accuracy: 0.8110\n",
            "Epoch 6/10\n",
            "715/715 [==============================] - 11s 15ms/step - loss: 0.4164 - accuracy: 0.8251\n",
            "Epoch 7/10\n",
            "715/715 [==============================] - 11s 15ms/step - loss: 0.4018 - accuracy: 0.8310\n",
            "Epoch 8/10\n",
            "715/715 [==============================] - 11s 15ms/step - loss: 0.3883 - accuracy: 0.8380\n",
            "Epoch 9/10\n",
            "715/715 [==============================] - 11s 15ms/step - loss: 0.3810 - accuracy: 0.8406\n",
            "Epoch 10/10\n",
            "715/715 [==============================] - 10s 14ms/step - loss: 0.3771 - accuracy: 0.8422\n",
            "179/179 [==============================] - 1s 4ms/step - loss: 0.4448 - accuracy: 0.8085\n",
            "Epoch 1/10\n",
            "715/715 [==============================] - 12s 15ms/step - loss: 0.5922 - accuracy: 0.6981\n",
            "Epoch 2/10\n",
            "715/715 [==============================] - 10s 15ms/step - loss: 0.3823 - accuracy: 0.8496\n",
            "Epoch 3/10\n",
            "715/715 [==============================] - 10s 14ms/step - loss: 0.3373 - accuracy: 0.8762\n",
            "Epoch 4/10\n",
            "715/715 [==============================] - 10s 14ms/step - loss: 0.4119 - accuracy: 0.8270\n",
            "Epoch 5/10\n",
            "715/715 [==============================] - 10s 14ms/step - loss: 0.4501 - accuracy: 0.8006\n",
            "Epoch 6/10\n",
            "715/715 [==============================] - 10s 14ms/step - loss: 0.4958 - accuracy: 0.7614\n",
            "Epoch 7/10\n",
            "715/715 [==============================] - 10s 14ms/step - loss: 0.4760 - accuracy: 0.7731\n",
            "Epoch 8/10\n",
            "715/715 [==============================] - 10s 13ms/step - loss: 0.4148 - accuracy: 0.8231\n",
            "Epoch 9/10\n",
            "715/715 [==============================] - 9s 13ms/step - loss: 0.3961 - accuracy: 0.8353\n",
            "Epoch 10/10\n",
            "715/715 [==============================] - 9s 13ms/step - loss: 0.3853 - accuracy: 0.8428\n",
            "179/179 [==============================] - 1s 3ms/step - loss: 0.4058 - accuracy: 0.8332\n",
            "Epoch 1/10\n",
            "715/715 [==============================] - 11s 13ms/step - loss: 0.6506 - accuracy: 0.6519\n",
            "Epoch 2/10\n",
            "715/715 [==============================] - 9s 13ms/step - loss: 0.4845 - accuracy: 0.7797\n",
            "Epoch 3/10\n",
            "715/715 [==============================] - 10s 13ms/step - loss: 0.3534 - accuracy: 0.8677\n",
            "Epoch 4/10\n",
            "715/715 [==============================] - 9s 13ms/step - loss: 0.3205 - accuracy: 0.8781\n",
            "Epoch 5/10\n",
            "715/715 [==============================] - 9s 12ms/step - loss: 0.2816 - accuracy: 0.8951\n",
            "Epoch 6/10\n",
            "715/715 [==============================] - 9s 13ms/step - loss: 0.2729 - accuracy: 0.8986\n",
            "Epoch 7/10\n",
            "715/715 [==============================] - 9s 13ms/step - loss: 0.2600 - accuracy: 0.9057\n",
            "Epoch 8/10\n",
            "715/715 [==============================] - 9s 13ms/step - loss: 0.2311 - accuracy: 0.9174\n",
            "Epoch 9/10\n",
            "715/715 [==============================] - 9s 13ms/step - loss: 0.2422 - accuracy: 0.9129\n",
            "Epoch 10/10\n",
            "715/715 [==============================] - 10s 13ms/step - loss: 0.2407 - accuracy: 0.9106\n",
            "179/179 [==============================] - 1s 4ms/step - loss: 0.2953 - accuracy: 0.8917\n",
            "Epoch 1/10\n",
            "715/715 [==============================] - 11s 14ms/step - loss: 0.6509 - accuracy: 0.6523\n",
            "Epoch 2/10\n",
            "715/715 [==============================] - 10s 14ms/step - loss: 0.4566 - accuracy: 0.8010\n",
            "Epoch 3/10\n",
            "715/715 [==============================] - 10s 13ms/step - loss: 0.3377 - accuracy: 0.8735\n",
            "Epoch 4/10\n",
            "715/715 [==============================] - 9s 13ms/step - loss: 0.3063 - accuracy: 0.8871\n",
            "Epoch 5/10\n",
            "715/715 [==============================] - 9s 13ms/step - loss: 0.2714 - accuracy: 0.9049\n",
            "Epoch 6/10\n",
            "715/715 [==============================] - 9s 13ms/step - loss: 0.2594 - accuracy: 0.9081\n",
            "Epoch 7/10\n",
            "715/715 [==============================] - 9s 13ms/step - loss: 0.2445 - accuracy: 0.9123\n",
            "Epoch 8/10\n",
            "715/715 [==============================] - 9s 13ms/step - loss: 0.2374 - accuracy: 0.9139\n",
            "Epoch 9/10\n",
            "715/715 [==============================] - 9s 12ms/step - loss: 0.2437 - accuracy: 0.9095\n",
            "Epoch 10/10\n",
            "715/715 [==============================] - 9s 12ms/step - loss: 0.2224 - accuracy: 0.9193\n",
            "179/179 [==============================] - 1s 3ms/step - loss: 0.3909 - accuracy: 0.8417\n",
            "Epoch 1/10\n",
            "715/715 [==============================] - 10s 12ms/step - loss: 0.6490 - accuracy: 0.6533\n",
            "Epoch 2/10\n",
            "715/715 [==============================] - 9s 13ms/step - loss: 0.6454 - accuracy: 0.6569\n",
            "Epoch 3/10\n",
            "715/715 [==============================] - 10s 14ms/step - loss: 0.6451 - accuracy: 0.6569\n",
            "Epoch 4/10\n",
            "715/715 [==============================] - 10s 14ms/step - loss: 0.6451 - accuracy: 0.6569\n",
            "Epoch 5/10\n",
            "715/715 [==============================] - 10s 13ms/step - loss: 0.6447 - accuracy: 0.6569\n",
            "Epoch 6/10\n",
            "715/715 [==============================] - 9s 12ms/step - loss: 0.5978 - accuracy: 0.6976\n",
            "Epoch 7/10\n",
            "715/715 [==============================] - 9s 12ms/step - loss: 0.5065 - accuracy: 0.7674\n",
            "Epoch 8/10\n",
            "715/715 [==============================] - 9s 13ms/step - loss: 0.4699 - accuracy: 0.7767\n",
            "Epoch 9/10\n",
            "715/715 [==============================] - 9s 13ms/step - loss: 0.4737 - accuracy: 0.7742\n",
            "Epoch 10/10\n",
            "715/715 [==============================] - 9s 13ms/step - loss: 0.4738 - accuracy: 0.7736\n",
            "179/179 [==============================] - 1s 3ms/step - loss: 0.5313 - accuracy: 0.7038\n",
            "Epoch 1/10\n",
            "1787/1787 [==============================] - 21s 11ms/step - loss: 0.6495 - accuracy: 0.6533\n",
            "Epoch 2/10\n",
            "1787/1787 [==============================] - 19s 10ms/step - loss: 0.5360 - accuracy: 0.7424\n",
            "Epoch 3/10\n",
            "1787/1787 [==============================] - 19s 11ms/step - loss: 0.4340 - accuracy: 0.8167\n",
            "Epoch 4/10\n",
            "1787/1787 [==============================] - 18s 10ms/step - loss: 0.3998 - accuracy: 0.8383\n",
            "Epoch 5/10\n",
            "1787/1787 [==============================] - 19s 10ms/step - loss: 0.4924 - accuracy: 0.7706\n",
            "Epoch 6/10\n",
            "1787/1787 [==============================] - 19s 11ms/step - loss: 0.4722 - accuracy: 0.7881\n",
            "Epoch 7/10\n",
            "1787/1787 [==============================] - 18s 10ms/step - loss: 0.4532 - accuracy: 0.8027\n",
            "Epoch 8/10\n",
            "1787/1787 [==============================] - 18s 10ms/step - loss: 0.4609 - accuracy: 0.7929\n",
            "Epoch 9/10\n",
            "1787/1787 [==============================] - 18s 10ms/step - loss: 0.4722 - accuracy: 0.7895\n",
            "Epoch 10/10\n",
            "1787/1787 [==============================] - 18s 10ms/step - loss: 0.4775 - accuracy: 0.7890\n",
            "Parameters for RNN:  {'batch_size': 32, 'epochs': 10}\n",
            "1787/1787 [==============================] - 5s 3ms/step\n",
            "447/447 [==============================] - 1s 3ms/step\n",
            "RNN classification report:\n",
            "               precision    recall  f1-score   support\n",
            "\n",
            "           0       0.80      0.87      0.84      9377\n",
            "           1       0.71      0.59      0.65      4918\n",
            "\n",
            "    accuracy                           0.78     14295\n",
            "   macro avg       0.76      0.73      0.74     14295\n",
            "weighted avg       0.77      0.78      0.77     14295\n",
            "\n",
            "RNN train accuracy: 0.7983875198936673\n",
            "RNN test accuracy: 0.7760055963623644\n"
          ]
        }
      ],
      "source": [
        "# RNN\n",
        "def create_model_rnn():\n",
        "    model = Sequential()\n",
        "    model.add(Embedding(max_words, 64, input_length=max_len))\n",
        "    model.add(SimpleRNN(64, dropout=0.2, recurrent_dropout=0.2))\n",
        "    model.add(Dense(1, activation='sigmoid'))\n",
        "    model.compile(loss='binary_crossentropy', optimizer='adam', metrics=['accuracy'])\n",
        "    return model\n",
        "\n",
        "model_rnn = KerasClassifier(build_fn=create_model_rnn)\n",
        "param_grid_rnn = {'epochs': [5,10], 'batch_size': [32,64]}\n",
        "grid_rnn = GridSearchCV(model_rnn, param_grid_rnn, cv=5)\n",
        "grid_rnn.fit(X_train_pad, y_train_enc)\n",
        "print(\"Parameters for RNN: \", grid_rnn.best_params_)\n",
        "\n",
        "pred_train_rnn = grid_rnn.predict(X_train_pad)\n",
        "pred_test_rnn = grid_rnn.predict(X_test_pad)\n",
        "print(\"RNN classification report:\\n\", classification_report(y_test_enc, pred_test_rnn))\n",
        "\n",
        "train_score_rnn = accuracy_score(pred_train_rnn, y_train)\n",
        "test_score_rnn = accuracy_score(pred_test_rnn, y_test)\n",
        "\n",
        "print(\"RNN train accuracy:\", train_score_rnn)\n",
        "print(\"RNN test accuracy:\", test_score_rnn)"
      ]
    },
    {
      "cell_type": "code",
      "source": [
        "# Confusion matrix for the test set predictions and true labels\n",
        "cm_rnn = confusion_matrix(y_test, pred_test_rnn)\n",
        "\n",
        "# Plot confusion matrix as heatmap\n",
        "sns.heatmap(cm_rnn, annot=True, cmap='Blues', fmt='d')\n",
        "# The title, x-label, and y-label of the confusion matrix plot are set and the plot is displayed using plt.show()\n",
        "plt.title('Confusion matrix for RNN')\n",
        "plt.xlabel('Predicted label')\n",
        "plt.ylabel('True label')\n",
        "plt.show()"
      ],
      "metadata": {
        "colab": {
          "base_uri": "https://localhost:8080/",
          "height": 472
        },
        "id": "Sl_xPjAdqRiD",
        "outputId": "f7b9259e-fc18-49f2-8c3a-af7c25b26ea9"
      },
      "execution_count": 32,
      "outputs": [
        {
          "output_type": "display_data",
          "data": {
            "text/plain": [
              "<Figure size 640x480 with 2 Axes>"
            ],
            "image/png": "[encoded data removed]"
          },
          "metadata": {}
        }
      ]
    },
    {
      "cell_type": "code",
      "source": [],
      "metadata": {
        "id": "9kzSDvl_pxCb"
      },
      "execution_count": null,
      "outputs": []
    }
  ],
  "metadata": {
    "colab": {
      "provenance": [],
      "gpuType": "T4",
      "machine_shape": "hm",
      "gpuClass": "premium",
      "include_colab_link": true
    },
    "gpuClass": "premium",
    "kernelspec": {
      "display_name": "Python 3",
      "name": "python3"
    },
    "language_info": {
      "name": "python"
    },
    "accelerator": "TPU"
  },
  "nbformat": 4,
  "nbformat_minor": 0
}