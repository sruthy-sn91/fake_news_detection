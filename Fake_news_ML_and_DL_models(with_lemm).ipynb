{
  "cells": [
    {
      "cell_type": "code",
      "execution_count": null,
      "metadata": {
        "colab": {
          "base_uri": "https://localhost:8080/"
        },
        "id": "hU5Yt3oKcLWD",
        "outputId": "46d1abb8-944d-4229-d168-646209da640b"
      },
      "outputs": [
        {
          "output_type": "stream",
          "name": "stdout",
          "text": [
            "Mounted at /content/drive/\n"
          ]
        }
      ],
      "source": [
        "from google.colab import drive\n",
        "drive.mount('/content/drive/')"
      ]
    },
    {
      "cell_type": "markdown",
      "metadata": {
        "id": "Q9i_qpxScVjo"
      },
      "source": [
        "# Data Preparation\n",
        "## Load the dataset:\n",
        "\n",
        "#### Import the necessary libraries "
      ]
    },
    {
      "cell_type": "code",
      "execution_count": null,
      "metadata": {
        "colab": {
          "base_uri": "https://localhost:8080/"
        },
        "id": "_HWRh3qJguls",
        "outputId": "895f3feb-d93b-41d1-9a7f-533238c2b32f"
      },
      "outputs": [
        {
          "output_type": "stream",
          "name": "stdout",
          "text": [
            "Looking in indexes: https://pypi.org/simple, https://us-python.pkg.dev/colab-wheels/public/simple/\n",
            "Collecting transformers\n",
            "  Downloading transformers-4.29.2-py3-none-any.whl (7.1 MB)\n",
            "\u001b[2K     \u001b[90m━━━━━━━━━━━━━━━━━━━━━━━━━━━━━━━━━━━━━━━━\u001b[0m \u001b[32m7.1/7.1 MB\u001b[0m \u001b[31m56.8 MB/s\u001b[0m eta \u001b[36m0:00:00\u001b[0m\n",
            "\u001b[?25hRequirement already satisfied: filelock in /usr/local/lib/python3.10/dist-packages (from transformers) (3.12.0)\n",
            "Collecting huggingface-hub<1.0,>=0.14.1 (from transformers)\n",
            "  Downloading huggingface_hub-0.14.1-py3-none-any.whl (224 kB)\n",
            "\u001b[2K     \u001b[90m━━━━━━━━━━━━━━━━━━━━━━━━━━━━━━━━━━━━━━\u001b[0m \u001b[32m224.5/224.5 kB\u001b[0m \u001b[31m24.7 MB/s\u001b[0m eta \u001b[36m0:00:00\u001b[0m\n",
            "\u001b[?25hRequirement already satisfied: numpy>=1.17 in /usr/local/lib/python3.10/dist-packages (from transformers) (1.24.3)\n",
            "Requirement already satisfied: packaging>=20.0 in /usr/local/lib/python3.10/dist-packages (from transformers) (23.1)\n",
            "Requirement already satisfied: pyyaml>=5.1 in /usr/local/lib/python3.10/dist-packages (from transformers) (6.0)\n",
            "Requirement already satisfied: regex!=2019.12.17 in /usr/local/lib/python3.10/dist-packages (from transformers) (2022.10.31)\n",
            "Requirement already satisfied: requests in /usr/local/lib/python3.10/dist-packages (from transformers) (2.27.1)\n",
            "Collecting tokenizers!=0.11.3,<0.14,>=0.11.1 (from transformers)\n",
            "  Downloading tokenizers-0.13.3-cp310-cp310-manylinux_2_17_x86_64.manylinux2014_x86_64.whl (7.8 MB)\n",
            "\u001b[2K     \u001b[90m━━━━━━━━━━━━━━━━━━━━━━━━━━━━━━━━━━━━━━━━\u001b[0m \u001b[32m7.8/7.8 MB\u001b[0m \u001b[31m105.0 MB/s\u001b[0m eta \u001b[36m0:00:00\u001b[0m\n",
            "\u001b[?25hRequirement already satisfied: tqdm>=4.27 in /usr/local/lib/python3.10/dist-packages (from transformers) (4.65.0)\n",
            "Requirement already satisfied: fsspec in /usr/local/lib/python3.10/dist-packages (from huggingface-hub<1.0,>=0.14.1->transformers) (2023.4.0)\n",
            "Requirement already satisfied: typing-extensions>=3.7.4.3 in /usr/local/lib/python3.10/dist-packages (from huggingface-hub<1.0,>=0.14.1->transformers) (4.6.2)\n",
            "Requirement already satisfied: urllib3<1.27,>=1.21.1 in /usr/local/lib/python3.10/dist-packages (from requests->transformers) (1.26.15)\n",
            "Requirement already satisfied: certifi>=2017.4.17 in /usr/local/lib/python3.10/dist-packages (from requests->transformers) (2022.12.7)\n",
            "Requirement already satisfied: charset-normalizer~=2.0.0 in /usr/local/lib/python3.10/dist-packages (from requests->transformers) (2.0.12)\n",
            "Requirement already satisfied: idna<4,>=2.5 in /usr/local/lib/python3.10/dist-packages (from requests->transformers) (3.4)\n",
            "Installing collected packages: tokenizers, huggingface-hub, transformers\n",
            "Successfully installed huggingface-hub-0.14.1 tokenizers-0.13.3 transformers-4.29.2\n"
          ]
        }
      ],
      "source": [
        "pip install transformers"
      ]
    },
    {
      "cell_type": "code",
      "execution_count": null,
      "metadata": {
        "colab": {
          "base_uri": "https://localhost:8080/",
          "height": 1000
        },
        "id": "h-dtZgTqdCdz",
        "outputId": "3f3f0fd5-6b97-4046-fdce-7bddca9cf733"
      },
      "outputs": [
        {
          "output_type": "stream",
          "name": "stdout",
          "text": [
            "Looking in indexes: https://pypi.org/simple, https://us-python.pkg.dev/colab-wheels/public/simple/\n",
            "Collecting scikeras[tensorflow]\n",
            "  Downloading scikeras-0.10.0-py3-none-any.whl (27 kB)\n",
            "Requirement already satisfied: packaging>=0.21 in /usr/local/lib/python3.10/dist-packages (from scikeras[tensorflow]) (23.1)\n",
            "Requirement already satisfied: scikit-learn>=1.0.0 in /usr/local/lib/python3.10/dist-packages (from scikeras[tensorflow]) (1.2.2)\n",
            "Requirement already satisfied: tensorflow>=2.11.0 in /usr/local/lib/python3.10/dist-packages (from scikeras[tensorflow]) (2.12.0)\n",
            "Requirement already satisfied: numpy>=1.17.3 in /usr/local/lib/python3.10/dist-packages (from scikit-learn>=1.0.0->scikeras[tensorflow]) (1.24.3)\n",
            "Requirement already satisfied: scipy>=1.3.2 in /usr/local/lib/python3.10/dist-packages (from scikit-learn>=1.0.0->scikeras[tensorflow]) (1.10.1)\n",
            "Requirement already satisfied: joblib>=1.1.1 in /usr/local/lib/python3.10/dist-packages (from scikit-learn>=1.0.0->scikeras[tensorflow]) (1.2.0)\n",
            "Requirement already satisfied: threadpoolctl>=2.0.0 in /usr/local/lib/python3.10/dist-packages (from scikit-learn>=1.0.0->scikeras[tensorflow]) (3.1.0)\n",
            "Requirement already satisfied: absl-py>=1.0.0 in /usr/local/lib/python3.10/dist-packages (from tensorflow>=2.11.0->scikeras[tensorflow]) (1.4.0)\n",
            "Requirement already satisfied: astunparse>=1.6.0 in /usr/local/lib/python3.10/dist-packages (from tensorflow>=2.11.0->scikeras[tensorflow]) (1.6.3)\n",
            "Requirement already satisfied: flatbuffers>=2.0 in /usr/local/lib/python3.10/dist-packages (from tensorflow>=2.11.0->scikeras[tensorflow]) (23.3.3)\n",
            "Requirement already satisfied: gast<=0.4.0,>=0.2.1 in /usr/local/lib/python3.10/dist-packages (from tensorflow>=2.11.0->scikeras[tensorflow]) (0.4.0)\n",
            "Requirement already satisfied: google-pasta>=0.1.1 in /usr/local/lib/python3.10/dist-packages (from tensorflow>=2.11.0->scikeras[tensorflow]) (0.2.0)\n",
            "Requirement already satisfied: grpcio<2.0,>=1.24.3 in /usr/local/lib/python3.10/dist-packages (from tensorflow>=2.11.0->scikeras[tensorflow]) (1.54.0)\n",
            "Requirement already satisfied: h5py>=2.9.0 in /usr/local/lib/python3.10/dist-packages (from tensorflow>=2.11.0->scikeras[tensorflow]) (3.8.0)\n",
            "Requirement already satisfied: jax>=0.3.15 in /usr/local/lib/python3.10/dist-packages (from tensorflow>=2.11.0->scikeras[tensorflow]) (0.3.25)\n",
            "Requirement already satisfied: keras<2.13,>=2.12.0 in /usr/local/lib/python3.10/dist-packages (from tensorflow>=2.11.0->scikeras[tensorflow]) (2.12.0)\n",
            "Requirement already satisfied: libclang>=13.0.0 in /usr/local/lib/python3.10/dist-packages (from tensorflow>=2.11.0->scikeras[tensorflow]) (16.0.0)\n",
            "Collecting numpy>=1.17.3 (from scikit-learn>=1.0.0->scikeras[tensorflow])\n",
            "  Downloading numpy-1.23.5-cp310-cp310-manylinux_2_17_x86_64.manylinux2014_x86_64.whl (17.1 MB)\n",
            "\u001b[2K     \u001b[90m━━━━━━━━━━━━━━━━━━━━━━━━━━━━━━━━━━━━━━━━\u001b[0m \u001b[32m17.1/17.1 MB\u001b[0m \u001b[31m83.2 MB/s\u001b[0m eta \u001b[36m0:00:00\u001b[0m\n",
            "\u001b[?25hRequirement already satisfied: opt-einsum>=2.3.2 in /usr/local/lib/python3.10/dist-packages (from tensorflow>=2.11.0->scikeras[tensorflow]) (3.3.0)\n",
            "Requirement already satisfied: protobuf!=4.21.0,!=4.21.1,!=4.21.2,!=4.21.3,!=4.21.4,!=4.21.5,<5.0.0dev,>=3.20.3 in /usr/local/lib/python3.10/dist-packages (from tensorflow>=2.11.0->scikeras[tensorflow]) (3.20.3)\n",
            "Requirement already satisfied: setuptools in /usr/local/lib/python3.10/dist-packages (from tensorflow>=2.11.0->scikeras[tensorflow]) (67.7.2)\n",
            "Requirement already satisfied: six>=1.12.0 in /usr/local/lib/python3.10/dist-packages (from tensorflow>=2.11.0->scikeras[tensorflow]) (1.16.0)\n",
            "Requirement already satisfied: tensorboard<2.13,>=2.12 in /usr/local/lib/python3.10/dist-packages (from tensorflow>=2.11.0->scikeras[tensorflow]) (2.12.2)\n",
            "Requirement already satisfied: tensorflow-estimator<2.13,>=2.12.0 in /usr/local/lib/python3.10/dist-packages (from tensorflow>=2.11.0->scikeras[tensorflow]) (2.12.0)\n",
            "Requirement already satisfied: termcolor>=1.1.0 in /usr/local/lib/python3.10/dist-packages (from tensorflow>=2.11.0->scikeras[tensorflow]) (2.3.0)\n",
            "Requirement already satisfied: typing-extensions>=3.6.6 in /usr/local/lib/python3.10/dist-packages (from tensorflow>=2.11.0->scikeras[tensorflow]) (4.6.2)\n",
            "Requirement already satisfied: wrapt<1.15,>=1.11.0 in /usr/local/lib/python3.10/dist-packages (from tensorflow>=2.11.0->scikeras[tensorflow]) (1.14.1)\n",
            "Requirement already satisfied: tensorflow-io-gcs-filesystem>=0.23.1 in /usr/local/lib/python3.10/dist-packages (from tensorflow>=2.11.0->scikeras[tensorflow]) (0.32.0)\n",
            "Requirement already satisfied: wheel<1.0,>=0.23.0 in /usr/local/lib/python3.10/dist-packages (from astunparse>=1.6.0->tensorflow>=2.11.0->scikeras[tensorflow]) (0.40.0)\n",
            "Requirement already satisfied: google-auth<3,>=1.6.3 in /usr/local/lib/python3.10/dist-packages (from tensorboard<2.13,>=2.12->tensorflow>=2.11.0->scikeras[tensorflow]) (2.17.3)\n",
            "Requirement already satisfied: google-auth-oauthlib<1.1,>=0.5 in /usr/local/lib/python3.10/dist-packages (from tensorboard<2.13,>=2.12->tensorflow>=2.11.0->scikeras[tensorflow]) (1.0.0)\n",
            "Requirement already satisfied: markdown>=2.6.8 in /usr/local/lib/python3.10/dist-packages (from tensorboard<2.13,>=2.12->tensorflow>=2.11.0->scikeras[tensorflow]) (3.4.3)\n",
            "Requirement already satisfied: requests<3,>=2.21.0 in /usr/local/lib/python3.10/dist-packages (from tensorboard<2.13,>=2.12->tensorflow>=2.11.0->scikeras[tensorflow]) (2.27.1)\n",
            "Requirement already satisfied: tensorboard-data-server<0.8.0,>=0.7.0 in /usr/local/lib/python3.10/dist-packages (from tensorboard<2.13,>=2.12->tensorflow>=2.11.0->scikeras[tensorflow]) (0.7.0)\n",
            "Requirement already satisfied: tensorboard-plugin-wit>=1.6.0 in /usr/local/lib/python3.10/dist-packages (from tensorboard<2.13,>=2.12->tensorflow>=2.11.0->scikeras[tensorflow]) (1.8.1)\n",
            "Requirement already satisfied: werkzeug>=1.0.1 in /usr/local/lib/python3.10/dist-packages (from tensorboard<2.13,>=2.12->tensorflow>=2.11.0->scikeras[tensorflow]) (2.3.0)\n",
            "Requirement already satisfied: cachetools<6.0,>=2.0.0 in /usr/local/lib/python3.10/dist-packages (from google-auth<3,>=1.6.3->tensorboard<2.13,>=2.12->tensorflow>=2.11.0->scikeras[tensorflow]) (5.3.0)\n",
            "Requirement already satisfied: pyasn1-modules>=0.2.1 in /usr/local/lib/python3.10/dist-packages (from google-auth<3,>=1.6.3->tensorboard<2.13,>=2.12->tensorflow>=2.11.0->scikeras[tensorflow]) (0.3.0)\n",
            "Requirement already satisfied: rsa<5,>=3.1.4 in /usr/local/lib/python3.10/dist-packages (from google-auth<3,>=1.6.3->tensorboard<2.13,>=2.12->tensorflow>=2.11.0->scikeras[tensorflow]) (4.9)\n",
            "Requirement already satisfied: requests-oauthlib>=0.7.0 in /usr/local/lib/python3.10/dist-packages (from google-auth-oauthlib<1.1,>=0.5->tensorboard<2.13,>=2.12->tensorflow>=2.11.0->scikeras[tensorflow]) (1.3.1)\n",
            "Requirement already satisfied: urllib3<1.27,>=1.21.1 in /usr/local/lib/python3.10/dist-packages (from requests<3,>=2.21.0->tensorboard<2.13,>=2.12->tensorflow>=2.11.0->scikeras[tensorflow]) (1.26.15)\n",
            "Requirement already satisfied: certifi>=2017.4.17 in /usr/local/lib/python3.10/dist-packages (from requests<3,>=2.21.0->tensorboard<2.13,>=2.12->tensorflow>=2.11.0->scikeras[tensorflow]) (2022.12.7)\n",
            "Requirement already satisfied: charset-normalizer~=2.0.0 in /usr/local/lib/python3.10/dist-packages (from requests<3,>=2.21.0->tensorboard<2.13,>=2.12->tensorflow>=2.11.0->scikeras[tensorflow]) (2.0.12)\n",
            "Requirement already satisfied: idna<4,>=2.5 in /usr/local/lib/python3.10/dist-packages (from requests<3,>=2.21.0->tensorboard<2.13,>=2.12->tensorflow>=2.11.0->scikeras[tensorflow]) (3.4)\n",
            "Requirement already satisfied: MarkupSafe>=2.1.1 in /usr/local/lib/python3.10/dist-packages (from werkzeug>=1.0.1->tensorboard<2.13,>=2.12->tensorflow>=2.11.0->scikeras[tensorflow]) (2.1.2)\n",
            "Requirement already satisfied: pyasn1<0.6.0,>=0.4.6 in /usr/local/lib/python3.10/dist-packages (from pyasn1-modules>=0.2.1->google-auth<3,>=1.6.3->tensorboard<2.13,>=2.12->tensorflow>=2.11.0->scikeras[tensorflow]) (0.5.0)\n",
            "Requirement already satisfied: oauthlib>=3.0.0 in /usr/local/lib/python3.10/dist-packages (from requests-oauthlib>=0.7.0->google-auth-oauthlib<1.1,>=0.5->tensorboard<2.13,>=2.12->tensorflow>=2.11.0->scikeras[tensorflow]) (3.2.2)\n",
            "Installing collected packages: numpy, scikeras\n",
            "  Attempting uninstall: numpy\n",
            "    Found existing installation: numpy 1.24.3\n",
            "    Uninstalling numpy-1.24.3:\n",
            "      Successfully uninstalled numpy-1.24.3\n",
            "\u001b[31mERROR: pip's dependency resolver does not currently take into account all the packages that are installed. This behaviour is the source of the following dependency conflicts.\n",
            "chex 0.1.7 requires jax>=0.4.6, but you have jax 0.3.25 which is incompatible.\n",
            "flax 0.6.9 requires jax>=0.4.2, but you have jax 0.3.25 which is incompatible.\n",
            "orbax-checkpoint 0.2.1 requires jax>=0.4.8, but you have jax 0.3.25 which is incompatible.\u001b[0m\u001b[31m\n",
            "\u001b[0mSuccessfully installed numpy-1.23.5 scikeras-0.10.0\n"
          ]
        },
        {
          "output_type": "display_data",
          "data": {
            "application/vnd.colab-display-data+json": {
              "pip_warning": {
                "packages": [
                  "numpy"
                ]
              }
            }
          },
          "metadata": {}
        }
      ],
      "source": [
        "!pip install scikeras[tensorflow]"
      ]
    },
    {
      "cell_type": "code",
      "execution_count": null,
      "metadata": {
        "colab": {
          "base_uri": "https://localhost:8080/"
        },
        "id": "Rv3P5DwUcRHD",
        "outputId": "c07772c7-cbcc-4668-e6dd-e9a992833681"
      },
      "outputs": [
        {
          "output_type": "stream",
          "name": "stderr",
          "text": [
            "[nltk_data] Downloading package punkt to /root/nltk_data...\n",
            "[nltk_data]   Unzipping tokenizers/punkt.zip.\n",
            "[nltk_data] Downloading package stopwords to /root/nltk_data...\n",
            "[nltk_data]   Unzipping corpora/stopwords.zip.\n",
            "[nltk_data] Downloading package wordnet to /root/nltk_data...\n"
          ]
        }
      ],
      "source": [
        "# Import libraries\n",
        "\n",
        "import pandas as pd\n",
        "import numpy as np\n",
        "import re\n",
        "import nltk\n",
        "import pickle\n",
        "import pandas as pd\n",
        "import tensorflow as tf\n",
        "from tensorflow import keras\n",
        "import seaborn as sns\n",
        "import matplotlib.pyplot as plt\n",
        "from tensorflow.keras.preprocessing.text import Tokenizer\n",
        "from tensorflow.keras.preprocessing.sequence import pad_sequences\n",
        "from tensorflow.keras.layers import Embedding, LSTM, Dense, Dropout, Bidirectional, Input\n",
        "from tensorflow.keras.models import Model\n",
        "from nltk.corpus import stopwords\n",
        "from sklearn.feature_extraction.text import TfidfVectorizer, CountVectorizer, HashingVectorizer\n",
        "from sklearn.model_selection import train_test_split, GridSearchCV\n",
        "from sklearn.linear_model import LogisticRegression\n",
        "from sklearn.naive_bayes import MultinomialNB\n",
        "from sklearn.tree import DecisionTreeClassifier\n",
        "from sklearn.ensemble import RandomForestClassifier\n",
        "from sklearn.ensemble import GradientBoostingClassifier\n",
        "from sklearn.linear_model import PassiveAggressiveClassifier\n",
        "from sklearn.metrics import accuracy_score, precision_score, recall_score, f1_score, confusion_matrix, classification_report\n",
        "from keras.preprocessing.text import Tokenizer\n",
        "from keras.utils import pad_sequences\n",
        "from keras.models import Sequential\n",
        "from keras.layers import Embedding, LSTM, Dense, Dropout\n",
        "from sklearn.preprocessing import LabelEncoder\n",
        "from keras.wrappers.scikit_learn import KerasClassifier\n",
        "from keras.layers import SimpleRNN\n",
        "nltk.download('punkt')\n",
        "nltk.download('stopwords')\n",
        "nltk.download('wordnet')\n",
        "from nltk.corpus import stopwords\n",
        "from nltk.stem import WordNetLemmatizer"
      ]
    },
    {
      "cell_type": "markdown",
      "metadata": {
        "id": "81Ts0XtZg-SK"
      },
      "source": [
        "#### Read the CSV file"
      ]
    },
    {
      "cell_type": "code",
      "execution_count": null,
      "metadata": {
        "colab": {
          "base_uri": "https://localhost:8080/"
        },
        "id": "1wLm2s6XhIL5",
        "outputId": "ba3667aa-8537-45b4-af12-b542b8a8e3c5"
      },
      "outputs": [
        {
          "output_type": "stream",
          "name": "stdout",
          "text": [
            "/content/drive/My Drive/Thesis\n"
          ]
        }
      ],
      "source": [
        "%cd /content/drive/My Drive/Thesis"
      ]
    },
    {
      "cell_type": "code",
      "execution_count": null,
      "metadata": {
        "colab": {
          "base_uri": "https://localhost:8080/",
          "height": 467
        },
        "id": "4_ow7cb7eB_T",
        "outputId": "e0c9b388-73f8-4aff-c81b-f2b1b76535af"
      },
      "outputs": [
        {
          "output_type": "execute_result",
          "data": {
            "text/plain": [
              "         id                                              title  \\\n",
              "0         0  As U.S. budget fight looms, Republicans flip t...   \n",
              "1         1  U.S. military to accept transgender recruits o...   \n",
              "2         2  Senior U.S. Republican senator: 'Let Mr. Muell...   \n",
              "3         3  FBI Russia probe helped by Australian diplomat...   \n",
              "4         4  Trump wants Postal Service to charge 'much mor...   \n",
              "...     ...                                                ...   \n",
              "72027  4490  State Department says it can't find emails fro...   \n",
              "72028  8062  The ‘P’ in PBS Should Stand for ‘Plutocratic’ ...   \n",
              "72029  8622  Anti-Trump Protesters Are Tools of the Oligarc...   \n",
              "72030  4021  In Ethiopia, Obama seeks progress on peace, se...   \n",
              "72031  4330  Jeb Bush Is Suddenly Attacking Trump. Here's W...   \n",
              "\n",
              "                                                    text  label  \n",
              "0      WASHINGTON (Reuters) - The head of a conservat...      1  \n",
              "1      WASHINGTON (Reuters) - Transgender people will...      1  \n",
              "2      WASHINGTON (Reuters) - The special counsel inv...      1  \n",
              "3      WASHINGTON (Reuters) - Trump campaign adviser ...      1  \n",
              "4      SEATTLE/WASHINGTON (Reuters) - President Donal...      1  \n",
              "...                                                  ...    ...  \n",
              "72027  The State Department told the Republican Natio...      1  \n",
              "72028  The ‘P’ in PBS Should Stand for ‘Plutocratic’ ...      0  \n",
              "72029   Anti-Trump Protesters Are Tools of the Oligar...      0  \n",
              "72030  ADDIS ABABA, Ethiopia —President Obama convene...      1  \n",
              "72031  Jeb Bush Is Suddenly Attacking Trump. Here's W...      1  \n",
              "\n",
              "[72032 rows x 4 columns]"
            ],
            "text/html": [
              "\n",
              "  <div id=\"df-9db51150-9840-4350-bb5b-3115756507e2\">\n",
              "    <div class=\"colab-df-container\">\n",
              "      <div>\n",
              "<style scoped>\n",
              "    .dataframe tbody tr th:only-of-type {\n",
              "        vertical-align: middle;\n",
              "    }\n",
              "\n",
              "    .dataframe tbody tr th {\n",
              "        vertical-align: top;\n",
              "    }\n",
              "\n",
              "    .dataframe thead th {\n",
              "        text-align: right;\n",
              "    }\n",
              "</style>\n",
              "<table border=\"1\" class=\"dataframe\">\n",
              "  <thead>\n",
              "    <tr style=\"text-align: right;\">\n",
              "      <th></th>\n",
              "      <th>id</th>\n",
              "      <th>title</th>\n",
              "      <th>text</th>\n",
              "      <th>label</th>\n",
              "    </tr>\n",
              "  </thead>\n",
              "  <tbody>\n",
              "    <tr>\n",
              "      <th>0</th>\n",
              "      <td>0</td>\n",
              "      <td>As U.S. budget fight looms, Republicans flip t...</td>\n",
              "      <td>WASHINGTON (Reuters) - The head of a conservat...</td>\n",
              "      <td>1</td>\n",
              "    </tr>\n",
              "    <tr>\n",
              "      <th>1</th>\n",
              "      <td>1</td>\n",
              "      <td>U.S. military to accept transgender recruits o...</td>\n",
              "      <td>WASHINGTON (Reuters) - Transgender people will...</td>\n",
              "      <td>1</td>\n",
              "    </tr>\n",
              "    <tr>\n",
              "      <th>2</th>\n",
              "      <td>2</td>\n",
              "      <td>Senior U.S. Republican senator: 'Let Mr. Muell...</td>\n",
              "      <td>WASHINGTON (Reuters) - The special counsel inv...</td>\n",
              "      <td>1</td>\n",
              "    </tr>\n",
              "    <tr>\n",
              "      <th>3</th>\n",
              "      <td>3</td>\n",
              "      <td>FBI Russia probe helped by Australian diplomat...</td>\n",
              "      <td>WASHINGTON (Reuters) - Trump campaign adviser ...</td>\n",
              "      <td>1</td>\n",
              "    </tr>\n",
              "    <tr>\n",
              "      <th>4</th>\n",
              "      <td>4</td>\n",
              "      <td>Trump wants Postal Service to charge 'much mor...</td>\n",
              "      <td>SEATTLE/WASHINGTON (Reuters) - President Donal...</td>\n",
              "      <td>1</td>\n",
              "    </tr>\n",
              "    <tr>\n",
              "      <th>...</th>\n",
              "      <td>...</td>\n",
              "      <td>...</td>\n",
              "      <td>...</td>\n",
              "      <td>...</td>\n",
              "    </tr>\n",
              "    <tr>\n",
              "      <th>72027</th>\n",
              "      <td>4490</td>\n",
              "      <td>State Department says it can't find emails fro...</td>\n",
              "      <td>The State Department told the Republican Natio...</td>\n",
              "      <td>1</td>\n",
              "    </tr>\n",
              "    <tr>\n",
              "      <th>72028</th>\n",
              "      <td>8062</td>\n",
              "      <td>The ‘P’ in PBS Should Stand for ‘Plutocratic’ ...</td>\n",
              "      <td>The ‘P’ in PBS Should Stand for ‘Plutocratic’ ...</td>\n",
              "      <td>0</td>\n",
              "    </tr>\n",
              "    <tr>\n",
              "      <th>72029</th>\n",
              "      <td>8622</td>\n",
              "      <td>Anti-Trump Protesters Are Tools of the Oligarc...</td>\n",
              "      <td>Anti-Trump Protesters Are Tools of the Oligar...</td>\n",
              "      <td>0</td>\n",
              "    </tr>\n",
              "    <tr>\n",
              "      <th>72030</th>\n",
              "      <td>4021</td>\n",
              "      <td>In Ethiopia, Obama seeks progress on peace, se...</td>\n",
              "      <td>ADDIS ABABA, Ethiopia —President Obama convene...</td>\n",
              "      <td>1</td>\n",
              "    </tr>\n",
              "    <tr>\n",
              "      <th>72031</th>\n",
              "      <td>4330</td>\n",
              "      <td>Jeb Bush Is Suddenly Attacking Trump. Here's W...</td>\n",
              "      <td>Jeb Bush Is Suddenly Attacking Trump. Here's W...</td>\n",
              "      <td>1</td>\n",
              "    </tr>\n",
              "  </tbody>\n",
              "</table>\n",
              "<p>72032 rows × 4 columns</p>\n",
              "</div>\n",
              "      <button class=\"colab-df-convert\" onclick=\"convertToInteractive('df-9db51150-9840-4350-bb5b-3115756507e2')\"\n",
              "              title=\"Convert this dataframe to an interactive table.\"\n",
              "              style=\"display:none;\">\n",
              "        \n",
              "  <svg xmlns=\"http://www.w3.org/2000/svg\" height=\"24px\"viewBox=\"0 0 24 24\"\n",
              "       width=\"24px\">\n",
              "    <path d=\"M0 0h24v24H0V0z\" fill=\"none\"/>\n",
              "    <path d=\"M18.56 5.44l.94 2.06.94-2.06 2.06-.94-2.06-.94-.94-2.06-.94 2.06-2.06.94zm-11 1L8.5 8.5l.94-2.06 2.06-.94-2.06-.94L8.5 2.5l-.94 2.06-2.06.94zm10 10l.94 2.06.94-2.06 2.06-.94-2.06-.94-.94-2.06-.94 2.06-2.06.94z\"/><path d=\"M17.41 7.96l-1.37-1.37c-.4-.4-.92-.59-1.43-.59-.52 0-1.04.2-1.43.59L10.3 9.45l-7.72 7.72c-.78.78-.78 2.05 0 2.83L4 21.41c.39.39.9.59 1.41.59.51 0 1.02-.2 1.41-.59l7.78-7.78 2.81-2.81c.8-.78.8-2.07 0-2.86zM5.41 20L4 18.59l7.72-7.72 1.47 1.35L5.41 20z\"/>\n",
              "  </svg>\n",
              "      </button>\n",
              "      \n",
              "  <style>\n",
              "    .colab-df-container {\n",
              "      display:flex;\n",
              "      flex-wrap:wrap;\n",
              "      gap: 12px;\n",
              "    }\n",
              "\n",
              "    .colab-df-convert {\n",
              "      background-color: #E8F0FE;\n",
              "      border: none;\n",
              "      border-radius: 50%;\n",
              "      cursor: pointer;\n",
              "      display: none;\n",
              "      fill: #1967D2;\n",
              "      height: 32px;\n",
              "      padding: 0 0 0 0;\n",
              "      width: 32px;\n",
              "    }\n",
              "\n",
              "    .colab-df-convert:hover {\n",
              "      background-color: #E2EBFA;\n",
              "      box-shadow: 0px 1px 2px rgba(60, 64, 67, 0.3), 0px 1px 3px 1px rgba(60, 64, 67, 0.15);\n",
              "      fill: #174EA6;\n",
              "    }\n",
              "\n",
              "    [theme=dark] .colab-df-convert {\n",
              "      background-color: #3B4455;\n",
              "      fill: #D2E3FC;\n",
              "    }\n",
              "\n",
              "    [theme=dark] .colab-df-convert:hover {\n",
              "      background-color: #434B5C;\n",
              "      box-shadow: 0px 1px 3px 1px rgba(0, 0, 0, 0.15);\n",
              "      filter: drop-shadow(0px 1px 2px rgba(0, 0, 0, 0.3));\n",
              "      fill: #FFFFFF;\n",
              "    }\n",
              "  </style>\n",
              "\n",
              "      <script>\n",
              "        const buttonEl =\n",
              "          document.querySelector('#df-9db51150-9840-4350-bb5b-3115756507e2 button.colab-df-convert');\n",
              "        buttonEl.style.display =\n",
              "          google.colab.kernel.accessAllowed ? 'block' : 'none';\n",
              "\n",
              "        async function convertToInteractive(key) {\n",
              "          const element = document.querySelector('#df-9db51150-9840-4350-bb5b-3115756507e2');\n",
              "          const dataTable =\n",
              "            await google.colab.kernel.invokeFunction('convertToInteractive',\n",
              "                                                     [key], {});\n",
              "          if (!dataTable) return;\n",
              "\n",
              "          const docLinkHtml = 'Like what you see? Visit the ' +\n",
              "            '<a target=\"_blank\" href=https://colab.research.google.com/notebooks/data_table.ipynb>data table notebook</a>'\n",
              "            + ' to learn more about interactive tables.';\n",
              "          element.innerHTML = '';\n",
              "          dataTable['output_type'] = 'display_data';\n",
              "          await google.colab.output.renderOutput(dataTable, element);\n",
              "          const docLink = document.createElement('div');\n",
              "          docLink.innerHTML = docLinkHtml;\n",
              "          element.appendChild(docLink);\n",
              "        }\n",
              "      </script>\n",
              "    </div>\n",
              "  </div>\n",
              "  "
            ]
          },
          "metadata": {},
          "execution_count": 6
        }
      ],
      "source": [
        "# Load the dataset\n",
        "df = pd.read_csv('train_data.csv')\n",
        "df"
      ]
    },
    {
      "cell_type": "markdown",
      "metadata": {
        "id": "NLVWB-7AgRy9"
      },
      "source": [
        "There are 4 columns in the dataset, of which only the title and the label is used for this study. '0' in 'label' denotes 'Fake News' and '1' denotes 'True news'. Limiting the scope to 'title'(headlines) only, because of the time and computational constraints primarily."
      ]
    },
    {
      "cell_type": "code",
      "execution_count": null,
      "metadata": {
        "id": "q4IdSkCurH0o"
      },
      "outputs": [],
      "source": [
        "# Dropping the columns 'id' and 'text'\n",
        "df.drop(columns=['id','text'],inplace = True)"
      ]
    },
    {
      "cell_type": "code",
      "execution_count": null,
      "metadata": {
        "colab": {
          "base_uri": "https://localhost:8080/",
          "height": 423
        },
        "id": "cAPLMt1trVZO",
        "outputId": "39b38a42-2245-4c64-d6be-6afdf7c7cf68"
      },
      "outputs": [
        {
          "output_type": "execute_result",
          "data": {
            "text/plain": [
              "                                                   title  label\n",
              "0      As U.S. budget fight looms, Republicans flip t...      1\n",
              "1      U.S. military to accept transgender recruits o...      1\n",
              "2      Senior U.S. Republican senator: 'Let Mr. Muell...      1\n",
              "3      FBI Russia probe helped by Australian diplomat...      1\n",
              "4      Trump wants Postal Service to charge 'much mor...      1\n",
              "...                                                  ...    ...\n",
              "72027  State Department says it can't find emails fro...      1\n",
              "72028  The ‘P’ in PBS Should Stand for ‘Plutocratic’ ...      0\n",
              "72029  Anti-Trump Protesters Are Tools of the Oligarc...      0\n",
              "72030  In Ethiopia, Obama seeks progress on peace, se...      1\n",
              "72031  Jeb Bush Is Suddenly Attacking Trump. Here's W...      1\n",
              "\n",
              "[72032 rows x 2 columns]"
            ],
            "text/html": [
              "\n",
              "  <div id=\"df-f161ace8-4dbf-4912-bf02-a64c4b14a6e8\">\n",
              "    <div class=\"colab-df-container\">\n",
              "      <div>\n",
              "<style scoped>\n",
              "    .dataframe tbody tr th:only-of-type {\n",
              "        vertical-align: middle;\n",
              "    }\n",
              "\n",
              "    .dataframe tbody tr th {\n",
              "        vertical-align: top;\n",
              "    }\n",
              "\n",
              "    .dataframe thead th {\n",
              "        text-align: right;\n",
              "    }\n",
              "</style>\n",
              "<table border=\"1\" class=\"dataframe\">\n",
              "  <thead>\n",
              "    <tr style=\"text-align: right;\">\n",
              "      <th></th>\n",
              "      <th>title</th>\n",
              "      <th>label</th>\n",
              "    </tr>\n",
              "  </thead>\n",
              "  <tbody>\n",
              "    <tr>\n",
              "      <th>0</th>\n",
              "      <td>As U.S. budget fight looms, Republicans flip t...</td>\n",
              "      <td>1</td>\n",
              "    </tr>\n",
              "    <tr>\n",
              "      <th>1</th>\n",
              "      <td>U.S. military to accept transgender recruits o...</td>\n",
              "      <td>1</td>\n",
              "    </tr>\n",
              "    <tr>\n",
              "      <th>2</th>\n",
              "      <td>Senior U.S. Republican senator: 'Let Mr. Muell...</td>\n",
              "      <td>1</td>\n",
              "    </tr>\n",
              "    <tr>\n",
              "      <th>3</th>\n",
              "      <td>FBI Russia probe helped by Australian diplomat...</td>\n",
              "      <td>1</td>\n",
              "    </tr>\n",
              "    <tr>\n",
              "      <th>4</th>\n",
              "      <td>Trump wants Postal Service to charge 'much mor...</td>\n",
              "      <td>1</td>\n",
              "    </tr>\n",
              "    <tr>\n",
              "      <th>...</th>\n",
              "      <td>...</td>\n",
              "      <td>...</td>\n",
              "    </tr>\n",
              "    <tr>\n",
              "      <th>72027</th>\n",
              "      <td>State Department says it can't find emails fro...</td>\n",
              "      <td>1</td>\n",
              "    </tr>\n",
              "    <tr>\n",
              "      <th>72028</th>\n",
              "      <td>The ‘P’ in PBS Should Stand for ‘Plutocratic’ ...</td>\n",
              "      <td>0</td>\n",
              "    </tr>\n",
              "    <tr>\n",
              "      <th>72029</th>\n",
              "      <td>Anti-Trump Protesters Are Tools of the Oligarc...</td>\n",
              "      <td>0</td>\n",
              "    </tr>\n",
              "    <tr>\n",
              "      <th>72030</th>\n",
              "      <td>In Ethiopia, Obama seeks progress on peace, se...</td>\n",
              "      <td>1</td>\n",
              "    </tr>\n",
              "    <tr>\n",
              "      <th>72031</th>\n",
              "      <td>Jeb Bush Is Suddenly Attacking Trump. Here's W...</td>\n",
              "      <td>1</td>\n",
              "    </tr>\n",
              "  </tbody>\n",
              "</table>\n",
              "<p>72032 rows × 2 columns</p>\n",
              "</div>\n",
              "      <button class=\"colab-df-convert\" onclick=\"convertToInteractive('df-f161ace8-4dbf-4912-bf02-a64c4b14a6e8')\"\n",
              "              title=\"Convert this dataframe to an interactive table.\"\n",
              "              style=\"display:none;\">\n",
              "        \n",
              "  <svg xmlns=\"http://www.w3.org/2000/svg\" height=\"24px\"viewBox=\"0 0 24 24\"\n",
              "       width=\"24px\">\n",
              "    <path d=\"M0 0h24v24H0V0z\" fill=\"none\"/>\n",
              "    <path d=\"M18.56 5.44l.94 2.06.94-2.06 2.06-.94-2.06-.94-.94-2.06-.94 2.06-2.06.94zm-11 1L8.5 8.5l.94-2.06 2.06-.94-2.06-.94L8.5 2.5l-.94 2.06-2.06.94zm10 10l.94 2.06.94-2.06 2.06-.94-2.06-.94-.94-2.06-.94 2.06-2.06.94z\"/><path d=\"M17.41 7.96l-1.37-1.37c-.4-.4-.92-.59-1.43-.59-.52 0-1.04.2-1.43.59L10.3 9.45l-7.72 7.72c-.78.78-.78 2.05 0 2.83L4 21.41c.39.39.9.59 1.41.59.51 0 1.02-.2 1.41-.59l7.78-7.78 2.81-2.81c.8-.78.8-2.07 0-2.86zM5.41 20L4 18.59l7.72-7.72 1.47 1.35L5.41 20z\"/>\n",
              "  </svg>\n",
              "      </button>\n",
              "      \n",
              "  <style>\n",
              "    .colab-df-container {\n",
              "      display:flex;\n",
              "      flex-wrap:wrap;\n",
              "      gap: 12px;\n",
              "    }\n",
              "\n",
              "    .colab-df-convert {\n",
              "      background-color: #E8F0FE;\n",
              "      border: none;\n",
              "      border-radius: 50%;\n",
              "      cursor: pointer;\n",
              "      display: none;\n",
              "      fill: #1967D2;\n",
              "      height: 32px;\n",
              "      padding: 0 0 0 0;\n",
              "      width: 32px;\n",
              "    }\n",
              "\n",
              "    .colab-df-convert:hover {\n",
              "      background-color: #E2EBFA;\n",
              "      box-shadow: 0px 1px 2px rgba(60, 64, 67, 0.3), 0px 1px 3px 1px rgba(60, 64, 67, 0.15);\n",
              "      fill: #174EA6;\n",
              "    }\n",
              "\n",
              "    [theme=dark] .colab-df-convert {\n",
              "      background-color: #3B4455;\n",
              "      fill: #D2E3FC;\n",
              "    }\n",
              "\n",
              "    [theme=dark] .colab-df-convert:hover {\n",
              "      background-color: #434B5C;\n",
              "      box-shadow: 0px 1px 3px 1px rgba(0, 0, 0, 0.15);\n",
              "      filter: drop-shadow(0px 1px 2px rgba(0, 0, 0, 0.3));\n",
              "      fill: #FFFFFF;\n",
              "    }\n",
              "  </style>\n",
              "\n",
              "      <script>\n",
              "        const buttonEl =\n",
              "          document.querySelector('#df-f161ace8-4dbf-4912-bf02-a64c4b14a6e8 button.colab-df-convert');\n",
              "        buttonEl.style.display =\n",
              "          google.colab.kernel.accessAllowed ? 'block' : 'none';\n",
              "\n",
              "        async function convertToInteractive(key) {\n",
              "          const element = document.querySelector('#df-f161ace8-4dbf-4912-bf02-a64c4b14a6e8');\n",
              "          const dataTable =\n",
              "            await google.colab.kernel.invokeFunction('convertToInteractive',\n",
              "                                                     [key], {});\n",
              "          if (!dataTable) return;\n",
              "\n",
              "          const docLinkHtml = 'Like what you see? Visit the ' +\n",
              "            '<a target=\"_blank\" href=https://colab.research.google.com/notebooks/data_table.ipynb>data table notebook</a>'\n",
              "            + ' to learn more about interactive tables.';\n",
              "          element.innerHTML = '';\n",
              "          dataTable['output_type'] = 'display_data';\n",
              "          await google.colab.output.renderOutput(dataTable, element);\n",
              "          const docLink = document.createElement('div');\n",
              "          docLink.innerHTML = docLinkHtml;\n",
              "          element.appendChild(docLink);\n",
              "        }\n",
              "      </script>\n",
              "    </div>\n",
              "  </div>\n",
              "  "
            ]
          },
          "metadata": {},
          "execution_count": 8
        }
      ],
      "source": [
        "df"
      ]
    },
    {
      "cell_type": "markdown",
      "metadata": {
        "id": "q6pmyz4fhYN9"
      },
      "source": [
        "## Inspect the dataset\n",
        "#### Check the shape, columns, data types, and basic statistics of the dataset."
      ]
    },
    {
      "cell_type": "code",
      "execution_count": null,
      "metadata": {
        "colab": {
          "base_uri": "https://localhost:8080/"
        },
        "id": "GfmLfiOEhFJx",
        "outputId": "180f1783-0132-4d67-b0b0-121b0cf36b13"
      },
      "outputs": [
        {
          "output_type": "execute_result",
          "data": {
            "text/plain": [
              "(72032, 2)"
            ]
          },
          "metadata": {},
          "execution_count": 9
        }
      ],
      "source": [
        "df.shape"
      ]
    },
    {
      "cell_type": "code",
      "execution_count": null,
      "metadata": {
        "colab": {
          "base_uri": "https://localhost:8080/"
        },
        "id": "xM4rs6XQhdIq",
        "outputId": "e2967a42-929f-4c03-bb54-6a1da8aca6ff"
      },
      "outputs": [
        {
          "output_type": "execute_result",
          "data": {
            "text/plain": [
              "title    object\n",
              "label     int64\n",
              "dtype: object"
            ]
          },
          "metadata": {},
          "execution_count": 10
        }
      ],
      "source": [
        "df.dtypes"
      ]
    },
    {
      "cell_type": "code",
      "execution_count": null,
      "metadata": {
        "colab": {
          "base_uri": "https://localhost:8080/"
        },
        "id": "_m95KwsBhfJh",
        "outputId": "ffb5c2a6-cab1-4ca4-e643-ea43c0c28bff"
      },
      "outputs": [
        {
          "output_type": "execute_result",
          "data": {
            "text/plain": [
              "0    47444\n",
              "1    24588\n",
              "Name: label, dtype: int64"
            ]
          },
          "metadata": {},
          "execution_count": 11
        }
      ],
      "source": [
        "df['label'].value_counts()"
      ]
    },
    {
      "cell_type": "markdown",
      "metadata": {
        "id": "iZTt1SSdhRnF"
      },
      "source": [
        "'label' attribute has two unique values, '0' and '1', denoting 'Fake News' and 'True News' respectively."
      ]
    },
    {
      "cell_type": "markdown",
      "metadata": {
        "id": "iOOIu7GHhsW4"
      },
      "source": [
        "#### Look for any missing values or inconsistencies that need to be addressed."
      ]
    },
    {
      "cell_type": "code",
      "execution_count": null,
      "metadata": {
        "colab": {
          "base_uri": "https://localhost:8080/"
        },
        "id": "CmmxSl2fhh1Y",
        "outputId": "5e7e2f00-0fbc-4c8d-dec7-c88ca6be6edc"
      },
      "outputs": [
        {
          "output_type": "execute_result",
          "data": {
            "text/plain": [
              "title    558\n",
              "label      0\n",
              "dtype: int64"
            ]
          },
          "metadata": {},
          "execution_count": 12
        }
      ],
      "source": [
        "df.isnull().sum()"
      ]
    },
    {
      "cell_type": "markdown",
      "metadata": {
        "id": "LpUxQVKihfBA"
      },
      "source": [
        "There are 558 null values in the 'title' column. Since there are only two columns in the dataset, the rows with null values have to be removed"
      ]
    },
    {
      "cell_type": "markdown",
      "metadata": {
        "id": "4PDCciMUhq1M"
      },
      "source": [
        "## Handle missing values:\n",
        "#### Dropping rows/columns"
      ]
    },
    {
      "cell_type": "code",
      "execution_count": null,
      "metadata": {
        "colab": {
          "base_uri": "https://localhost:8080/"
        },
        "id": "PNEOJ1YahmVp",
        "outputId": "5f135c4a-265a-4423-e8b3-b51b90659455"
      },
      "outputs": [
        {
          "output_type": "execute_result",
          "data": {
            "text/plain": [
              "title    0\n",
              "label    0\n",
              "dtype: int64"
            ]
          },
          "metadata": {},
          "execution_count": 13
        }
      ],
      "source": [
        "# Dropping all the rows with null values\n",
        "df = df.dropna()\n",
        "df.isnull().sum()"
      ]
    },
    {
      "cell_type": "markdown",
      "metadata": {
        "id": "IZZcwup1hyXs"
      },
      "source": [
        "## Text preprocessing"
      ]
    },
    {
      "cell_type": "markdown",
      "metadata": {
        "id": "myWfK4W4h4ve"
      },
      "source": [
        "Creating a function for preprocessing the text. This function includes code for converting the text to lowercase, removing any numbers and punctuations and replacing them with a single space, converting the text to tokens, removing all the stopwords and joining the tokens back into a string. \n",
        "This snippet is bound as a function so that further studies can include the 'text' column also and the same function can be reused."
      ]
    },
    {
      "cell_type": "code",
      "execution_count": null,
      "metadata": {
        "id": "a8Wt3wrshvyQ"
      },
      "outputs": [],
      "source": [
        "def preprocess(text):\n",
        "    if isinstance(text, str):\n",
        "        # Convert to lowercase\n",
        "        text = text.lower()\n",
        "        # Remove numbers and punctuation\n",
        "        text = re.sub(r'[^\\w\\s]|[\\d]', '', text)\n",
        "        # Tokenize the text\n",
        "        tokens = nltk.word_tokenize(text)\n",
        "        lemmatizer = WordNetLemmatizer()\n",
        "        # Lemmatize each token\n",
        "        tokens = [lemmatizer.lemmatize(token) for token in tokens]\n",
        "        # Remove stop words\n",
        "        stop_words = set(stopwords.words('english'))\n",
        "        tokens = [token for token in tokens if token not in stop_words]\n",
        "        # Join the tokens back into a string\n",
        "        text = ' '.join(tokens)\n",
        "    return text\n"
      ]
    },
    {
      "cell_type": "code",
      "execution_count": null,
      "metadata": {
        "colab": {
          "base_uri": "https://localhost:8080/"
        },
        "id": "boRND7Irh5_t",
        "outputId": "454e28b6-4a96-43a1-8999-5d914b0c4cab"
      },
      "outputs": [
        {
          "output_type": "stream",
          "name": "stderr",
          "text": [
            "<ipython-input-15-add41be75acf>:2: SettingWithCopyWarning: \n",
            "A value is trying to be set on a copy of a slice from a DataFrame.\n",
            "Try using .loc[row_indexer,col_indexer] = value instead\n",
            "\n",
            "See the caveats in the documentation: https://pandas.pydata.org/pandas-docs/stable/user_guide/indexing.html#returning-a-view-versus-a-copy\n",
            "  df['title'] = df['title'].apply(preprocess)\n"
          ]
        }
      ],
      "source": [
        "# Applying the preprocessing to the 'title' column using apply() method\n",
        "df['title'] = df['title'].apply(preprocess)"
      ]
    },
    {
      "cell_type": "markdown",
      "metadata": {
        "id": "R2vsMTyAiFpK"
      },
      "source": [
        "## Split the dataset"
      ]
    },
    {
      "cell_type": "code",
      "execution_count": null,
      "metadata": {
        "id": "NpsImfTuh_bP"
      },
      "outputs": [],
      "source": [
        "# Splitting the dataset into dependent and target data\n",
        "X = df['title'] \n",
        "y = df['label']"
      ]
    },
    {
      "cell_type": "code",
      "execution_count": null,
      "metadata": {
        "colab": {
          "base_uri": "https://localhost:8080/"
        },
        "id": "0Gba7qU8rgSg",
        "outputId": "d6af92d9-0ef2-457b-ac28-db2aa42c2e1a"
      },
      "outputs": [
        {
          "output_type": "execute_result",
          "data": {
            "text/plain": [
              "0        u budget fight loom republican flip fiscal script\n",
              "1        u military accept transgender recruit monday p...\n",
              "2           senior u republican senator let mr mueller job\n",
              "3        fbi russia probe helped australian diplomat ti...\n",
              "4        trump want postal service charge much amazon s...\n",
              "                               ...                        \n",
              "72027    state department say cant find email clinton s...\n",
              "72028                      p pb stand plutocratic pentagon\n",
              "72029       antitrump protester tool oligarchy information\n",
              "72030    ethiopia obama seek progress peace security ea...\n",
              "72031             jeb bush suddenly attacking trump matter\n",
              "Name: title, Length: 71474, dtype: object"
            ]
          },
          "metadata": {},
          "execution_count": 17
        }
      ],
      "source": [
        "X"
      ]
    },
    {
      "cell_type": "code",
      "execution_count": null,
      "metadata": {
        "colab": {
          "base_uri": "https://localhost:8080/"
        },
        "id": "miIJ9NnsrhQd",
        "outputId": "665a88b1-6a20-4e8c-c5b7-7d656e429b24"
      },
      "outputs": [
        {
          "output_type": "execute_result",
          "data": {
            "text/plain": [
              "0        1\n",
              "1        1\n",
              "2        1\n",
              "3        1\n",
              "4        1\n",
              "        ..\n",
              "72027    1\n",
              "72028    0\n",
              "72029    0\n",
              "72030    1\n",
              "72031    1\n",
              "Name: label, Length: 71474, dtype: int64"
            ]
          },
          "metadata": {},
          "execution_count": 18
        }
      ],
      "source": [
        "y"
      ]
    },
    {
      "cell_type": "code",
      "execution_count": null,
      "metadata": {
        "id": "UbiT9Op1iKES"
      },
      "outputs": [],
      "source": [
        "# Splitting the dataset into train and test datasets (80:20 split). 'stratify' parameter will ensure that the same proportion of data is maintained in the split datasets as in the original one.\n",
        "X_train, X_test, y_train, y_test = train_test_split(X, y, test_size=0.2, random_state=42, stratify=y)"
      ]
    },
    {
      "cell_type": "code",
      "execution_count": null,
      "metadata": {
        "colab": {
          "base_uri": "https://localhost:8080/"
        },
        "id": "PlRzSzmKrsxG",
        "outputId": "281b9f1c-0580-4f01-ddb5-ab6f6390af9b"
      },
      "outputs": [
        {
          "output_type": "execute_result",
          "data": {
            "text/plain": [
              "33947    wow fbi asst director used kill people like hi...\n",
              "21391    romanian president opposes plan judicial overhaul\n",
              "3399     russia probe grind trump struggle gain tractio...\n",
              "32868    college student wanted pay education make stun...\n",
              "38816    unreal republican senate confirms eric holder ...\n",
              "                               ...                        \n",
              "24173    trump got eightyearold american girl killed al...\n",
              "8225     u lawmaker press aol powell state department e...\n",
              "31942    sarah huckabee sander call fake newsreporter y...\n",
              "25981    michigan republican strip flint power sue stat...\n",
              "41077    obamas communist crony van jones worry hell te...\n",
              "Name: title, Length: 57179, dtype: object"
            ]
          },
          "metadata": {},
          "execution_count": 20
        }
      ],
      "source": [
        "X_train"
      ]
    },
    {
      "cell_type": "code",
      "execution_count": null,
      "metadata": {
        "colab": {
          "base_uri": "https://localhost:8080/"
        },
        "id": "fVUdWy9ersl7",
        "outputId": "555adfd7-d599-4c23-d62a-df19475a3775"
      },
      "outputs": [
        {
          "output_type": "execute_result",
          "data": {
            "text/plain": [
              "59755    white house object drudge criticism gop need t...\n",
              "51067    u attempt simulated north korean icbm intercep...\n",
              "23053     trump favorite new dictator cut access wikipedia\n",
              "45137    report megyn kelly kick nbc show kardashian fa...\n",
              "12378    supporter egypt presidential hopeful arrested ...\n",
              "                               ...                        \n",
              "52523    cruise ship miami dock cuba ending decadesold ...\n",
              "44567    anarchy design antitrump flash mob hollywood w...\n",
              "26521    convicted felon gun ha kneejerk reaction kill ...\n",
              "30004    psychic apparently couldnt predict lawsuit she...\n",
              "71731               sufism service empire case maryamiyyah\n",
              "Name: title, Length: 14295, dtype: object"
            ]
          },
          "metadata": {},
          "execution_count": 21
        }
      ],
      "source": [
        "X_test"
      ]
    },
    {
      "cell_type": "code",
      "execution_count": null,
      "metadata": {
        "colab": {
          "base_uri": "https://localhost:8080/"
        },
        "id": "gFycrb3xrseT",
        "outputId": "acde6017-fa5d-462c-e312-9f1fdf956a78"
      },
      "outputs": [
        {
          "output_type": "execute_result",
          "data": {
            "text/plain": [
              "33947    0\n",
              "21391    1\n",
              "3399     1\n",
              "32868    0\n",
              "38816    0\n",
              "        ..\n",
              "24173    0\n",
              "8225     1\n",
              "31942    0\n",
              "25981    0\n",
              "41077    0\n",
              "Name: label, Length: 57179, dtype: int64"
            ]
          },
          "metadata": {},
          "execution_count": 22
        }
      ],
      "source": [
        "y_train"
      ]
    },
    {
      "cell_type": "code",
      "execution_count": null,
      "metadata": {
        "colab": {
          "base_uri": "https://localhost:8080/"
        },
        "id": "H9vfBjT7rsPi",
        "outputId": "b0efbdbb-e4ef-4b7d-cafa-208e8475296c"
      },
      "outputs": [
        {
          "output_type": "execute_result",
          "data": {
            "text/plain": [
              "59755    0\n",
              "51067    0\n",
              "23053    0\n",
              "45137    0\n",
              "12378    1\n",
              "        ..\n",
              "52523    0\n",
              "44567    0\n",
              "26521    0\n",
              "30004    0\n",
              "71731    0\n",
              "Name: label, Length: 14295, dtype: int64"
            ]
          },
          "metadata": {},
          "execution_count": 23
        }
      ],
      "source": [
        "y_test"
      ]
    },
    {
      "cell_type": "markdown",
      "metadata": {
        "id": "6-QwkVYNiXvf"
      },
      "source": [
        "# Feature Extraction"
      ]
    },
    {
      "cell_type": "code",
      "execution_count": null,
      "metadata": {
        "id": "MqZgeeACiUCU"
      },
      "outputs": [],
      "source": [
        "# Function to convert the tokenized text into a TF-IDF (Term Frequency - Inverse Document Frequency) matrix form\n",
        "def tfidf_vectorizer(X_train, X_test):\n",
        "    vectorizer = TfidfVectorizer()\n",
        "    X_train_vec = vectorizer.fit_transform(X_train)\n",
        "    X_test_vec = vectorizer.transform(X_test)\n",
        "    return X_train_vec, X_test_vec"
      ]
    },
    {
      "cell_type": "markdown",
      "metadata": {
        "id": "KIHp9L6fikXE"
      },
      "source": [
        "## Apply these functions to the preprocessed text data (X_train and X_test) and obtain the transformed feature representations"
      ]
    },
    {
      "cell_type": "code",
      "execution_count": null,
      "metadata": {
        "id": "MUZkwxzlihiU"
      },
      "outputs": [],
      "source": [
        "# Applying the tfidf vectorizer to the train and test X data splits\n",
        "X_train_tfidf, X_test_tfidf = tfidf_vectorizer(X_train, X_test)"
      ]
    },
    {
      "cell_type": "code",
      "execution_count": null,
      "metadata": {
        "colab": {
          "base_uri": "https://localhost:8080/"
        },
        "id": "EQZfQQyFnpbk",
        "outputId": "bed4056d-78f6-47ad-9bb6-13907b5a3a52"
      },
      "outputs": [
        {
          "output_type": "execute_result",
          "data": {
            "text/plain": [
              "<57179x29757 sparse matrix of type '<class 'numpy.float64'>'\n",
              "\twith 501512 stored elements in Compressed Sparse Row format>"
            ]
          },
          "metadata": {},
          "execution_count": 26
        }
      ],
      "source": [
        "X_train_tfidf\n"
      ]
    },
    {
      "cell_type": "markdown",
      "metadata": {
        "id": "BowsCpxzirnH"
      },
      "source": [
        "# Machine Learning Models"
      ]
    },
    {
      "cell_type": "markdown",
      "metadata": {
        "id": "O4xLH4IA0GCG"
      },
      "source": [
        "##With Hyperparameter tuning"
      ]
    },
    {
      "cell_type": "markdown",
      "metadata": {
        "id": "NyT2yKYq0L0f"
      },
      "source": [
        "#### Logistic Regression"
      ]
    },
    {
      "cell_type": "markdown",
      "metadata": {
        "id": "bz2Va1UWkXDD"
      },
      "source": [
        "Logistic Regression"
      ]
    },
    {
      "cell_type": "code",
      "execution_count": null,
      "metadata": {
        "colab": {
          "base_uri": "https://localhost:8080/"
        },
        "id": "5hwtyWIb0FnS",
        "outputId": "1ae77749-89ab-4b88-9255-cc210482db12"
      },
      "outputs": [
        {
          "name": "stdout",
          "output_type": "stream",
          "text": [
            "Best parameters for Logistic Regression:  {'C': 10}\n",
            "Logistic Regression classification report:\n",
            "               precision    recall  f1-score   support\n",
            "\n",
            "           0       0.92      0.94      0.93      9377\n",
            "           1       0.88      0.85      0.87      4918\n",
            "\n",
            "    accuracy                           0.91     14295\n",
            "   macro avg       0.90      0.90      0.90     14295\n",
            "weighted avg       0.91      0.91      0.91     14295\n",
            "\n",
            "Logistic Regression train accuracy: 0.9631857849909932\n",
            "Logistic Regression test accuracy: 0.9110178384050367\n"
          ]
        }
      ],
      "source": [
        "# Creating a logistic regression classifier object lr with a maximum iteration of 1000\n",
        "lr = LogisticRegression(max_iter=1000)\n",
        "\n",
        "# A parameter grid for the C hyperparameter is created, which is the inverse of the regularization strength. \n",
        "# Three different values of C are specified to be tested: 0.1, 1, and 10.\n",
        "param_grid_lr = {'C': [0.1, 1, 10]}\n",
        "\n",
        "# GridSearchCV is used to search for the best combination of hyperparameters using 5-fold cross-validation (cv=5) on the training set\n",
        "grid_lr = GridSearchCV(lr, param_grid_lr, cv=5)\n",
        "grid_lr.fit(X_train_tfidf, y_train)\n",
        "# The best hyperparameters found by GridSearchCV are printed.\n",
        "print(\"Best parameters for Logistic Regression: \", grid_lr.best_params_)\n",
        "\n",
        "# The best logistic regression classifier found by GridSearchCV is used to predict the labels of the training set and the test set.\n",
        "pred_train_lr = grid_lr.predict(X_train_tfidf)\n",
        "pred_test_lr = grid_lr.predict(X_test_tfidf)\n",
        "\n",
        "# The accuracy scores of the training and test sets \n",
        "train_score_lr = accuracy_score(pred_train_lr, y_train)\n",
        "test_score_lr = accuracy_score(pred_test_lr, y_test)\n",
        "\n",
        "# The classification report, which includes precision, recall, f1-score, and support for each class, is printed for the test set.\n",
        "print(\"Logistic Regression classification report:\\n\", classification_report(y_test, pred_test_lr))\n",
        "print(\"Logistic Regression train accuracy:\", train_score_lr)\n",
        "print(\"Logistic Regression test accuracy:\", test_score_lr)"
      ]
    },
    {
      "cell_type": "code",
      "execution_count": null,
      "metadata": {
        "colab": {
          "base_uri": "https://localhost:8080/",
          "height": 472
        },
        "id": "keBlhrSS0aiJ",
        "outputId": "02c896be-a7f8-4cc2-ba78-224aadd69be5"
      },
      "outputs": [
        {
          "data": {
            "image/png": "[encoded data removed]",
            "text/plain": [
              "<Figure size 640x480 with 2 Axes>"
            ]
          },
          "metadata": {},
          "output_type": "display_data"
        }
      ],
      "source": [
        "# A confusion matrix is calculated for the test set predictions and true labels using confusion_matrix.\n",
        "# The confusion matrix is plotted as a heatmap using seaborn and matplotlib.\n",
        "\n",
        "cm_lr = confusion_matrix(y_test, pred_test_lr)\n",
        "\n",
        "# Plot confusion matrix as heatmap\n",
        "sns.heatmap(cm_lr, annot=True, cmap='Blues', fmt='d')\n",
        "# The title, x-label, and y-label of the confusion matrix plot are set and the plot is displayed using plt.show()\n",
        "plt.title('Confusion matrix for Logistic Regression')\n",
        "plt.xlabel('Predicted label')\n",
        "plt.ylabel('True label')\n",
        "plt.show()"
      ]
    },
    {
      "cell_type": "markdown",
      "metadata": {
        "id": "ua3TyeRF0P7P"
      },
      "source": [
        "#### Decision Tree"
      ]
    },
    {
      "cell_type": "code",
      "execution_count": null,
      "metadata": {
        "colab": {
          "base_uri": "https://localhost:8080/"
        },
        "id": "PvTxCmv4jl3w",
        "outputId": "1781e117-3590-4640-8d49-5023701efaec"
      },
      "outputs": [
        {
          "name": "stdout",
          "output_type": "stream",
          "text": [
            "Best parameters for Decision Tree:  {'max_depth': 50}\n",
            "Decision Tree classification report:\n",
            "               precision    recall  f1-score   support\n",
            "\n",
            "           0       0.83      0.93      0.87      9377\n",
            "           1       0.82      0.63      0.71      4918\n",
            "\n",
            "    accuracy                           0.82     14295\n",
            "   macro avg       0.82      0.78      0.79     14295\n",
            "weighted avg       0.82      0.82      0.82     14295\n",
            "\n",
            "Decision Tree train accuracy: 0.874149600377761\n",
            "Decision Tree test accuracy: 0.8246239944036377\n"
          ]
        }
      ],
      "source": [
        "# Creating a decision tree classifier object dt\n",
        "dt = DecisionTreeClassifier()\n",
        "\n",
        "# A parameter grid for the max_depth hyperparameter is created, which specifies the maximum depth of the decision tree. \n",
        "# Three different values of max_depth are specified to be tested: 4, 10, and 50.\n",
        "param_grid_dt = {'max_depth': [4, 10, 50]}\n",
        "\n",
        "# GridSearchCV to search for the best combination of hyperparameters using 5-fold cross-validation (cv=5) on the training set\n",
        "grid_dt = GridSearchCV(dt, param_grid_dt, cv=5)\n",
        "grid_dt.fit(X_train_tfidf, y_train)\n",
        "print(\"Best parameters for Decision Tree: \", grid_dt.best_params_)\n",
        "\n",
        "# The best decision tree classifier found by GridSearchCV is used to predict the labels of the training set and the test set.\n",
        "pred_train_dt = grid_dt.predict(X_train_tfidf)\n",
        "pred_test_dt = grid_dt.predict(X_test_tfidf)\n",
        "\n",
        "# The classification report, which includes precision, recall, f1-score, and support for each class, is printed for the test set.\n",
        "print(\"Decision Tree classification report:\\n\", classification_report(y_test, pred_test_dt))\n",
        "\n",
        "# The accuracy scores of the training and test sets\n",
        "train_score_dt = accuracy_score(pred_train_dt, y_train)\n",
        "test_score_dt = accuracy_score(pred_test_dt, y_test)\n",
        "\n",
        "print(\"Decision Tree train accuracy:\", train_score_dt)\n",
        "print(\"Decision Tree test accuracy:\", test_score_dt)"
      ]
    },
    {
      "cell_type": "code",
      "execution_count": null,
      "metadata": {
        "colab": {
          "base_uri": "https://localhost:8080/",
          "height": 472
        },
        "id": "o4TiOAUWaT9Y",
        "outputId": "47aed733-8d1e-4fec-9269-8ed58a3d85a0"
      },
      "outputs": [
        {
          "data": {
            "image/png": "[encoded data removed]",
            "text/plain": [
              "<Figure size 640x480 with 2 Axes>"
            ]
          },
          "metadata": {},
          "output_type": "display_data"
        }
      ],
      "source": [
        "# Confusion matrix for the test set predictions and true labels\n",
        "cm_dt = confusion_matrix(y_test, pred_test_dt)\n",
        "\n",
        "# Plot confusion matrix as heatmap using seaborn and matplotlib.\n",
        "sns.heatmap(cm_dt, annot=True, cmap='Blues', fmt='d')\n",
        "plt.title('Confusion matrix for Decision Tree')\n",
        "plt.xlabel('Predicted label')\n",
        "plt.ylabel('True label')\n",
        "plt.show()"
      ]
    },
    {
      "cell_type": "markdown",
      "metadata": {
        "id": "3aKQxL5E0TGj"
      },
      "source": [
        "#### Gradient Boosting"
      ]
    },
    {
      "cell_type": "code",
      "execution_count": null,
      "metadata": {
        "colab": {
          "base_uri": "https://localhost:8080/"
        },
        "id": "JLKLTiQ40WKB",
        "outputId": "c19edeb3-63a3-4f2a-d4f6-6b859134e97e"
      },
      "outputs": [
        {
          "name": "stdout",
          "output_type": "stream",
          "text": [
            "Best parameters for Gradient Boosting:  {'learning_rate': 0.1, 'n_estimators': 300}\n",
            "Gradient Boosting classification report:\n",
            "               precision    recall  f1-score   support\n",
            "\n",
            "           0       0.84      0.95      0.89      9377\n",
            "           1       0.88      0.65      0.74      4918\n",
            "\n",
            "    accuracy                           0.85     14295\n",
            "   macro avg       0.86      0.80      0.82     14295\n",
            "weighted avg       0.85      0.85      0.84     14295\n",
            "\n",
            "Gradient Boosting train accuracy: 0.8566606621312021\n",
            "Gradient Boosting test accuracy: 0.8474291710388248\n"
          ]
        }
      ],
      "source": [
        "# Creating a Gradient Boosting classifier object gb\n",
        "gb = GradientBoostingClassifier(random_state=0)\n",
        "\n",
        "# A parameter grid is created for the n_estimators and learning_rate hyperparameters. \n",
        "# Three different values of n_estimators (100, 200, 300) and three different values of learning_rate (0.1, 0.05, 0.01) are specified to be tested.\n",
        "param_grid_gb = {'n_estimators': [100, 200, 300], 'learning_rate': [0.1, 0.05, 0.01]}\n",
        "\n",
        "# GridSearchCV to search for the best combination of hyperparameters using 5-fold cross-validation (cv=5) on the training set\n",
        "grid_gb = GridSearchCV(gb, param_grid_gb, cv=5)\n",
        "grid_gb.fit(X_train_tfidf, y_train)\n",
        "print(\"Best parameters for Gradient Boosting: \", grid_gb.best_params_)\n",
        "\n",
        "# The best gradient boosting classifier found by GridSearchCV to predict the labels of the training set and the test set\n",
        "pred_train_gb = grid_gb.predict(X_train_tfidf)\n",
        "pred_test_gb = grid_gb.predict(X_test_tfidf)\n",
        "\n",
        "# The classification report, which includes precision, recall, f1-score, and support for each class, is printed for the test set\n",
        "print(\"Gradient Boosting classification report:\\n\", classification_report(y_test, pred_test_gb))\n",
        "\n",
        "# The accuracy scores of the training and test sets\n",
        "train_score_gb = accuracy_score(pred_train_gb, y_train)\n",
        "test_score_gb = accuracy_score(pred_test_gb, y_test)\n",
        "print(\"Gradient Boosting train accuracy:\", train_score_gb)\n",
        "print(\"Gradient Boosting test accuracy:\", test_score_gb)"
      ]
    },
    {
      "cell_type": "code",
      "execution_count": null,
      "metadata": {
        "colab": {
          "base_uri": "https://localhost:8080/",
          "height": 472
        },
        "id": "OzG1I6d0ksct",
        "outputId": "4af44b88-9622-4769-bd93-7a0cb4b9ab81"
      },
      "outputs": [
        {
          "data": {
            "image/png": "[encoded data removed]",
            "text/plain": [
              "<Figure size 640x480 with 2 Axes>"
            ]
          },
          "metadata": {},
          "output_type": "display_data"
        }
      ],
      "source": [
        "# Confusion matrix for the test set predictions and true labels\n",
        "cm_gb = confusion_matrix(y_test, pred_test_gb)\n",
        "\n",
        "# Plot confusion matrix as heatmap\n",
        "sns.heatmap(cm_gb, annot=True, cmap='Blues', fmt='d')\n",
        "# The title, x-label, and y-label of the confusion matrix plot are set and the plot is displayed using plt.show()\n",
        "plt.title('Confusion matrix for Gradient Boosting')\n",
        "plt.xlabel('Predicted label')\n",
        "plt.ylabel('True label')\n",
        "plt.show()"
      ]
    },
    {
      "cell_type": "markdown",
      "metadata": {
        "id": "mMC_-7by0WqB"
      },
      "source": [
        "#### Random Forest"
      ]
    },
    {
      "cell_type": "code",
      "execution_count": null,
      "metadata": {
        "colab": {
          "base_uri": "https://localhost:8080/"
        },
        "id": "0lYthqVa0ZvP",
        "outputId": "ef8cc83e-d773-44eb-e3ac-4547045e7927"
      },
      "outputs": [
        {
          "name": "stdout",
          "output_type": "stream",
          "text": [
            "Best parameters for Random Forest:  {'max_depth': 50, 'n_estimators': 300}\n",
            "Random Forest classification report:\n",
            "               precision    recall  f1-score   support\n",
            "\n",
            "           0       0.78      0.99      0.87      9377\n",
            "           1       0.96      0.46      0.62      4918\n",
            "\n",
            "    accuracy                           0.81     14295\n",
            "   macro avg       0.87      0.73      0.75     14295\n",
            "weighted avg       0.84      0.81      0.79     14295\n",
            "\n",
            "Random Forest train accuracy: 0.8292380069605975\n",
            "Random Forest test accuracy: 0.8079048618398041\n"
          ]
        }
      ],
      "source": [
        "# Creating a Random Forest classifier object rf\n",
        "rf = RandomForestClassifier(random_state=0)\n",
        "\n",
        "# A parameter grid is created for the n_estimators and learning_rate hyperparameters. \n",
        "# Three different values of n_estimators (100, 200, 300) and three different values of learning_rate (0.1, 0.05, 0.01) are specified to be tested.\n",
        "param_grid_rf = {'n_estimators': [100, 200, 300], 'max_depth': [4, 10, 50]}\n",
        "\n",
        "# GridSearchCV to search for the best combination of hyperparameters using 5-fold cross-validation (cv=5) on the training set\n",
        "grid_rf = GridSearchCV(rf, param_grid_rf, cv=5)\n",
        "\n",
        "grid_rf.fit(X_train_tfidf, y_train)\n",
        "print(\"Best parameters for Random Forest: \", grid_rf.best_params_)\n",
        "\n",
        "# The best Random Forest classifier found by GridSearchCV to predict the labels of the training set and the test set\n",
        "pred_train_rf = grid_rf.predict(X_train_tfidf)\n",
        "pred_test_rf = grid_rf.predict(X_test_tfidf)\n",
        "\n",
        "# The classification report, which includes precision, recall, f1-score, and support for each class, is printed for the test set\n",
        "print(\"Random Forest classification report:\\n\", classification_report(y_test, pred_test_rf))\n",
        "\n",
        "# The accuracy scores of the training and test sets\n",
        "train_score_rf = accuracy_score(pred_train_rf, y_train)\n",
        "test_score_rf = accuracy_score(pred_test_rf, y_test)\n",
        "\n",
        "print(\"Random Forest train accuracy:\", train_score_rf)\n",
        "print(\"Random Forest test accuracy:\", test_score_rf)"
      ]
    },
    {
      "cell_type": "code",
      "execution_count": null,
      "metadata": {
        "colab": {
          "base_uri": "https://localhost:8080/",
          "height": 472
        },
        "id": "208tQlO8lUF0",
        "outputId": "5d3d862f-417e-4d42-a311-189641d71e4b"
      },
      "outputs": [
        {
          "data": {
            "image/png": "[encoded data removed]",
            "text/plain": [
              "<Figure size 640x480 with 2 Axes>"
            ]
          },
          "metadata": {},
          "output_type": "display_data"
        }
      ],
      "source": [
        "# Confusion matrix for the test set predictions and true labels\n",
        "cm_rf = confusion_matrix(y_test, pred_test_rf)\n",
        "\n",
        "# Plot confusion matrix as heatmap\n",
        "sns.heatmap(cm_rf, annot=True, cmap='Blues', fmt='d')\n",
        "# The title, x-label, and y-label of the confusion matrix plot are set and the plot is displayed using plt.show()\n",
        "plt.title('Confusion matrix for Random Forest')\n",
        "plt.xlabel('Predicted label')\n",
        "plt.ylabel('True label')\n",
        "plt.show()"
      ]
    },
    {
      "cell_type": "markdown",
      "metadata": {
        "id": "cskcg9f70aNX"
      },
      "source": [
        "#### Multinomial NB"
      ]
    },
    {
      "cell_type": "markdown",
      "metadata": {
        "id": "dI51vurB1HkP"
      },
      "source": [
        "Even though MNB is designed for multiclass classification, it can work well for binary classification tasks because it can handle sparse data, which is common in text classification. In addition, MNB is fast and requires relatively little training data compared to other algorithms, which makes it a popular choice for text classification tasks."
      ]
    },
    {
      "cell_type": "code",
      "execution_count": null,
      "metadata": {
        "colab": {
          "base_uri": "https://localhost:8080/"
        },
        "id": "D6zs4xkO0hWd",
        "outputId": "5757e4a6-c31c-4f73-c840-efc7a874ec29"
      },
      "outputs": [
        {
          "name": "stdout",
          "output_type": "stream",
          "text": [
            "Best parameters for Multinomial NB:  {'alpha': 0.1}\n",
            "Multinomial NB classification report:\n",
            "               precision    recall  f1-score   support\n",
            "\n",
            "           0       0.89      0.94      0.91      9377\n",
            "           1       0.87      0.78      0.82      4918\n",
            "\n",
            "    accuracy                           0.88     14295\n",
            "   macro avg       0.88      0.86      0.87     14295\n",
            "weighted avg       0.88      0.88      0.88     14295\n",
            "\n",
            "Multinomial NB train accuracy: 0.9245177425278511\n",
            "Multinomial NB test accuracy: 0.8846449807625044\n"
          ]
        }
      ],
      "source": [
        "# Creating a Multinomial Naive Bayes classifier object mnb\n",
        "mnb = MultinomialNB()\n",
        "\n",
        "# A parameter grid for the alpha hyperparameter is created, which is the smoothing parameter\n",
        "# Three different values of alpha are specified to be tested: 0.1, 1, and 10.\n",
        "param_grid_mnb = {'alpha': [0.1, 1, 10]}\n",
        "\n",
        "# GridSearchCV to search for the best combination of hyperparameters using 5-fold cross-validation (cv=5) on the training set\n",
        "grid_mnb = GridSearchCV(mnb, param_grid_mnb, cv=5)\n",
        "grid_mnb.fit(X_train_tfidf, y_train)\n",
        "print(\"Best parameters for Multinomial NB: \", grid_mnb.best_params_)\n",
        "\n",
        "# The best multinomial Naive Bayes classifier found by GridSearchCV used to predict the labels of the training set and the test set\n",
        "pred_train_mnb = grid_mnb.predict(X_train_tfidf)\n",
        "pred_test_mnb = grid_mnb.predict(X_test_tfidf)\n",
        "\n",
        "# The classification report, which includes precision, recall, f1-score, and support for each class, is printed for the test set\n",
        "print(\"Multinomial NB classification report:\\n\", classification_report(y_test, pred_test_mnb))\n",
        "\n",
        "# The accuracy scores of the training and test sets\n",
        "train_score_mnb = accuracy_score(pred_train_mnb, y_train)\n",
        "test_score_mnb = accuracy_score(pred_test_mnb, y_test)\n",
        "\n",
        "print(\"Multinomial NB train accuracy:\", train_score_mnb)\n",
        "print(\"Multinomial NB test accuracy:\", test_score_mnb)"
      ]
    },
    {
      "cell_type": "code",
      "execution_count": null,
      "metadata": {
        "colab": {
          "base_uri": "https://localhost:8080/",
          "height": 472
        },
        "id": "DLYjAO6qq14o",
        "outputId": "d9cc7292-f1b4-4c47-f8d0-8e16df9b03e1"
      },
      "outputs": [
        {
          "data": {
            "image/png": "[encoded data removed]",
            "text/plain": [
              "<Figure size 640x480 with 2 Axes>"
            ]
          },
          "metadata": {},
          "output_type": "display_data"
        }
      ],
      "source": [
        "# Confusion matrix for the test set predictions and true labels\n",
        "cm_mnb = confusion_matrix(y_test, pred_test_mnb)\n",
        "\n",
        "# Plot confusion matrix as heatmap\n",
        "sns.heatmap(cm_mnb, annot=True, cmap='Blues', fmt='d')\n",
        "# The title, x-label, and y-label of the confusion matrix plot are set and the plot is displayed using plt.show()\n",
        "plt.title('Confusion matrix for Multinomial NB')\n",
        "plt.xlabel('Predicted label')\n",
        "plt.ylabel('True label')\n",
        "plt.show()"
      ]
    },
    {
      "cell_type": "markdown",
      "metadata": {
        "id": "6RQLojsr0j3I"
      },
      "source": [
        "#### Passive Aggressive Classifier"
      ]
    },
    {
      "cell_type": "code",
      "execution_count": null,
      "metadata": {
        "colab": {
          "base_uri": "https://localhost:8080/"
        },
        "id": "l44shhHG0p8C",
        "outputId": "9b495c4c-4d46-4b2b-fe3c-90b2fe77b2f7"
      },
      "outputs": [
        {
          "name": "stdout",
          "output_type": "stream",
          "text": [
            "Best parameters for Passive Aggressive Classifier:  {'C': 0.1}\n",
            "Passive Aggressive Classifier classification report:\n",
            "               precision    recall  f1-score   support\n",
            "\n",
            "           0       0.93      0.93      0.93      9377\n",
            "           1       0.87      0.86      0.86      4918\n",
            "\n",
            "    accuracy                           0.91     14295\n",
            "   macro avg       0.90      0.89      0.90     14295\n",
            "weighted avg       0.91      0.91      0.91     14295\n",
            "\n",
            "Passive Aggressive Classifier train accuracy: 0.9699190262159184\n",
            "Passive Aggressive Classifier test accuracy: 0.9060510668065758\n"
          ]
        }
      ],
      "source": [
        "# Creating a Passive Aggressive Classifier object pac\n",
        "pac = PassiveAggressiveClassifier()\n",
        "\n",
        "# A parameter grid for the C hyperparameter is created, which controls the regularization strength\n",
        "# Three different values of C are specified to be tested: 0.1, 1, and 10.\n",
        "param_grid_pac = {'C': [0.1, 1, 10]}\n",
        "\n",
        "# GridSearchCV to search for the best combination of hyperparameters using 5-fold cross-validation (cv=5) on the training set\n",
        "grid_pac = GridSearchCV(pac, param_grid_pac, cv=5)\n",
        "\n",
        "grid_pac.fit(X_train_tfidf, y_train)\n",
        "print(\"Best parameters for Passive Aggressive Classifier: \", grid_pac.best_params_)\n",
        "\n",
        "# The best passive-aggressive classifier found by GridSearchCV is used to predict the labels of the training set and the test set.\n",
        "pred_train_pac = grid_pac.predict(X_train_tfidf)\n",
        "pred_test_pac = grid_pac.predict(X_test_tfidf)\n",
        "print(\"Passive Aggressive Classifier classification report:\\n\", classification_report(y_test, pred_test_pac))\n",
        "\n",
        "train_score_pac = accuracy_score(pred_train_pac, y_train)\n",
        "test_score_pac = accuracy_score(pred_test_pac, y_test)\n",
        "\n",
        "print(\"Passive Aggressive Classifier train accuracy:\", train_score_pac)\n",
        "print(\"Passive Aggressive Classifier test accuracy:\", test_score_pac)"
      ]
    },
    {
      "cell_type": "code",
      "execution_count": null,
      "metadata": {
        "colab": {
          "base_uri": "https://localhost:8080/",
          "height": 472
        },
        "id": "pqS8jbbnrY7W",
        "outputId": "1be18eff-180e-41bc-9ff0-831ba14a2caa"
      },
      "outputs": [
        {
          "data": {
            "image/png": "[encoded data removed]",
            "text/plain": [
              "<Figure size 640x480 with 2 Axes>"
            ]
          },
          "metadata": {},
          "output_type": "display_data"
        }
      ],
      "source": [
        "# Confusion matrix for the test set predictions and true labels\n",
        "cm_pac = confusion_matrix(y_test, pred_test_pac)\n",
        "\n",
        "# Plot confusion matrix as heatmap\n",
        "sns.heatmap(cm_pac, annot=True, cmap='Blues', fmt='d')\n",
        "# The title, x-label, and y-label of the confusion matrix plot are set and the plot is displayed using plt.show()\n",
        "plt.title('Confusion matrix for Passive Aggressive Classifier')\n",
        "plt.xlabel('Predicted label')\n",
        "plt.ylabel('True label')\n",
        "plt.show()"
      ]
    },
    {
      "cell_type": "markdown",
      "metadata": {
        "id": "r1MPcF_lmJwA"
      },
      "source": [
        "# Deep Learning Models"
      ]
    },
    {
      "cell_type": "code",
      "execution_count": null,
      "metadata": {
        "id": "fg7JyaFG1J9s"
      },
      "outputs": [],
      "source": [
        "# Text preprocessing\n",
        "max_words = 5000\n",
        "tokenizer = Tokenizer(num_words=max_words, split=' ')\n",
        "tokenizer.fit_on_texts(X_train)"
      ]
    },
    {
      "cell_type": "code",
      "execution_count": null,
      "metadata": {
        "id": "eqcJB21g1Nkt"
      },
      "outputs": [],
      "source": [
        "# Convert text to sequences\n",
        "X_train_seq = tokenizer.texts_to_sequences(X_train)\n",
        "X_test_seq = tokenizer.texts_to_sequences(X_test)"
      ]
    },
    {
      "cell_type": "code",
      "execution_count": null,
      "metadata": {
        "id": "c8RP9b1i1NaJ"
      },
      "outputs": [],
      "source": [
        "# Padding\n",
        "max_len = max(len(x) for x in X_train_seq)\n",
        "X_train_pad = pad_sequences(X_train_seq, maxlen=max_len, padding='post')\n",
        "X_test_pad = pad_sequences(X_test_seq, maxlen=max_len, padding='post')"
      ]
    },
    {
      "cell_type": "code",
      "execution_count": null,
      "metadata": {
        "id": "8lUHAsOF1Jxx"
      },
      "outputs": [],
      "source": [
        "# Label encoding\n",
        "le = LabelEncoder()\n",
        "y_train_enc = le.fit_transform(y_train)\n",
        "y_test_enc = le.transform(y_test)"
      ]
    },
    {
      "cell_type": "markdown",
      "metadata": {
        "id": "DcHgMFcTmQY4"
      },
      "source": [
        "#### LSTM"
      ]
    },
    {
      "cell_type": "code",
      "execution_count": null,
      "metadata": {
        "id": "StVH2Nwp2Pb3"
      },
      "outputs": [],
      "source": [
        "def create_model_lstm():\n",
        "    model = Sequential()\n",
        "    model.add(Embedding(max_words, 64, input_length=max_len))\n",
        "    model.add(LSTM(64, dropout=0.2, recurrent_dropout=0.2))\n",
        "    model.add(Dense(1, activation='sigmoid'))\n",
        "    model.compile(loss='binary_crossentropy', optimizer='adam', metrics=['accuracy'])\n",
        "    return model"
      ]
    },
    {
      "cell_type": "code",
      "execution_count": null,
      "metadata": {
        "colab": {
          "base_uri": "https://localhost:8080/"
        },
        "id": "nOBHtRcsZQUW",
        "outputId": "28206230-4f33-48b8-bef5-4147545c79be"
      },
      "outputs": [
        {
          "output_type": "stream",
          "name": "stderr",
          "text": [
            "<ipython-input-32-1d5a97db7133>:1: DeprecationWarning: KerasClassifier is deprecated, use Sci-Keras (https://github.com/adriangb/scikeras) instead. See https://www.adriangb.com/scikeras/stable/migration.html for help migrating.\n",
            "  model_lstm = KerasClassifier(build_fn=create_model_lstm)\n",
            "WARNING:tensorflow:Layer lstm will not use cuDNN kernels since it doesn't meet the criteria. It will use a generic GPU kernel as fallback when running on GPU.\n"
          ]
        },
        {
          "output_type": "stream",
          "name": "stdout",
          "text": [
            "Epoch 1/5\n",
            "1430/1430 [==============================] - 196s 131ms/step - loss: 0.5392 - accuracy: 0.7543\n",
            "Epoch 2/5\n",
            "1430/1430 [==============================] - 173s 121ms/step - loss: 0.3721 - accuracy: 0.8376\n",
            "Epoch 3/5\n",
            "1430/1430 [==============================] - 172s 120ms/step - loss: 0.2192 - accuracy: 0.9138\n",
            "Epoch 4/5\n",
            "1430/1430 [==============================] - 172s 121ms/step - loss: 0.1826 - accuracy: 0.9291\n",
            "Epoch 5/5\n",
            "1430/1430 [==============================] - 171s 120ms/step - loss: 0.1536 - accuracy: 0.9415\n",
            "358/358 [==============================] - 5s 13ms/step - loss: 0.2421 - accuracy: 0.9119\n"
          ]
        },
        {
          "output_type": "stream",
          "name": "stderr",
          "text": [
            "WARNING:tensorflow:Layer lstm_1 will not use cuDNN kernels since it doesn't meet the criteria. It will use a generic GPU kernel as fallback when running on GPU.\n"
          ]
        },
        {
          "output_type": "stream",
          "name": "stdout",
          "text": [
            "Epoch 1/5\n",
            "1430/1430 [==============================] - 187s 128ms/step - loss: 0.3360 - accuracy: 0.8488\n",
            "Epoch 2/5\n",
            "1430/1430 [==============================] - 173s 121ms/step - loss: 0.2133 - accuracy: 0.9169\n",
            "Epoch 3/5\n",
            "1430/1430 [==============================] - 174s 121ms/step - loss: 0.1785 - accuracy: 0.9316\n",
            "Epoch 4/5\n",
            "1430/1430 [==============================] - 173s 121ms/step - loss: 0.1574 - accuracy: 0.9398\n",
            "Epoch 5/5\n",
            "1430/1430 [==============================] - 173s 121ms/step - loss: 0.1394 - accuracy: 0.9470\n",
            "358/358 [==============================] - 5s 13ms/step - loss: 0.2694 - accuracy: 0.9051\n"
          ]
        },
        {
          "output_type": "stream",
          "name": "stderr",
          "text": [
            "WARNING:tensorflow:Layer lstm_2 will not use cuDNN kernels since it doesn't meet the criteria. It will use a generic GPU kernel as fallback when running on GPU.\n"
          ]
        },
        {
          "output_type": "stream",
          "name": "stdout",
          "text": [
            "Epoch 1/5\n",
            "1430/1430 [==============================] - 186s 128ms/step - loss: 0.6462 - accuracy: 0.6541\n",
            "Epoch 2/5\n",
            "1430/1430 [==============================] - 174s 122ms/step - loss: 0.5958 - accuracy: 0.7031\n",
            "Epoch 3/5\n",
            "1430/1430 [==============================] - 174s 121ms/step - loss: 0.5109 - accuracy: 0.7789\n",
            "Epoch 4/5\n",
            "1430/1430 [==============================] - 173s 121ms/step - loss: 0.5672 - accuracy: 0.6955\n",
            "Epoch 5/5\n",
            "1430/1430 [==============================] - 174s 121ms/step - loss: 0.5895 - accuracy: 0.6494\n",
            "358/358 [==============================] - 5s 13ms/step - loss: 0.5850 - accuracy: 0.6590\n"
          ]
        },
        {
          "output_type": "stream",
          "name": "stderr",
          "text": [
            "WARNING:tensorflow:Layer lstm_3 will not use cuDNN kernels since it doesn't meet the criteria. It will use a generic GPU kernel as fallback when running on GPU.\n"
          ]
        },
        {
          "output_type": "stream",
          "name": "stdout",
          "text": [
            "Epoch 1/5\n",
            "1430/1430 [==============================] - 187s 128ms/step - loss: 0.3401 - accuracy: 0.8489\n",
            "Epoch 2/5\n",
            "1430/1430 [==============================] - 173s 121ms/step - loss: 0.2196 - accuracy: 0.9131\n",
            "Epoch 3/5\n",
            "1430/1430 [==============================] - 173s 121ms/step - loss: 0.1907 - accuracy: 0.9254\n",
            "Epoch 4/5\n",
            "1430/1430 [==============================] - 173s 121ms/step - loss: 0.1672 - accuracy: 0.9347\n",
            "Epoch 5/5\n",
            "1430/1430 [==============================] - 172s 121ms/step - loss: 0.1466 - accuracy: 0.9418\n",
            "358/358 [==============================] - 5s 13ms/step - loss: 0.2896 - accuracy: 0.8965\n"
          ]
        },
        {
          "output_type": "stream",
          "name": "stderr",
          "text": [
            "WARNING:tensorflow:Layer lstm_4 will not use cuDNN kernels since it doesn't meet the criteria. It will use a generic GPU kernel as fallback when running on GPU.\n"
          ]
        },
        {
          "output_type": "stream",
          "name": "stdout",
          "text": [
            "Epoch 1/5\n",
            "1430/1430 [==============================] - 187s 128ms/step - loss: 0.5020 - accuracy: 0.7526\n",
            "Epoch 2/5\n",
            "1430/1430 [==============================] - 173s 121ms/step - loss: 0.5407 - accuracy: 0.6760\n",
            "Epoch 3/5\n",
            "1430/1430 [==============================] - 173s 121ms/step - loss: 0.5427 - accuracy: 0.6521\n",
            "Epoch 4/5\n",
            "1430/1430 [==============================] - 174s 122ms/step - loss: 0.5426 - accuracy: 0.6550\n",
            "Epoch 5/5\n",
            "1430/1430 [==============================] - 173s 121ms/step - loss: 0.5162 - accuracy: 0.6846\n",
            "358/358 [==============================] - 5s 13ms/step - loss: 0.5143 - accuracy: 0.7079\n"
          ]
        },
        {
          "output_type": "stream",
          "name": "stderr",
          "text": [
            "WARNING:tensorflow:Layer lstm_5 will not use cuDNN kernels since it doesn't meet the criteria. It will use a generic GPU kernel as fallback when running on GPU.\n"
          ]
        },
        {
          "output_type": "stream",
          "name": "stdout",
          "text": [
            "Epoch 1/10\n",
            "1430/1430 [==============================] - 187s 128ms/step - loss: 0.5056 - accuracy: 0.7896\n",
            "Epoch 2/10\n",
            "1430/1430 [==============================] - 174s 122ms/step - loss: 0.4537 - accuracy: 0.8209\n",
            "Epoch 3/10\n",
            "1430/1430 [==============================] - 174s 121ms/step - loss: 0.3376 - accuracy: 0.8594\n",
            "Epoch 4/10\n",
            "1430/1430 [==============================] - 173s 121ms/step - loss: 0.2593 - accuracy: 0.8932\n",
            "Epoch 5/10\n",
            "1430/1430 [==============================] - 172s 121ms/step - loss: 0.2038 - accuracy: 0.9206\n",
            "Epoch 6/10\n",
            "1430/1430 [==============================] - 173s 121ms/step - loss: 0.1745 - accuracy: 0.9321\n",
            "Epoch 7/10\n",
            "1430/1430 [==============================] - 174s 122ms/step - loss: 0.1396 - accuracy: 0.9468\n",
            "Epoch 8/10\n",
            "1430/1430 [==============================] - 173s 121ms/step - loss: 0.1156 - accuracy: 0.9555\n",
            "Epoch 9/10\n",
            "1430/1430 [==============================] - 174s 122ms/step - loss: 0.0983 - accuracy: 0.9630\n",
            "Epoch 10/10\n",
            "1430/1430 [==============================] - 173s 121ms/step - loss: 0.0839 - accuracy: 0.9692\n",
            "358/358 [==============================] - 5s 13ms/step - loss: 0.3250 - accuracy: 0.9110\n"
          ]
        },
        {
          "output_type": "stream",
          "name": "stderr",
          "text": [
            "WARNING:tensorflow:Layer lstm_6 will not use cuDNN kernels since it doesn't meet the criteria. It will use a generic GPU kernel as fallback when running on GPU.\n"
          ]
        },
        {
          "output_type": "stream",
          "name": "stdout",
          "text": [
            "Epoch 1/10\n",
            "1430/1430 [==============================] - 190s 130ms/step - loss: 0.3225 - accuracy: 0.8631\n",
            "Epoch 2/10\n",
            "1430/1430 [==============================] - 176s 123ms/step - loss: 0.2232 - accuracy: 0.9102\n",
            "Epoch 3/10\n",
            "1430/1430 [==============================] - 175s 122ms/step - loss: 0.1938 - accuracy: 0.9235\n",
            "Epoch 4/10\n",
            "1430/1430 [==============================] - 175s 123ms/step - loss: 0.1725 - accuracy: 0.9313\n",
            "Epoch 5/10\n",
            "1430/1430 [==============================] - 176s 123ms/step - loss: 0.1512 - accuracy: 0.9405\n",
            "Epoch 6/10\n",
            "1430/1430 [==============================] - 175s 123ms/step - loss: 0.1324 - accuracy: 0.9471\n",
            "Epoch 7/10\n",
            "1430/1430 [==============================] - 175s 122ms/step - loss: 0.1153 - accuracy: 0.9542\n",
            "Epoch 8/10\n",
            "1430/1430 [==============================] - 175s 122ms/step - loss: 0.1003 - accuracy: 0.9608\n",
            "Epoch 9/10\n",
            "1430/1430 [==============================] - 175s 122ms/step - loss: 0.0867 - accuracy: 0.9673\n",
            "Epoch 10/10\n",
            "1430/1430 [==============================] - 175s 122ms/step - loss: 0.0772 - accuracy: 0.9718\n",
            "358/358 [==============================] - 5s 13ms/step - loss: 0.3908 - accuracy: 0.9054\n"
          ]
        },
        {
          "output_type": "stream",
          "name": "stderr",
          "text": [
            "WARNING:tensorflow:Layer lstm_7 will not use cuDNN kernels since it doesn't meet the criteria. It will use a generic GPU kernel as fallback when running on GPU.\n"
          ]
        },
        {
          "output_type": "stream",
          "name": "stdout",
          "text": [
            "Epoch 1/10\n",
            "1430/1430 [==============================] - 188s 129ms/step - loss: 0.4671 - accuracy: 0.8017\n",
            "Epoch 2/10\n",
            "1430/1430 [==============================] - 175s 122ms/step - loss: 0.3987 - accuracy: 0.8561\n",
            "Epoch 3/10\n",
            "1430/1430 [==============================] - 174s 122ms/step - loss: 0.4074 - accuracy: 0.8403\n",
            "Epoch 4/10\n",
            "1430/1430 [==============================] - 175s 122ms/step - loss: 0.4041 - accuracy: 0.8506\n",
            "Epoch 5/10\n",
            "1430/1430 [==============================] - 174s 122ms/step - loss: 0.3271 - accuracy: 0.8762\n",
            "Epoch 6/10\n",
            "1430/1430 [==============================] - 174s 122ms/step - loss: 0.2528 - accuracy: 0.8992\n",
            "Epoch 7/10\n",
            "1430/1430 [==============================] - 174s 122ms/step - loss: 0.1914 - accuracy: 0.9265\n",
            "Epoch 8/10\n",
            "1430/1430 [==============================] - 175s 122ms/step - loss: 0.1559 - accuracy: 0.9420\n",
            "Epoch 9/10\n",
            "1430/1430 [==============================] - 174s 122ms/step - loss: 0.1255 - accuracy: 0.9548\n",
            "Epoch 10/10\n",
            "1430/1430 [==============================] - 174s 122ms/step - loss: 0.1029 - accuracy: 0.9634\n",
            "358/358 [==============================] - 5s 13ms/step - loss: 0.3083 - accuracy: 0.8999\n"
          ]
        },
        {
          "output_type": "stream",
          "name": "stderr",
          "text": [
            "WARNING:tensorflow:Layer lstm_8 will not use cuDNN kernels since it doesn't meet the criteria. It will use a generic GPU kernel as fallback when running on GPU.\n"
          ]
        },
        {
          "output_type": "stream",
          "name": "stdout",
          "text": [
            "Epoch 1/10\n",
            "1430/1430 [==============================] - 188s 129ms/step - loss: 0.3314 - accuracy: 0.8565\n",
            "Epoch 2/10\n",
            "1430/1430 [==============================] - 175s 122ms/step - loss: 0.2160 - accuracy: 0.9170\n",
            "Epoch 3/10\n",
            "1430/1430 [==============================] - 174s 122ms/step - loss: 0.1847 - accuracy: 0.9284\n",
            "Epoch 4/10\n",
            "1430/1430 [==============================] - 174s 121ms/step - loss: 0.1552 - accuracy: 0.9397\n",
            "Epoch 5/10\n",
            "1430/1430 [==============================] - 174s 121ms/step - loss: 0.1406 - accuracy: 0.9438\n",
            "Epoch 6/10\n",
            "1430/1430 [==============================] - 174s 122ms/step - loss: 0.1195 - accuracy: 0.9521\n",
            "Epoch 7/10\n",
            "1430/1430 [==============================] - 173s 121ms/step - loss: 0.1067 - accuracy: 0.9575\n",
            "Epoch 8/10\n",
            "1430/1430 [==============================] - 174s 122ms/step - loss: 0.0930 - accuracy: 0.9633\n",
            "Epoch 9/10\n",
            "1430/1430 [==============================] - 174s 122ms/step - loss: 0.0815 - accuracy: 0.9686\n",
            "Epoch 10/10\n",
            "1430/1430 [==============================] - 174s 122ms/step - loss: 0.0728 - accuracy: 0.9725\n",
            "358/358 [==============================] - 5s 13ms/step - loss: 0.3569 - accuracy: 0.9019\n"
          ]
        },
        {
          "output_type": "stream",
          "name": "stderr",
          "text": [
            "WARNING:tensorflow:Layer lstm_9 will not use cuDNN kernels since it doesn't meet the criteria. It will use a generic GPU kernel as fallback when running on GPU.\n"
          ]
        },
        {
          "output_type": "stream",
          "name": "stdout",
          "text": [
            "Epoch 1/10\n",
            "1430/1430 [==============================] - 187s 129ms/step - loss: 0.4007 - accuracy: 0.8174\n",
            "Epoch 2/10\n",
            "1430/1430 [==============================] - 174s 122ms/step - loss: 0.2253 - accuracy: 0.9131\n",
            "Epoch 3/10\n",
            "1430/1430 [==============================] - 174s 122ms/step - loss: 0.1861 - accuracy: 0.9297\n",
            "Epoch 4/10\n",
            "1430/1430 [==============================] - 174s 122ms/step - loss: 0.1603 - accuracy: 0.9392\n",
            "Epoch 5/10\n",
            "1430/1430 [==============================] - 174s 122ms/step - loss: 0.1367 - accuracy: 0.9476\n",
            "Epoch 6/10\n",
            "1430/1430 [==============================] - 174s 121ms/step - loss: 0.1195 - accuracy: 0.9544\n",
            "Epoch 7/10\n",
            "1430/1430 [==============================] - 174s 122ms/step - loss: 0.1044 - accuracy: 0.9600\n",
            "Epoch 8/10\n",
            "1430/1430 [==============================] - 174s 122ms/step - loss: 0.0911 - accuracy: 0.9656\n",
            "Epoch 9/10\n",
            "1430/1430 [==============================] - 173s 121ms/step - loss: 0.0792 - accuracy: 0.9700\n",
            "Epoch 10/10\n",
            "1430/1430 [==============================] - 173s 121ms/step - loss: 0.0685 - accuracy: 0.9739\n",
            "358/358 [==============================] - 5s 13ms/step - loss: 0.3649 - accuracy: 0.9036\n"
          ]
        },
        {
          "output_type": "stream",
          "name": "stderr",
          "text": [
            "WARNING:tensorflow:Layer lstm_10 will not use cuDNN kernels since it doesn't meet the criteria. It will use a generic GPU kernel as fallback when running on GPU.\n"
          ]
        },
        {
          "output_type": "stream",
          "name": "stdout",
          "text": [
            "Epoch 1/5\n",
            "715/715 [==============================] - 108s 146ms/step - loss: 0.3748 - accuracy: 0.8276\n",
            "Epoch 2/5\n",
            "715/715 [==============================] - 88s 123ms/step - loss: 0.2244 - accuracy: 0.9136\n",
            "Epoch 3/5\n",
            "715/715 [==============================] - 88s 124ms/step - loss: 0.1930 - accuracy: 0.9261\n",
            "Epoch 4/5\n",
            "715/715 [==============================] - 88s 123ms/step - loss: 0.1650 - accuracy: 0.9373\n",
            "Epoch 5/5\n",
            "715/715 [==============================] - 88s 123ms/step - loss: 0.1442 - accuracy: 0.9445\n",
            "179/179 [==============================] - 3s 13ms/step - loss: 0.2549 - accuracy: 0.9097\n"
          ]
        },
        {
          "output_type": "stream",
          "name": "stderr",
          "text": [
            "WARNING:tensorflow:Layer lstm_11 will not use cuDNN kernels since it doesn't meet the criteria. It will use a generic GPU kernel as fallback when running on GPU.\n"
          ]
        },
        {
          "output_type": "stream",
          "name": "stdout",
          "text": [
            "Epoch 1/5\n",
            "715/715 [==============================] - 102s 138ms/step - loss: 0.5129 - accuracy: 0.7583\n",
            "Epoch 2/5\n",
            "715/715 [==============================] - 87s 122ms/step - loss: 0.4803 - accuracy: 0.8118\n",
            "Epoch 3/5\n",
            "715/715 [==============================] - 87s 122ms/step - loss: 0.4355 - accuracy: 0.8245\n",
            "Epoch 4/5\n",
            "715/715 [==============================] - 87s 122ms/step - loss: 0.3014 - accuracy: 0.8741\n",
            "Epoch 5/5\n",
            "715/715 [==============================] - 87s 122ms/step - loss: 0.2784 - accuracy: 0.8824\n",
            "179/179 [==============================] - 3s 14ms/step - loss: 0.2929 - accuracy: 0.8778\n"
          ]
        },
        {
          "output_type": "stream",
          "name": "stderr",
          "text": [
            "WARNING:tensorflow:Layer lstm_12 will not use cuDNN kernels since it doesn't meet the criteria. It will use a generic GPU kernel as fallback when running on GPU.\n"
          ]
        },
        {
          "output_type": "stream",
          "name": "stdout",
          "text": [
            "Epoch 1/5\n",
            "715/715 [==============================] - 105s 141ms/step - loss: 0.3598 - accuracy: 0.8354\n",
            "Epoch 2/5\n",
            "715/715 [==============================] - 90s 126ms/step - loss: 0.2215 - accuracy: 0.9119\n",
            "Epoch 3/5\n",
            "715/715 [==============================] - 89s 125ms/step - loss: 0.1886 - accuracy: 0.9264\n",
            "Epoch 4/5\n",
            "715/715 [==============================] - 88s 124ms/step - loss: 0.1633 - accuracy: 0.9359\n",
            "Epoch 5/5\n",
            "715/715 [==============================] - 89s 125ms/step - loss: 0.1442 - accuracy: 0.9433\n",
            "179/179 [==============================] - 3s 13ms/step - loss: 0.2974 - accuracy: 0.9027\n"
          ]
        },
        {
          "output_type": "stream",
          "name": "stderr",
          "text": [
            "WARNING:tensorflow:Layer lstm_13 will not use cuDNN kernels since it doesn't meet the criteria. It will use a generic GPU kernel as fallback when running on GPU.\n"
          ]
        },
        {
          "output_type": "stream",
          "name": "stdout",
          "text": [
            "Epoch 1/5\n",
            "715/715 [==============================] - 103s 139ms/step - loss: 0.3514 - accuracy: 0.8407\n",
            "Epoch 2/5\n",
            "715/715 [==============================] - 89s 124ms/step - loss: 0.2193 - accuracy: 0.9136\n",
            "Epoch 3/5\n",
            "715/715 [==============================] - 89s 124ms/step - loss: 0.1929 - accuracy: 0.9221\n",
            "Epoch 4/5\n",
            "715/715 [==============================] - 88s 123ms/step - loss: 0.1747 - accuracy: 0.9302\n",
            "Epoch 5/5\n",
            "715/715 [==============================] - 88s 122ms/step - loss: 0.1595 - accuracy: 0.9360\n",
            "179/179 [==============================] - 3s 13ms/step - loss: 0.2925 - accuracy: 0.8973\n"
          ]
        },
        {
          "output_type": "stream",
          "name": "stderr",
          "text": [
            "WARNING:tensorflow:Layer lstm_14 will not use cuDNN kernels since it doesn't meet the criteria. It will use a generic GPU kernel as fallback when running on GPU.\n"
          ]
        },
        {
          "output_type": "stream",
          "name": "stdout",
          "text": [
            "Epoch 1/5\n",
            "715/715 [==============================] - 103s 139ms/step - loss: 0.3457 - accuracy: 0.8471\n",
            "Epoch 2/5\n",
            "715/715 [==============================] - 87s 122ms/step - loss: 0.2252 - accuracy: 0.9114\n",
            "Epoch 3/5\n",
            "715/715 [==============================] - 88s 123ms/step - loss: 0.2011 - accuracy: 0.9206\n",
            "Epoch 4/5\n",
            "715/715 [==============================] - 87s 122ms/step - loss: 0.1819 - accuracy: 0.9284\n",
            "Epoch 5/5\n",
            "715/715 [==============================] - 87s 122ms/step - loss: 0.1637 - accuracy: 0.9360\n",
            "179/179 [==============================] - 3s 13ms/step - loss: 0.3082 - accuracy: 0.9012\n"
          ]
        },
        {
          "output_type": "stream",
          "name": "stderr",
          "text": [
            "WARNING:tensorflow:Layer lstm_15 will not use cuDNN kernels since it doesn't meet the criteria. It will use a generic GPU kernel as fallback when running on GPU.\n"
          ]
        },
        {
          "output_type": "stream",
          "name": "stdout",
          "text": [
            "Epoch 1/10\n",
            "715/715 [==============================] - 103s 140ms/step - loss: 0.3727 - accuracy: 0.8305\n",
            "Epoch 2/10\n",
            "715/715 [==============================] - 89s 124ms/step - loss: 0.2262 - accuracy: 0.9104\n",
            "Epoch 3/10\n",
            "715/715 [==============================] - 88s 123ms/step - loss: 0.1960 - accuracy: 0.9225\n",
            "Epoch 4/10\n",
            "715/715 [==============================] - 88s 123ms/step - loss: 0.1795 - accuracy: 0.9289\n",
            "Epoch 5/10\n",
            "715/715 [==============================] - 88s 123ms/step - loss: 0.1606 - accuracy: 0.9359\n",
            "Epoch 6/10\n",
            "715/715 [==============================] - 87s 122ms/step - loss: 0.1502 - accuracy: 0.9406\n",
            "Epoch 7/10\n",
            "715/715 [==============================] - 87s 122ms/step - loss: 0.1320 - accuracy: 0.9476\n",
            "Epoch 8/10\n",
            "715/715 [==============================] - 88s 122ms/step - loss: 0.1197 - accuracy: 0.9514\n",
            "Epoch 9/10\n",
            "715/715 [==============================] - 87s 122ms/step - loss: 0.1059 - accuracy: 0.9583\n",
            "Epoch 10/10\n",
            "715/715 [==============================] - 87s 122ms/step - loss: 0.0970 - accuracy: 0.9627\n",
            "179/179 [==============================] - 3s 13ms/step - loss: 0.3483 - accuracy: 0.9001\n"
          ]
        },
        {
          "output_type": "stream",
          "name": "stderr",
          "text": [
            "WARNING:tensorflow:Layer lstm_16 will not use cuDNN kernels since it doesn't meet the criteria. It will use a generic GPU kernel as fallback when running on GPU.\n"
          ]
        },
        {
          "output_type": "stream",
          "name": "stdout",
          "text": [
            "Epoch 1/10\n",
            "715/715 [==============================] - 103s 140ms/step - loss: 0.4703 - accuracy: 0.7937\n",
            "Epoch 2/10\n",
            "715/715 [==============================] - 88s 123ms/step - loss: 0.2538 - accuracy: 0.9002\n",
            "Epoch 3/10\n",
            "715/715 [==============================] - 88s 123ms/step - loss: 0.2133 - accuracy: 0.9170\n",
            "Epoch 4/10\n",
            "715/715 [==============================] - 87s 122ms/step - loss: 0.1921 - accuracy: 0.9238\n",
            "Epoch 5/10\n",
            "715/715 [==============================] - 88s 123ms/step - loss: 0.1752 - accuracy: 0.9304\n",
            "Epoch 6/10\n",
            "715/715 [==============================] - 88s 123ms/step - loss: 0.1593 - accuracy: 0.9369\n",
            "Epoch 7/10\n",
            "715/715 [==============================] - 87s 122ms/step - loss: 0.1435 - accuracy: 0.9429\n",
            "Epoch 8/10\n",
            "715/715 [==============================] - 87s 122ms/step - loss: 0.1279 - accuracy: 0.9483\n",
            "Epoch 9/10\n",
            "715/715 [==============================] - 88s 123ms/step - loss: 0.1182 - accuracy: 0.9545\n",
            "Epoch 10/10\n",
            "715/715 [==============================] - 87s 122ms/step - loss: 0.1064 - accuracy: 0.9589\n",
            "179/179 [==============================] - 3s 13ms/step - loss: 0.3709 - accuracy: 0.8994\n"
          ]
        },
        {
          "output_type": "stream",
          "name": "stderr",
          "text": [
            "WARNING:tensorflow:Layer lstm_17 will not use cuDNN kernels since it doesn't meet the criteria. It will use a generic GPU kernel as fallback when running on GPU.\n"
          ]
        },
        {
          "output_type": "stream",
          "name": "stdout",
          "text": [
            "Epoch 1/10\n",
            "715/715 [==============================] - 102s 138ms/step - loss: 0.4918 - accuracy: 0.7677\n",
            "Epoch 2/10\n",
            "715/715 [==============================] - 88s 124ms/step - loss: 0.4314 - accuracy: 0.8390\n",
            "Epoch 3/10\n",
            "715/715 [==============================] - 88s 122ms/step - loss: 0.4077 - accuracy: 0.8567\n",
            "Epoch 4/10\n",
            "715/715 [==============================] - 88s 123ms/step - loss: 0.3814 - accuracy: 0.8708\n",
            "Epoch 5/10\n",
            "715/715 [==============================] - 88s 123ms/step - loss: 0.3540 - accuracy: 0.8838\n",
            "Epoch 6/10\n",
            "715/715 [==============================] - 88s 122ms/step - loss: 0.4345 - accuracy: 0.8187\n",
            "Epoch 7/10\n",
            "715/715 [==============================] - 87s 122ms/step - loss: 0.2584 - accuracy: 0.8977\n",
            "Epoch 8/10\n",
            "715/715 [==============================] - 87s 122ms/step - loss: 0.2036 - accuracy: 0.9207\n",
            "Epoch 9/10\n",
            "715/715 [==============================] - 87s 122ms/step - loss: 0.1775 - accuracy: 0.9311\n",
            "Epoch 10/10\n",
            "715/715 [==============================] - 87s 121ms/step - loss: 0.1552 - accuracy: 0.9420\n",
            "179/179 [==============================] - 3s 13ms/step - loss: 0.2619 - accuracy: 0.9040\n"
          ]
        },
        {
          "output_type": "stream",
          "name": "stderr",
          "text": [
            "WARNING:tensorflow:Layer lstm_18 will not use cuDNN kernels since it doesn't meet the criteria. It will use a generic GPU kernel as fallback when running on GPU.\n"
          ]
        },
        {
          "output_type": "stream",
          "name": "stdout",
          "text": [
            "Epoch 1/10\n",
            "715/715 [==============================] - 105s 142ms/step - loss: 0.5291 - accuracy: 0.7513\n",
            "Epoch 2/10\n",
            "715/715 [==============================] - 91s 127ms/step - loss: 0.4120 - accuracy: 0.8103\n",
            "Epoch 3/10\n",
            "715/715 [==============================] - 90s 125ms/step - loss: 0.2720 - accuracy: 0.8930\n",
            "Epoch 4/10\n",
            "715/715 [==============================] - 89s 125ms/step - loss: 0.2465 - accuracy: 0.9047\n",
            "Epoch 5/10\n",
            "715/715 [==============================] - 89s 125ms/step - loss: 0.2470 - accuracy: 0.9070\n",
            "Epoch 6/10\n",
            "715/715 [==============================] - 90s 125ms/step - loss: 0.2517 - accuracy: 0.9017\n",
            "Epoch 7/10\n",
            "715/715 [==============================] - 89s 124ms/step - loss: 0.2161 - accuracy: 0.9191\n",
            "Epoch 8/10\n",
            "715/715 [==============================] - 90s 126ms/step - loss: 0.1801 - accuracy: 0.9349\n",
            "Epoch 9/10\n",
            "715/715 [==============================] - 89s 124ms/step - loss: 0.1649 - accuracy: 0.9404\n",
            "Epoch 10/10\n",
            "715/715 [==============================] - 89s 125ms/step - loss: 0.1362 - accuracy: 0.9518\n",
            "179/179 [==============================] - 3s 13ms/step - loss: 0.3248 - accuracy: 0.8979\n"
          ]
        },
        {
          "output_type": "stream",
          "name": "stderr",
          "text": [
            "WARNING:tensorflow:Layer lstm_19 will not use cuDNN kernels since it doesn't meet the criteria. It will use a generic GPU kernel as fallback when running on GPU.\n"
          ]
        },
        {
          "output_type": "stream",
          "name": "stdout",
          "text": [
            "Epoch 1/10\n",
            "715/715 [==============================] - 103s 140ms/step - loss: 0.5075 - accuracy: 0.7483\n",
            "Epoch 2/10\n",
            "715/715 [==============================] - 89s 125ms/step - loss: 0.4659 - accuracy: 0.8095\n",
            "Epoch 3/10\n",
            "715/715 [==============================] - 88s 123ms/step - loss: 0.4927 - accuracy: 0.7975\n",
            "Epoch 4/10\n",
            "715/715 [==============================] - 88s 123ms/step - loss: 0.5081 - accuracy: 0.7711\n",
            "Epoch 5/10\n",
            "715/715 [==============================] - 88s 123ms/step - loss: 0.5281 - accuracy: 0.7139\n",
            "Epoch 6/10\n",
            "715/715 [==============================] - 89s 124ms/step - loss: 0.5394 - accuracy: 0.6893\n",
            "Epoch 7/10\n",
            "715/715 [==============================] - 88s 122ms/step - loss: 0.5822 - accuracy: 0.6640\n",
            "Epoch 8/10\n",
            "715/715 [==============================] - 88s 123ms/step - loss: 0.5457 - accuracy: 0.7348\n",
            "Epoch 9/10\n",
            "715/715 [==============================] - 88s 123ms/step - loss: 0.2845 - accuracy: 0.8834\n",
            "Epoch 10/10\n",
            "715/715 [==============================] - 88s 123ms/step - loss: 0.2169 - accuracy: 0.9118\n",
            "179/179 [==============================] - 3s 13ms/step - loss: 0.2544 - accuracy: 0.8957\n"
          ]
        },
        {
          "output_type": "stream",
          "name": "stderr",
          "text": [
            "WARNING:tensorflow:Layer lstm_20 will not use cuDNN kernels since it doesn't meet the criteria. It will use a generic GPU kernel as fallback when running on GPU.\n"
          ]
        },
        {
          "output_type": "stream",
          "name": "stdout",
          "text": [
            "Epoch 1/10\n",
            "1787/1787 [==============================] - 233s 128ms/step - loss: 0.4542 - accuracy: 0.8036\n",
            "Epoch 2/10\n",
            "1787/1787 [==============================] - 219s 122ms/step - loss: 0.2346 - accuracy: 0.9084\n",
            "Epoch 3/10\n",
            "1787/1787 [==============================] - 218s 122ms/step - loss: 0.1907 - accuracy: 0.9263\n",
            "Epoch 4/10\n",
            "1787/1787 [==============================] - 219s 123ms/step - loss: 0.1611 - accuracy: 0.9394\n",
            "Epoch 5/10\n",
            "1787/1787 [==============================] - 218s 122ms/step - loss: 0.1373 - accuracy: 0.9481\n",
            "Epoch 6/10\n",
            "1787/1787 [==============================] - 217s 122ms/step - loss: 0.1178 - accuracy: 0.9561\n",
            "Epoch 7/10\n",
            "1787/1787 [==============================] - 219s 122ms/step - loss: 0.1016 - accuracy: 0.9624\n",
            "Epoch 8/10\n",
            "1787/1787 [==============================] - 218s 122ms/step - loss: 0.0900 - accuracy: 0.9661\n",
            "Epoch 9/10\n",
            "1787/1787 [==============================] - 218s 122ms/step - loss: 0.0766 - accuracy: 0.9732\n",
            "Epoch 10/10\n",
            "1787/1787 [==============================] - 219s 122ms/step - loss: 0.0647 - accuracy: 0.9772\n",
            "Parameters for LSTM:  {'batch_size': 32, 'epochs': 10}\n",
            "1787/1787 [==============================] - 22s 12ms/step\n",
            "447/447 [==============================] - 5s 12ms/step\n",
            "LSTM classification report:\n",
            "               precision    recall  f1-score   support\n",
            "\n",
            "           0       0.92      0.94      0.93      9377\n",
            "           1       0.88      0.85      0.87      4918\n",
            "\n",
            "    accuracy                           0.91     14295\n",
            "   macro avg       0.90      0.90      0.90     14295\n",
            "weighted avg       0.91      0.91      0.91     14295\n",
            "\n",
            "LSTM train accuracy: 0.9892268140401196\n",
            "LSTM test accuracy: 0.9089192025183631\n"
          ]
        }
      ],
      "source": [
        "model_lstm = KerasClassifier(build_fn=create_model_lstm)\n",
        "param_grid_lstm = {'epochs': [5,10], 'batch_size': [32,64]}\n",
        "grid_lstm = GridSearchCV(model_lstm, param_grid_lstm, cv=5)\n",
        "grid_lstm.fit(X_train_pad, y_train_enc)\n",
        "print(\"Parameters for LSTM: \", grid_lstm.best_params_)\n",
        "\n",
        "pred_train_lstm = grid_lstm.predict(X_train_pad)\n",
        "pred_test_lstm = grid_lstm.predict(X_test_pad)\n",
        "print(\"LSTM classification report:\\n\", classification_report(y_test_enc, pred_test_lstm))\n",
        "\n",
        "train_score_lstm = accuracy_score(pred_train_lstm, y_train)\n",
        "test_score_lstm = accuracy_score(pred_test_lstm, y_test)\n",
        "\n",
        "print(\"LSTM train accuracy:\", train_score_lstm)\n",
        "print(\"LSTM test accuracy:\", test_score_lstm)"
      ]
    },
    {
      "cell_type": "code",
      "execution_count": null,
      "metadata": {
        "id": "CyASUNK4pWyK",
        "colab": {
          "base_uri": "https://localhost:8080/",
          "height": 472
        },
        "outputId": "7c7fadc1-b7e7-4c55-f2d9-d12ee9a8cb26"
      },
      "outputs": [
        {
          "output_type": "display_data",
          "data": {
            "text/plain": [
              "<Figure size 640x480 with 2 Axes>"
            ],
            "image/png": "[encoded data removed]"
          },
          "metadata": {}
        }
      ],
      "source": [
        "# Confusion matrix for the test set predictions and true labels\n",
        "cm_lstm = confusion_matrix(y_test, pred_test_lstm)\n",
        "\n",
        "# Plot confusion matrix as heatmap\n",
        "sns.heatmap(cm_lstm, annot=True, cmap='Blues', fmt='d')\n",
        "# The title, x-label, and y-label of the confusion matrix plot are set and the plot is displayed using plt.show()\n",
        "plt.title('Confusion matrix for LSTM')\n",
        "plt.xlabel('Predicted label')\n",
        "plt.ylabel('True label')\n",
        "plt.show()"
      ]
    },
    {
      "cell_type": "markdown",
      "metadata": {
        "id": "GX8brgcy1YpW"
      },
      "source": [
        "#### Bidirectional LSTM"
      ]
    },
    {
      "cell_type": "code",
      "execution_count": null,
      "metadata": {
        "id": "aeahWxzJMUBF"
      },
      "outputs": [],
      "source": [
        "# Bidirectional LSTM\n",
        "def create_model_bilstm():\n",
        "    model = Sequential()\n",
        "    model.add(Embedding(max_words, 64, input_length=max_len))\n",
        "    model.add(Bidirectional(LSTM(64, dropout=0.2, recurrent_dropout=0.2)))\n",
        "    model.add(Dense(1, activation='sigmoid'))\n",
        "    model.compile(loss='binary_crossentropy', optimizer='adam', metrics=['accuracy'])\n",
        "    return model"
      ]
    },
    {
      "cell_type": "code",
      "execution_count": null,
      "metadata": {
        "id": "jehQ8PPpMX7E",
        "colab": {
          "base_uri": "https://localhost:8080/"
        },
        "outputId": "c6fcbceb-7038-41dc-c7e3-804532be7227"
      },
      "outputs": [
        {
          "output_type": "stream",
          "name": "stderr",
          "text": [
            "<ipython-input-32-d304bb73a56f>:1: DeprecationWarning: KerasClassifier is deprecated, use Sci-Keras (https://github.com/adriangb/scikeras) instead. See https://www.adriangb.com/scikeras/stable/migration.html for help migrating.\n",
            "  model_bilstm = KerasClassifier(build_fn=create_model_bilstm)\n"
          ]
        },
        {
          "output_type": "stream",
          "name": "stdout",
          "text": [
            "Epoch 1/5\n",
            "1430/1430 [==============================] - 69s 44ms/step - loss: 0.2832 - accuracy: 0.8773\n",
            "Epoch 2/5\n",
            "1430/1430 [==============================] - 63s 44ms/step - loss: 0.1898 - accuracy: 0.9238\n",
            "Epoch 3/5\n",
            "1430/1430 [==============================] - 63s 44ms/step - loss: 0.1567 - accuracy: 0.9373\n",
            "Epoch 4/5\n",
            "1430/1430 [==============================] - 64s 45ms/step - loss: 0.1330 - accuracy: 0.9479\n",
            "Epoch 5/5\n",
            "1430/1430 [==============================] - 64s 45ms/step - loss: 0.1112 - accuracy: 0.9565\n",
            "358/358 [==============================] - 3s 8ms/step - loss: 0.2853 - accuracy: 0.9072\n",
            "Epoch 1/5\n",
            "1430/1430 [==============================] - 68s 44ms/step - loss: 0.2821 - accuracy: 0.8773\n",
            "Epoch 2/5\n",
            "1430/1430 [==============================] - 63s 44ms/step - loss: 0.1902 - accuracy: 0.9247\n",
            "Epoch 3/5\n",
            "1430/1430 [==============================] - 62s 43ms/step - loss: 0.1590 - accuracy: 0.9370\n",
            "Epoch 4/5\n",
            "1430/1430 [==============================] - 63s 44ms/step - loss: 0.1348 - accuracy: 0.9465\n",
            "Epoch 5/5\n",
            "1430/1430 [==============================] - 62s 44ms/step - loss: 0.1134 - accuracy: 0.9560\n",
            "358/358 [==============================] - 3s 8ms/step - loss: 0.2680 - accuracy: 0.9096\n",
            "Epoch 1/5\n",
            "1430/1430 [==============================] - 67s 43ms/step - loss: 0.2816 - accuracy: 0.8774\n",
            "Epoch 2/5\n",
            "1430/1430 [==============================] - 62s 43ms/step - loss: 0.1910 - accuracy: 0.9236\n",
            "Epoch 3/5\n",
            "1430/1430 [==============================] - 63s 44ms/step - loss: 0.1594 - accuracy: 0.9373\n",
            "Epoch 4/5\n",
            "1430/1430 [==============================] - 63s 44ms/step - loss: 0.1347 - accuracy: 0.9464\n",
            "Epoch 5/5\n",
            "1430/1430 [==============================] - 62s 43ms/step - loss: 0.1150 - accuracy: 0.9558\n",
            "358/358 [==============================] - 4s 8ms/step - loss: 0.2788 - accuracy: 0.9043\n",
            "Epoch 1/5\n",
            "1430/1430 [==============================] - 69s 44ms/step - loss: 0.2774 - accuracy: 0.8801\n",
            "Epoch 2/5\n",
            "1430/1430 [==============================] - 62s 43ms/step - loss: 0.1861 - accuracy: 0.9262\n",
            "Epoch 3/5\n",
            "1430/1430 [==============================] - 63s 44ms/step - loss: 0.1567 - accuracy: 0.9386\n",
            "Epoch 4/5\n",
            "1430/1430 [==============================] - 63s 44ms/step - loss: 0.1340 - accuracy: 0.9476\n",
            "Epoch 5/5\n",
            "1430/1430 [==============================] - 64s 44ms/step - loss: 0.1136 - accuracy: 0.9552\n",
            "358/358 [==============================] - 4s 8ms/step - loss: 0.2867 - accuracy: 0.9020\n",
            "Epoch 1/5\n",
            "1430/1430 [==============================] - 68s 44ms/step - loss: 0.2852 - accuracy: 0.8757\n",
            "Epoch 2/5\n",
            "1430/1430 [==============================] - 62s 44ms/step - loss: 0.1941 - accuracy: 0.9221\n",
            "Epoch 3/5\n",
            "1430/1430 [==============================] - 62s 43ms/step - loss: 0.1650 - accuracy: 0.9358\n",
            "Epoch 4/5\n",
            "1430/1430 [==============================] - 63s 44ms/step - loss: 0.1392 - accuracy: 0.9453\n",
            "Epoch 5/5\n",
            "1430/1430 [==============================] - 63s 44ms/step - loss: 0.1167 - accuracy: 0.9552\n",
            "358/358 [==============================] - 3s 8ms/step - loss: 0.2833 - accuracy: 0.9094\n",
            "Epoch 1/10\n",
            "1430/1430 [==============================] - 67s 43ms/step - loss: 0.2821 - accuracy: 0.8766\n",
            "Epoch 2/10\n",
            "1430/1430 [==============================] - 62s 44ms/step - loss: 0.1898 - accuracy: 0.9232\n",
            "Epoch 3/10\n",
            "1430/1430 [==============================] - 62s 43ms/step - loss: 0.1553 - accuracy: 0.9380\n",
            "Epoch 4/10\n",
            "1430/1430 [==============================] - 62s 43ms/step - loss: 0.1326 - accuracy: 0.9468\n",
            "Epoch 5/10\n",
            "1430/1430 [==============================] - 63s 44ms/step - loss: 0.1126 - accuracy: 0.9562\n",
            "Epoch 6/10\n",
            "1430/1430 [==============================] - 63s 44ms/step - loss: 0.0963 - accuracy: 0.9632\n",
            "Epoch 7/10\n",
            "1430/1430 [==============================] - 64s 45ms/step - loss: 0.0801 - accuracy: 0.9688\n",
            "Epoch 8/10\n",
            "1430/1430 [==============================] - 63s 44ms/step - loss: 0.0680 - accuracy: 0.9744\n",
            "Epoch 9/10\n",
            "1430/1430 [==============================] - 62s 44ms/step - loss: 0.0578 - accuracy: 0.9787\n",
            "Epoch 10/10\n",
            "1430/1430 [==============================] - 62s 43ms/step - loss: 0.0496 - accuracy: 0.9817\n",
            "358/358 [==============================] - 3s 8ms/step - loss: 0.4064 - accuracy: 0.9031\n",
            "Epoch 1/10\n",
            "1430/1430 [==============================] - 69s 45ms/step - loss: 0.2837 - accuracy: 0.8771\n",
            "Epoch 2/10\n",
            "1430/1430 [==============================] - 65s 45ms/step - loss: 0.1918 - accuracy: 0.9228\n",
            "Epoch 3/10\n",
            "1430/1430 [==============================] - 63s 44ms/step - loss: 0.1586 - accuracy: 0.9365\n",
            "Epoch 4/10\n",
            "1430/1430 [==============================] - 64s 45ms/step - loss: 0.1336 - accuracy: 0.9480\n",
            "Epoch 5/10\n",
            "1430/1430 [==============================] - 64s 44ms/step - loss: 0.1134 - accuracy: 0.9552\n",
            "Epoch 6/10\n",
            "1430/1430 [==============================] - 64s 45ms/step - loss: 0.0956 - accuracy: 0.9628\n",
            "Epoch 7/10\n",
            "1430/1430 [==============================] - 64s 44ms/step - loss: 0.0805 - accuracy: 0.9688\n",
            "Epoch 8/10\n",
            "1430/1430 [==============================] - 60s 42ms/step - loss: 0.0659 - accuracy: 0.9757\n",
            "Epoch 9/10\n",
            "1430/1430 [==============================] - 63s 44ms/step - loss: 0.0561 - accuracy: 0.9794\n",
            "Epoch 10/10\n",
            "1430/1430 [==============================] - 62s 44ms/step - loss: 0.0462 - accuracy: 0.9834\n",
            "358/358 [==============================] - 3s 8ms/step - loss: 0.4297 - accuracy: 0.9026\n",
            "Epoch 1/10\n",
            "1430/1430 [==============================] - 68s 43ms/step - loss: 0.2829 - accuracy: 0.8767\n",
            "Epoch 2/10\n",
            "1430/1430 [==============================] - 61s 43ms/step - loss: 0.1889 - accuracy: 0.9243\n",
            "Epoch 3/10\n",
            "1430/1430 [==============================] - 63s 44ms/step - loss: 0.1571 - accuracy: 0.9377\n",
            "Epoch 4/10\n",
            "1430/1430 [==============================] - 61s 43ms/step - loss: 0.1355 - accuracy: 0.9469\n",
            "Epoch 5/10\n",
            "1430/1430 [==============================] - 61s 42ms/step - loss: 0.1133 - accuracy: 0.9554\n",
            "Epoch 6/10\n",
            "1430/1430 [==============================] - 61s 43ms/step - loss: 0.0964 - accuracy: 0.9633\n",
            "Epoch 7/10\n",
            "1430/1430 [==============================] - 61s 43ms/step - loss: 0.0818 - accuracy: 0.9688\n",
            "Epoch 8/10\n",
            "1430/1430 [==============================] - 61s 43ms/step - loss: 0.0683 - accuracy: 0.9746\n",
            "Epoch 9/10\n",
            "1430/1430 [==============================] - 62s 44ms/step - loss: 0.0555 - accuracy: 0.9798\n",
            "Epoch 10/10\n",
            "1430/1430 [==============================] - 62s 43ms/step - loss: 0.0476 - accuracy: 0.9825\n",
            "358/358 [==============================] - 3s 8ms/step - loss: 0.4283 - accuracy: 0.9024\n",
            "Epoch 1/10\n",
            "1430/1430 [==============================] - 66s 43ms/step - loss: 0.2802 - accuracy: 0.8772\n",
            "Epoch 2/10\n",
            "1430/1430 [==============================] - 61s 42ms/step - loss: 0.1848 - accuracy: 0.9258\n",
            "Epoch 3/10\n",
            "1430/1430 [==============================] - 61s 42ms/step - loss: 0.1543 - accuracy: 0.9388\n",
            "Epoch 4/10\n",
            "1430/1430 [==============================] - 61s 43ms/step - loss: 0.1282 - accuracy: 0.9494\n",
            "Epoch 5/10\n",
            "1430/1430 [==============================] - 61s 42ms/step - loss: 0.1083 - accuracy: 0.9570\n",
            "Epoch 6/10\n",
            "1430/1430 [==============================] - 61s 42ms/step - loss: 0.0916 - accuracy: 0.9646\n",
            "Epoch 7/10\n",
            "1430/1430 [==============================] - 61s 43ms/step - loss: 0.0771 - accuracy: 0.9697\n",
            "Epoch 8/10\n",
            "1430/1430 [==============================] - 61s 43ms/step - loss: 0.0621 - accuracy: 0.9760\n",
            "Epoch 9/10\n",
            "1430/1430 [==============================] - 61s 43ms/step - loss: 0.0521 - accuracy: 0.9801\n",
            "Epoch 10/10\n",
            "1430/1430 [==============================] - 61s 43ms/step - loss: 0.0430 - accuracy: 0.9831\n",
            "358/358 [==============================] - 3s 8ms/step - loss: 0.5281 - accuracy: 0.8918\n",
            "Epoch 1/10\n",
            "1430/1430 [==============================] - 70s 45ms/step - loss: 0.2802 - accuracy: 0.8774\n",
            "Epoch 2/10\n",
            "1430/1430 [==============================] - 64s 45ms/step - loss: 0.1884 - accuracy: 0.9249\n",
            "Epoch 3/10\n",
            "1430/1430 [==============================] - 64s 45ms/step - loss: 0.1571 - accuracy: 0.9370\n",
            "Epoch 4/10\n",
            "1430/1430 [==============================] - 65s 45ms/step - loss: 0.1334 - accuracy: 0.9466\n",
            "Epoch 5/10\n",
            "1430/1430 [==============================] - 65s 45ms/step - loss: 0.1117 - accuracy: 0.9560\n",
            "Epoch 6/10\n",
            "1430/1430 [==============================] - 65s 45ms/step - loss: 0.0945 - accuracy: 0.9640\n",
            "Epoch 7/10\n",
            "1430/1430 [==============================] - 64s 45ms/step - loss: 0.0808 - accuracy: 0.9684\n",
            "Epoch 8/10\n",
            "1430/1430 [==============================] - 64s 45ms/step - loss: 0.0665 - accuracy: 0.9746\n",
            "Epoch 9/10\n",
            "1430/1430 [==============================] - 63s 44ms/step - loss: 0.0558 - accuracy: 0.9786\n",
            "Epoch 10/10\n",
            "1430/1430 [==============================] - 63s 44ms/step - loss: 0.0449 - accuracy: 0.9836\n",
            "358/358 [==============================] - 3s 8ms/step - loss: 0.4414 - accuracy: 0.8983\n",
            "Epoch 1/5\n",
            "715/715 [==============================] - 36s 42ms/step - loss: 0.3006 - accuracy: 0.8674\n",
            "Epoch 2/5\n",
            "715/715 [==============================] - 31s 43ms/step - loss: 0.1986 - accuracy: 0.9193\n",
            "Epoch 3/5\n",
            "715/715 [==============================] - 31s 43ms/step - loss: 0.1670 - accuracy: 0.9338\n",
            "Epoch 4/5\n",
            "715/715 [==============================] - 31s 43ms/step - loss: 0.1432 - accuracy: 0.9438\n",
            "Epoch 5/5\n",
            "715/715 [==============================] - 31s 43ms/step - loss: 0.1233 - accuracy: 0.9520\n",
            "179/179 [==============================] - 2s 9ms/step - loss: 0.2586 - accuracy: 0.9098\n",
            "Epoch 1/5\n",
            "715/715 [==============================] - 36s 43ms/step - loss: 0.2975 - accuracy: 0.8693\n",
            "Epoch 2/5\n",
            "715/715 [==============================] - 30s 42ms/step - loss: 0.1932 - accuracy: 0.9218\n",
            "Epoch 3/5\n",
            "715/715 [==============================] - 30s 42ms/step - loss: 0.1632 - accuracy: 0.9364\n",
            "Epoch 4/5\n",
            "715/715 [==============================] - 31s 43ms/step - loss: 0.1429 - accuracy: 0.9433\n",
            "Epoch 5/5\n",
            "715/715 [==============================] - 30s 42ms/step - loss: 0.1237 - accuracy: 0.9513\n",
            "179/179 [==============================] - 2s 8ms/step - loss: 0.2707 - accuracy: 0.9098\n",
            "Epoch 1/5\n",
            "715/715 [==============================] - 35s 42ms/step - loss: 0.3085 - accuracy: 0.8626\n",
            "Epoch 2/5\n",
            "715/715 [==============================] - 30s 42ms/step - loss: 0.2001 - accuracy: 0.9191\n",
            "Epoch 3/5\n",
            "715/715 [==============================] - 30s 42ms/step - loss: 0.1704 - accuracy: 0.9331\n",
            "Epoch 4/5\n",
            "715/715 [==============================] - 30s 42ms/step - loss: 0.1475 - accuracy: 0.9416\n",
            "Epoch 5/5\n",
            "715/715 [==============================] - 30s 42ms/step - loss: 0.1283 - accuracy: 0.9502\n",
            "179/179 [==============================] - 2s 9ms/step - loss: 0.2587 - accuracy: 0.9065\n",
            "Epoch 1/5\n",
            "715/715 [==============================] - 37s 43ms/step - loss: 0.2930 - accuracy: 0.8706\n",
            "Epoch 2/5\n",
            "715/715 [==============================] - 31s 43ms/step - loss: 0.1915 - accuracy: 0.9234\n",
            "Epoch 3/5\n",
            "715/715 [==============================] - 31s 43ms/step - loss: 0.1628 - accuracy: 0.9356\n",
            "Epoch 4/5\n",
            "715/715 [==============================] - 31s 43ms/step - loss: 0.1420 - accuracy: 0.9450\n",
            "Epoch 5/5\n",
            "715/715 [==============================] - 31s 43ms/step - loss: 0.1222 - accuracy: 0.9529\n",
            "179/179 [==============================] - 2s 9ms/step - loss: 0.2764 - accuracy: 0.9039\n",
            "Epoch 1/5\n",
            "715/715 [==============================] - 36s 43ms/step - loss: 0.3050 - accuracy: 0.8634\n",
            "Epoch 2/5\n",
            "715/715 [==============================] - 31s 43ms/step - loss: 0.1951 - accuracy: 0.9225\n",
            "Epoch 3/5\n",
            "715/715 [==============================] - 31s 43ms/step - loss: 0.1655 - accuracy: 0.9345\n",
            "Epoch 4/5\n",
            "715/715 [==============================] - 31s 43ms/step - loss: 0.1419 - accuracy: 0.9450\n",
            "Epoch 5/5\n",
            "715/715 [==============================] - 31s 43ms/step - loss: 0.1243 - accuracy: 0.9510\n",
            "179/179 [==============================] - 2s 9ms/step - loss: 0.2543 - accuracy: 0.9060\n",
            "Epoch 1/10\n",
            "715/715 [==============================] - 35s 42ms/step - loss: 0.3034 - accuracy: 0.8657\n",
            "Epoch 2/10\n",
            "715/715 [==============================] - 30s 42ms/step - loss: 0.2004 - accuracy: 0.9190\n",
            "Epoch 3/10\n",
            "715/715 [==============================] - 30s 42ms/step - loss: 0.1679 - accuracy: 0.9339\n",
            "Epoch 4/10\n",
            "715/715 [==============================] - 30s 42ms/step - loss: 0.1455 - accuracy: 0.9431\n",
            "Epoch 5/10\n",
            "715/715 [==============================] - 30s 42ms/step - loss: 0.1259 - accuracy: 0.9514\n",
            "Epoch 6/10\n",
            "715/715 [==============================] - 30s 42ms/step - loss: 0.1097 - accuracy: 0.9581\n",
            "Epoch 7/10\n",
            "715/715 [==============================] - 30s 42ms/step - loss: 0.0945 - accuracy: 0.9641\n",
            "Epoch 8/10\n",
            "715/715 [==============================] - 30s 42ms/step - loss: 0.0825 - accuracy: 0.9693\n",
            "Epoch 9/10\n",
            "715/715 [==============================] - 30s 42ms/step - loss: 0.0739 - accuracy: 0.9728\n",
            "Epoch 10/10\n",
            "715/715 [==============================] - 30s 42ms/step - loss: 0.0618 - accuracy: 0.9777\n",
            "179/179 [==============================] - 2s 9ms/step - loss: 0.3968 - accuracy: 0.9035\n",
            "Epoch 1/10\n",
            "715/715 [==============================] - 38s 44ms/step - loss: 0.3007 - accuracy: 0.8681\n",
            "Epoch 2/10\n",
            "715/715 [==============================] - 31s 43ms/step - loss: 0.1973 - accuracy: 0.9213\n",
            "Epoch 3/10\n",
            "715/715 [==============================] - 31s 43ms/step - loss: 0.1671 - accuracy: 0.9341\n",
            "Epoch 4/10\n",
            "715/715 [==============================] - 31s 44ms/step - loss: 0.1431 - accuracy: 0.9431\n",
            "Epoch 5/10\n",
            "715/715 [==============================] - 31s 43ms/step - loss: 0.1233 - accuracy: 0.9519\n",
            "Epoch 6/10\n",
            "715/715 [==============================] - 31s 44ms/step - loss: 0.1068 - accuracy: 0.9583\n",
            "Epoch 7/10\n",
            "715/715 [==============================] - 31s 43ms/step - loss: 0.0917 - accuracy: 0.9643\n",
            "Epoch 8/10\n",
            "715/715 [==============================] - 31s 43ms/step - loss: 0.0794 - accuracy: 0.9699\n",
            "Epoch 9/10\n",
            "715/715 [==============================] - 31s 43ms/step - loss: 0.0684 - accuracy: 0.9740\n",
            "Epoch 10/10\n",
            "715/715 [==============================] - 31s 43ms/step - loss: 0.0606 - accuracy: 0.9768\n",
            "179/179 [==============================] - 2s 9ms/step - loss: 0.4041 - accuracy: 0.9022\n",
            "Epoch 1/10\n",
            "715/715 [==============================] - 36s 42ms/step - loss: 0.2988 - accuracy: 0.8643\n",
            "Epoch 2/10\n",
            "715/715 [==============================] - 30s 42ms/step - loss: 0.1936 - accuracy: 0.9222\n",
            "Epoch 3/10\n",
            "715/715 [==============================] - 31s 43ms/step - loss: 0.1656 - accuracy: 0.9351\n",
            "Epoch 4/10\n",
            "715/715 [==============================] - 30s 42ms/step - loss: 0.1457 - accuracy: 0.9433\n",
            "Epoch 5/10\n",
            "715/715 [==============================] - 30s 42ms/step - loss: 0.1260 - accuracy: 0.9508\n",
            "Epoch 6/10\n",
            "715/715 [==============================] - 30s 42ms/step - loss: 0.1088 - accuracy: 0.9573\n",
            "Epoch 7/10\n",
            "715/715 [==============================] - 30s 43ms/step - loss: 0.0949 - accuracy: 0.9642\n",
            "Epoch 8/10\n",
            "715/715 [==============================] - 31s 43ms/step - loss: 0.0846 - accuracy: 0.9683\n",
            "Epoch 9/10\n",
            "715/715 [==============================] - 31s 43ms/step - loss: 0.0715 - accuracy: 0.9735\n",
            "Epoch 10/10\n",
            "715/715 [==============================] - 30s 42ms/step - loss: 0.0629 - accuracy: 0.9769\n",
            "179/179 [==============================] - 2s 9ms/step - loss: 0.4056 - accuracy: 0.8985\n",
            "Epoch 1/10\n",
            "715/715 [==============================] - 36s 43ms/step - loss: 0.2955 - accuracy: 0.8696\n",
            "Epoch 2/10\n",
            "715/715 [==============================] - 31s 43ms/step - loss: 0.1932 - accuracy: 0.9228\n",
            "Epoch 3/10\n",
            "715/715 [==============================] - 31s 43ms/step - loss: 0.1620 - accuracy: 0.9361\n",
            "Epoch 4/10\n",
            "715/715 [==============================] - 31s 43ms/step - loss: 0.1418 - accuracy: 0.9441\n",
            "Epoch 5/10\n",
            "715/715 [==============================] - 31s 43ms/step - loss: 0.1206 - accuracy: 0.9528\n",
            "Epoch 6/10\n",
            "715/715 [==============================] - 31s 43ms/step - loss: 0.1059 - accuracy: 0.9589\n",
            "Epoch 7/10\n",
            "715/715 [==============================] - 31s 43ms/step - loss: 0.0907 - accuracy: 0.9641\n",
            "Epoch 8/10\n",
            "715/715 [==============================] - 30s 43ms/step - loss: 0.0786 - accuracy: 0.9700\n",
            "Epoch 9/10\n",
            "715/715 [==============================] - 31s 43ms/step - loss: 0.0679 - accuracy: 0.9734\n",
            "Epoch 10/10\n",
            "715/715 [==============================] - 31s 43ms/step - loss: 0.0572 - accuracy: 0.9787\n",
            "179/179 [==============================] - 2s 8ms/step - loss: 0.4790 - accuracy: 0.8949\n",
            "Epoch 1/10\n",
            "715/715 [==============================] - 38s 43ms/step - loss: 0.2990 - accuracy: 0.8660\n",
            "Epoch 2/10\n",
            "715/715 [==============================] - 31s 43ms/step - loss: 0.1924 - accuracy: 0.9223\n",
            "Epoch 3/10\n",
            "715/715 [==============================] - 31s 43ms/step - loss: 0.1627 - accuracy: 0.9355\n",
            "Epoch 4/10\n",
            "715/715 [==============================] - 31s 43ms/step - loss: 0.1414 - accuracy: 0.9445\n",
            "Epoch 5/10\n",
            "715/715 [==============================] - 31s 43ms/step - loss: 0.1231 - accuracy: 0.9513\n",
            "Epoch 6/10\n",
            "715/715 [==============================] - 31s 43ms/step - loss: 0.1074 - accuracy: 0.9583\n",
            "Epoch 7/10\n",
            "715/715 [==============================] - 31s 43ms/step - loss: 0.0916 - accuracy: 0.9652\n",
            "Epoch 8/10\n",
            "715/715 [==============================] - 31s 43ms/step - loss: 0.0793 - accuracy: 0.9708\n",
            "Epoch 9/10\n",
            "715/715 [==============================] - 31s 43ms/step - loss: 0.0689 - accuracy: 0.9738\n",
            "Epoch 10/10\n",
            "715/715 [==============================] - 31s 43ms/step - loss: 0.0584 - accuracy: 0.9786\n",
            "179/179 [==============================] - 2s 9ms/step - loss: 0.3816 - accuracy: 0.8974\n",
            "Epoch 1/5\n",
            "894/894 [==============================] - 43s 42ms/step - loss: 0.2896 - accuracy: 0.8725\n",
            "Epoch 2/5\n",
            "894/894 [==============================] - 38s 43ms/step - loss: 0.1951 - accuracy: 0.9215\n",
            "Epoch 3/5\n",
            "894/894 [==============================] - 38s 43ms/step - loss: 0.1703 - accuracy: 0.9329\n",
            "Epoch 4/5\n",
            "894/894 [==============================] - 38s 43ms/step - loss: 0.1505 - accuracy: 0.9410\n",
            "Epoch 5/5\n",
            "894/894 [==============================] - 38s 43ms/step - loss: 0.1318 - accuracy: 0.9489\n",
            "Parameters for Bidirectional LSTM:  {'batch_size': 64, 'epochs': 5}\n",
            "1787/1787 [==============================] - 15s 8ms/step\n",
            "447/447 [==============================] - 4s 8ms/step\n",
            "Bidirectional LSTM classification report:\n",
            "               precision    recall  f1-score   support\n",
            "\n",
            "           0       0.94      0.92      0.93      9377\n",
            "           1       0.86      0.88      0.87      4918\n",
            "\n",
            "    accuracy                           0.91     14295\n",
            "   macro avg       0.90      0.90      0.90     14295\n",
            "weighted avg       0.91      0.91      0.91     14295\n",
            "\n",
            "Bidirectional LSTM train accuracy: 0.9605799331922559\n",
            "Bidirectional LSTM test accuracy: 0.9096887023434768\n"
          ]
        }
      ],
      "source": [
        "model_bilstm = KerasClassifier(build_fn=create_model_bilstm)\n",
        "param_grid_bilstm = {'epochs': [5,10], 'batch_size': [32,64]}\n",
        "grid_bilstm = GridSearchCV(model_bilstm, param_grid_bilstm, cv=5)\n",
        "grid_bilstm.fit(X_train_pad, y_train_enc)\n",
        "print(\"Parameters for Bidirectional LSTM: \", grid_bilstm.best_params_)\n",
        "\n",
        "pred_train_bilstm = grid_bilstm.predict(X_train_pad)\n",
        "pred_test_bilstm = grid_bilstm.predict(X_test_pad)\n",
        "print(\"Bidirectional LSTM classification report:\\n\", classification_report(y_test_enc, pred_test_bilstm))\n",
        "\n",
        "train_score_bilstm = accuracy_score(pred_train_bilstm, y_train)\n",
        "test_score_bilstm = accuracy_score(pred_test_bilstm, y_test)\n",
        "\n",
        "print(\"Bidirectional LSTM train accuracy:\", train_score_bilstm)\n",
        "print(\"Bidirectional LSTM test accuracy:\", test_score_bilstm)"
      ]
    },
    {
      "cell_type": "code",
      "execution_count": null,
      "metadata": {
        "id": "OzhkAETzqEZK",
        "colab": {
          "base_uri": "https://localhost:8080/",
          "height": 472
        },
        "outputId": "d2ecd869-3f67-42fa-aae0-a3711894d475"
      },
      "outputs": [
        {
          "output_type": "display_data",
          "data": {
            "text/plain": [
              "<Figure size 640x480 with 2 Axes>"
            ],
            "image/png": "[encoded data removed]"
          },
          "metadata": {}
        }
      ],
      "source": [
        "# Confusion matrix for the test set predictions and true labels\n",
        "cm_bilstm = confusion_matrix(y_test, pred_test_bilstm)\n",
        "\n",
        "# Plot confusion matrix as heatmap\n",
        "sns.heatmap(cm_bilstm, annot=True, cmap='Blues', fmt='d')\n",
        "# The title, x-label, and y-label of the confusion matrix plot are set and the plot is displayed using plt.show()\n",
        "plt.title('Confusion matrix for Bidirectional LSTM')\n",
        "plt.xlabel('Predicted label')\n",
        "plt.ylabel('True label')\n",
        "plt.show()"
      ]
    },
    {
      "cell_type": "markdown",
      "metadata": {
        "id": "apBN2CBX1f7h"
      },
      "source": [
        "#### RNN"
      ]
    },
    {
      "cell_type": "code",
      "execution_count": null,
      "metadata": {
        "id": "WSVURGOi1gVO",
        "colab": {
          "base_uri": "https://localhost:8080/"
        },
        "outputId": "5b60b721-1887-4e58-bbe6-c2c0432b4bcf"
      },
      "outputs": [
        {
          "output_type": "stream",
          "name": "stdout",
          "text": [
            "Epoch 1/5\n"
          ]
        },
        {
          "output_type": "stream",
          "name": "stderr",
          "text": [
            "<ipython-input-34-5c64879932f1>:10: DeprecationWarning: KerasClassifier is deprecated, use Sci-Keras (https://github.com/adriangb/scikeras) instead. See https://www.adriangb.com/scikeras/stable/migration.html for help migrating.\n",
            "  model_rnn = KerasClassifier(build_fn=create_model_rnn)\n"
          ]
        },
        {
          "output_type": "stream",
          "name": "stdout",
          "text": [
            "1430/1430 [==============================] - 19s 12ms/step - loss: 0.6496 - accuracy: 0.6546\n",
            "Epoch 2/5\n",
            "1430/1430 [==============================] - 17s 12ms/step - loss: 0.6469 - accuracy: 0.6565\n",
            "Epoch 3/5\n",
            "1430/1430 [==============================] - 17s 12ms/step - loss: 0.6452 - accuracy: 0.6568\n",
            "Epoch 4/5\n",
            "1430/1430 [==============================] - 17s 12ms/step - loss: 0.6443 - accuracy: 0.6568\n",
            "Epoch 5/5\n",
            "1430/1430 [==============================] - 17s 12ms/step - loss: 0.6446 - accuracy: 0.6568\n",
            "358/358 [==============================] - 1s 3ms/step - loss: 0.6457 - accuracy: 0.6528\n",
            "Epoch 1/5\n",
            "1430/1430 [==============================] - 19s 12ms/step - loss: 0.6517 - accuracy: 0.6505\n",
            "Epoch 2/5\n",
            "1430/1430 [==============================] - 17s 12ms/step - loss: 0.6082 - accuracy: 0.6786\n",
            "Epoch 3/5\n",
            "1430/1430 [==============================] - 17s 12ms/step - loss: 0.5024 - accuracy: 0.7685\n",
            "Epoch 4/5\n",
            "1430/1430 [==============================] - 17s 12ms/step - loss: 0.4694 - accuracy: 0.7890\n",
            "Epoch 5/5\n",
            "1430/1430 [==============================] - 17s 12ms/step - loss: 0.4540 - accuracy: 0.7977\n",
            "358/358 [==============================] - 1s 3ms/step - loss: 0.4844 - accuracy: 0.7780\n",
            "Epoch 1/5\n",
            "1430/1430 [==============================] - 18s 12ms/step - loss: 0.5759 - accuracy: 0.7120\n",
            "Epoch 2/5\n",
            "1430/1430 [==============================] - 17s 12ms/step - loss: 0.4264 - accuracy: 0.8232\n",
            "Epoch 3/5\n",
            "1430/1430 [==============================] - 17s 12ms/step - loss: 0.3934 - accuracy: 0.8369\n",
            "Epoch 4/5\n",
            "1430/1430 [==============================] - 17s 12ms/step - loss: 0.4675 - accuracy: 0.7930\n",
            "Epoch 5/5\n",
            "1430/1430 [==============================] - 17s 12ms/step - loss: 0.4305 - accuracy: 0.8140\n",
            "358/358 [==============================] - 1s 3ms/step - loss: 0.4436 - accuracy: 0.8150\n",
            "Epoch 1/5\n",
            "1430/1430 [==============================] - 19s 12ms/step - loss: 0.6499 - accuracy: 0.6519\n",
            "Epoch 2/5\n",
            "1430/1430 [==============================] - 17s 12ms/step - loss: 0.6456 - accuracy: 0.6572\n",
            "Epoch 3/5\n",
            "1430/1430 [==============================] - 17s 12ms/step - loss: 0.6463 - accuracy: 0.6572\n",
            "Epoch 4/5\n",
            "1430/1430 [==============================] - 17s 12ms/step - loss: 0.6447 - accuracy: 0.6572\n",
            "Epoch 5/5\n",
            "1430/1430 [==============================] - 17s 12ms/step - loss: 0.6444 - accuracy: 0.6572\n",
            "358/358 [==============================] - 1s 3ms/step - loss: 0.6468 - accuracy: 0.6511\n",
            "Epoch 1/5\n",
            "1430/1430 [==============================] - 18s 12ms/step - loss: 0.6499 - accuracy: 0.6548\n",
            "Epoch 2/5\n",
            "1430/1430 [==============================] - 17s 12ms/step - loss: 0.5677 - accuracy: 0.7208\n",
            "Epoch 3/5\n",
            "1430/1430 [==============================] - 17s 12ms/step - loss: 0.4328 - accuracy: 0.8176\n",
            "Epoch 4/5\n",
            "1430/1430 [==============================] - 17s 12ms/step - loss: 0.4529 - accuracy: 0.8037\n",
            "Epoch 5/5\n",
            "1430/1430 [==============================] - 17s 12ms/step - loss: 0.4531 - accuracy: 0.8036\n",
            "358/358 [==============================] - 1s 3ms/step - loss: 0.4671 - accuracy: 0.8017\n",
            "Epoch 1/10\n",
            "1430/1430 [==============================] - 19s 12ms/step - loss: 0.6486 - accuracy: 0.6544\n",
            "Epoch 2/10\n",
            "1430/1430 [==============================] - 17s 12ms/step - loss: 0.6460 - accuracy: 0.6568\n",
            "Epoch 3/10\n",
            "1430/1430 [==============================] - 17s 12ms/step - loss: 0.6452 - accuracy: 0.6568\n",
            "Epoch 4/10\n",
            "1430/1430 [==============================] - 17s 12ms/step - loss: 0.6449 - accuracy: 0.6568\n",
            "Epoch 5/10\n",
            "1430/1430 [==============================] - 17s 12ms/step - loss: 0.6443 - accuracy: 0.6568\n",
            "Epoch 6/10\n",
            "1430/1430 [==============================] - 17s 12ms/step - loss: 0.6442 - accuracy: 0.6567\n",
            "Epoch 7/10\n",
            "1430/1430 [==============================] - 17s 12ms/step - loss: 0.6442 - accuracy: 0.6568\n",
            "Epoch 8/10\n",
            "1430/1430 [==============================] - 17s 12ms/step - loss: 0.6439 - accuracy: 0.6568\n",
            "Epoch 9/10\n",
            "1430/1430 [==============================] - 17s 12ms/step - loss: 0.6452 - accuracy: 0.6534\n",
            "Epoch 10/10\n",
            "1430/1430 [==============================] - 16s 12ms/step - loss: 0.6445 - accuracy: 0.6568\n",
            "358/358 [==============================] - 1s 3ms/step - loss: 0.6464 - accuracy: 0.6528\n",
            "Epoch 1/10\n",
            "1430/1430 [==============================] - 19s 12ms/step - loss: 0.6520 - accuracy: 0.6498\n",
            "Epoch 2/10\n",
            "1430/1430 [==============================] - 17s 12ms/step - loss: 0.6488 - accuracy: 0.6537\n",
            "Epoch 3/10\n",
            "1430/1430 [==============================] - 17s 12ms/step - loss: 0.6486 - accuracy: 0.6537\n",
            "Epoch 4/10\n",
            "1430/1430 [==============================] - 17s 12ms/step - loss: 0.6475 - accuracy: 0.6538\n",
            "Epoch 5/10\n",
            "1430/1430 [==============================] - 17s 12ms/step - loss: 0.6023 - accuracy: 0.6783\n",
            "Epoch 6/10\n",
            "1430/1430 [==============================] - 17s 12ms/step - loss: 0.4972 - accuracy: 0.7688\n",
            "Epoch 7/10\n",
            "1430/1430 [==============================] - 17s 12ms/step - loss: 0.4528 - accuracy: 0.7959\n",
            "Epoch 8/10\n",
            "1430/1430 [==============================] - 17s 12ms/step - loss: 0.4380 - accuracy: 0.8063\n",
            "Epoch 9/10\n",
            "1430/1430 [==============================] - 17s 12ms/step - loss: 0.4231 - accuracy: 0.8171\n",
            "Epoch 10/10\n",
            "1430/1430 [==============================] - 17s 12ms/step - loss: 0.4222 - accuracy: 0.8155\n",
            "358/358 [==============================] - 1s 3ms/step - loss: 0.4547 - accuracy: 0.7951\n",
            "Epoch 1/10\n",
            "1430/1430 [==============================] - 18s 12ms/step - loss: 0.6509 - accuracy: 0.6518\n",
            "Epoch 2/10\n",
            "1430/1430 [==============================] - 17s 12ms/step - loss: 0.6474 - accuracy: 0.6552\n",
            "Epoch 3/10\n",
            "1430/1430 [==============================] - 17s 12ms/step - loss: 0.6423 - accuracy: 0.6536\n",
            "Epoch 4/10\n",
            "1430/1430 [==============================] - 16s 12ms/step - loss: 0.6426 - accuracy: 0.6552\n",
            "Epoch 5/10\n",
            "1430/1430 [==============================] - 17s 12ms/step - loss: 0.6429 - accuracy: 0.6552\n",
            "Epoch 6/10\n",
            "1430/1430 [==============================] - 17s 12ms/step - loss: 0.6426 - accuracy: 0.6553\n",
            "Epoch 7/10\n",
            "1430/1430 [==============================] - 17s 12ms/step - loss: 0.6421 - accuracy: 0.6552\n",
            "Epoch 8/10\n",
            "1430/1430 [==============================] - 17s 12ms/step - loss: 0.6411 - accuracy: 0.6552\n",
            "Epoch 9/10\n",
            "1430/1430 [==============================] - 17s 12ms/step - loss: 0.6416 - accuracy: 0.6552\n",
            "Epoch 10/10\n",
            "1430/1430 [==============================] - 17s 12ms/step - loss: 0.6414 - accuracy: 0.6552\n",
            "358/358 [==============================] - 1s 3ms/step - loss: 0.6379 - accuracy: 0.6590\n",
            "Epoch 1/10\n",
            "1430/1430 [==============================] - 18s 12ms/step - loss: 0.6488 - accuracy: 0.6541\n",
            "Epoch 2/10\n",
            "1430/1430 [==============================] - 17s 12ms/step - loss: 0.6458 - accuracy: 0.6572\n",
            "Epoch 3/10\n",
            "1430/1430 [==============================] - 16s 12ms/step - loss: 0.6076 - accuracy: 0.6892\n",
            "Epoch 4/10\n",
            "1430/1430 [==============================] - 17s 12ms/step - loss: 0.5054 - accuracy: 0.7725\n",
            "Epoch 5/10\n",
            "1430/1430 [==============================] - 17s 12ms/step - loss: 0.4824 - accuracy: 0.7837\n",
            "Epoch 6/10\n",
            "1430/1430 [==============================] - 17s 12ms/step - loss: 0.4549 - accuracy: 0.8020\n",
            "Epoch 7/10\n",
            "1430/1430 [==============================] - 17s 12ms/step - loss: 0.4400 - accuracy: 0.8074\n",
            "Epoch 8/10\n",
            "1430/1430 [==============================] - 17s 12ms/step - loss: 0.4263 - accuracy: 0.8166\n",
            "Epoch 9/10\n",
            "1430/1430 [==============================] - 17s 12ms/step - loss: 0.4196 - accuracy: 0.8212\n",
            "Epoch 10/10\n",
            "1430/1430 [==============================] - 17s 12ms/step - loss: 0.4259 - accuracy: 0.8217\n",
            "358/358 [==============================] - 1s 3ms/step - loss: 0.4749 - accuracy: 0.7988\n",
            "Epoch 1/10\n",
            "1430/1430 [==============================] - 18s 12ms/step - loss: 0.5477 - accuracy: 0.7352\n",
            "Epoch 2/10\n",
            "1430/1430 [==============================] - 17s 12ms/step - loss: 0.3709 - accuracy: 0.8555\n",
            "Epoch 3/10\n",
            "1430/1430 [==============================] - 16s 11ms/step - loss: 0.4333 - accuracy: 0.8122\n",
            "Epoch 4/10\n",
            "1430/1430 [==============================] - 17s 12ms/step - loss: 0.3742 - accuracy: 0.8501\n",
            "Epoch 5/10\n",
            "1430/1430 [==============================] - 17s 12ms/step - loss: 0.3414 - accuracy: 0.8639\n",
            "Epoch 6/10\n",
            "1430/1430 [==============================] - 17s 12ms/step - loss: 0.3297 - accuracy: 0.8696\n",
            "Epoch 7/10\n",
            "1430/1430 [==============================] - 17s 12ms/step - loss: 0.3785 - accuracy: 0.8426\n",
            "Epoch 8/10\n",
            "1430/1430 [==============================] - 16s 11ms/step - loss: 0.3499 - accuracy: 0.8576\n",
            "Epoch 9/10\n",
            "1430/1430 [==============================] - 17s 12ms/step - loss: 0.3078 - accuracy: 0.8803\n",
            "Epoch 10/10\n",
            "1430/1430 [==============================] - 17s 12ms/step - loss: 0.3075 - accuracy: 0.8790\n",
            "358/358 [==============================] - 1s 3ms/step - loss: 0.3541 - accuracy: 0.8561\n",
            "Epoch 1/5\n",
            "715/715 [==============================] - 11s 14ms/step - loss: 0.6509 - accuracy: 0.6527\n",
            "Epoch 2/5\n",
            "715/715 [==============================] - 10s 14ms/step - loss: 0.6456 - accuracy: 0.6568\n",
            "Epoch 3/5\n",
            "715/715 [==============================] - 10s 14ms/step - loss: 0.6452 - accuracy: 0.6568\n",
            "Epoch 4/5\n",
            "715/715 [==============================] - 10s 14ms/step - loss: 0.5349 - accuracy: 0.7433\n",
            "Epoch 5/5\n",
            "715/715 [==============================] - 10s 14ms/step - loss: 0.5086 - accuracy: 0.7604\n",
            "179/179 [==============================] - 1s 4ms/step - loss: 0.4697 - accuracy: 0.7935\n",
            "Epoch 1/5\n",
            "715/715 [==============================] - 11s 14ms/step - loss: 0.6517 - accuracy: 0.6497\n",
            "Epoch 2/5\n",
            "715/715 [==============================] - 10s 14ms/step - loss: 0.6472 - accuracy: 0.6538\n",
            "Epoch 3/5\n",
            "715/715 [==============================] - 10s 14ms/step - loss: 0.6468 - accuracy: 0.6538\n",
            "Epoch 4/5\n",
            "715/715 [==============================] - 10s 14ms/step - loss: 0.6469 - accuracy: 0.6538\n",
            "Epoch 5/5\n",
            "715/715 [==============================] - 10s 14ms/step - loss: 0.6446 - accuracy: 0.6549\n",
            "179/179 [==============================] - 1s 4ms/step - loss: 0.5771 - accuracy: 0.7019\n",
            "Epoch 1/5\n",
            "715/715 [==============================] - 11s 14ms/step - loss: 0.5396 - accuracy: 0.7355\n",
            "Epoch 2/5\n",
            "715/715 [==============================] - 10s 14ms/step - loss: 0.3587 - accuracy: 0.8663\n",
            "Epoch 3/5\n",
            "715/715 [==============================] - 10s 14ms/step - loss: 0.3177 - accuracy: 0.8876\n",
            "Epoch 4/5\n",
            "715/715 [==============================] - 10s 14ms/step - loss: 0.2963 - accuracy: 0.8944\n",
            "Epoch 5/5\n",
            "715/715 [==============================] - 10s 14ms/step - loss: 0.3945 - accuracy: 0.8290\n",
            "179/179 [==============================] - 1s 4ms/step - loss: 0.4635 - accuracy: 0.8002\n",
            "Epoch 1/5\n",
            "715/715 [==============================] - 11s 14ms/step - loss: 0.6504 - accuracy: 0.6514\n",
            "Epoch 2/5\n",
            "715/715 [==============================] - 10s 14ms/step - loss: 0.6456 - accuracy: 0.6572\n",
            "Epoch 3/5\n",
            "715/715 [==============================] - 10s 14ms/step - loss: 0.5980 - accuracy: 0.6903\n",
            "Epoch 4/5\n",
            "715/715 [==============================] - 10s 14ms/step - loss: 0.4426 - accuracy: 0.8128\n",
            "Epoch 5/5\n",
            "715/715 [==============================] - 10s 14ms/step - loss: 0.4112 - accuracy: 0.8237\n",
            "179/179 [==============================] - 1s 4ms/step - loss: 0.4122 - accuracy: 0.8262\n",
            "Epoch 1/5\n",
            "715/715 [==============================] - 11s 14ms/step - loss: 0.6505 - accuracy: 0.6531\n",
            "Epoch 2/5\n",
            "715/715 [==============================] - 10s 14ms/step - loss: 0.6452 - accuracy: 0.6569\n",
            "Epoch 3/5\n",
            "715/715 [==============================] - 10s 14ms/step - loss: 0.6454 - accuracy: 0.6569\n",
            "Epoch 4/5\n",
            "715/715 [==============================] - 10s 14ms/step - loss: 0.6454 - accuracy: 0.6569\n",
            "Epoch 5/5\n",
            "715/715 [==============================] - 10s 14ms/step - loss: 0.6448 - accuracy: 0.6569\n",
            "179/179 [==============================] - 1s 4ms/step - loss: 0.6472 - accuracy: 0.6523\n",
            "Epoch 1/10\n",
            "715/715 [==============================] - 11s 14ms/step - loss: 0.5986 - accuracy: 0.6928\n",
            "Epoch 2/10\n",
            "715/715 [==============================] - 10s 14ms/step - loss: 0.3788 - accuracy: 0.8533\n",
            "Epoch 3/10\n",
            "715/715 [==============================] - 10s 14ms/step - loss: 0.3227 - accuracy: 0.8802\n",
            "Epoch 4/10\n",
            "715/715 [==============================] - 10s 14ms/step - loss: 0.3006 - accuracy: 0.8899\n",
            "Epoch 5/10\n",
            "715/715 [==============================] - 10s 14ms/step - loss: 0.3364 - accuracy: 0.8699\n",
            "Epoch 6/10\n",
            "715/715 [==============================] - 10s 14ms/step - loss: 0.2884 - accuracy: 0.8981\n",
            "Epoch 7/10\n",
            "715/715 [==============================] - 10s 14ms/step - loss: 0.2669 - accuracy: 0.9039\n",
            "Epoch 8/10\n",
            "715/715 [==============================] - 10s 14ms/step - loss: 0.2880 - accuracy: 0.8960\n",
            "Epoch 9/10\n",
            "715/715 [==============================] - 10s 14ms/step - loss: 0.2505 - accuracy: 0.9117\n",
            "Epoch 10/10\n",
            "715/715 [==============================] - 10s 14ms/step - loss: 0.2350 - accuracy: 0.9156\n",
            "179/179 [==============================] - 1s 4ms/step - loss: 0.3038 - accuracy: 0.8931\n",
            "Epoch 1/10\n",
            "715/715 [==============================] - 11s 14ms/step - loss: 0.6525 - accuracy: 0.6501\n",
            "Epoch 2/10\n",
            "715/715 [==============================] - 10s 14ms/step - loss: 0.4708 - accuracy: 0.7907\n",
            "Epoch 3/10\n",
            "715/715 [==============================] - 10s 14ms/step - loss: 0.3583 - accuracy: 0.8629\n",
            "Epoch 4/10\n",
            "715/715 [==============================] - 10s 14ms/step - loss: 0.3409 - accuracy: 0.8726\n",
            "Epoch 5/10\n",
            "715/715 [==============================] - 10s 14ms/step - loss: 0.3111 - accuracy: 0.8842\n",
            "Epoch 6/10\n",
            "715/715 [==============================] - 10s 14ms/step - loss: 0.2909 - accuracy: 0.8915\n",
            "Epoch 7/10\n",
            "715/715 [==============================] - 10s 14ms/step - loss: 0.3434 - accuracy: 0.8558\n",
            "Epoch 8/10\n",
            "715/715 [==============================] - 10s 13ms/step - loss: 0.4551 - accuracy: 0.8006\n",
            "Epoch 9/10\n",
            "715/715 [==============================] - 10s 14ms/step - loss: 0.4290 - accuracy: 0.8189\n",
            "Epoch 10/10\n",
            "715/715 [==============================] - 10s 14ms/step - loss: 0.4058 - accuracy: 0.8330\n",
            "179/179 [==============================] - 1s 4ms/step - loss: 0.4317 - accuracy: 0.8140\n",
            "Epoch 1/10\n",
            "715/715 [==============================] - 12s 14ms/step - loss: 0.6505 - accuracy: 0.6509\n",
            "Epoch 2/10\n",
            "715/715 [==============================] - 10s 14ms/step - loss: 0.5618 - accuracy: 0.7218\n",
            "Epoch 3/10\n",
            "715/715 [==============================] - 10s 14ms/step - loss: 0.4309 - accuracy: 0.8220\n",
            "Epoch 4/10\n",
            "715/715 [==============================] - 10s 14ms/step - loss: 0.4261 - accuracy: 0.8204\n",
            "Epoch 5/10\n",
            "715/715 [==============================] - 10s 14ms/step - loss: 0.4152 - accuracy: 0.8259\n",
            "Epoch 6/10\n",
            "715/715 [==============================] - 10s 14ms/step - loss: 0.3874 - accuracy: 0.8428\n",
            "Epoch 7/10\n",
            "715/715 [==============================] - 10s 14ms/step - loss: 0.3884 - accuracy: 0.8404\n",
            "Epoch 8/10\n",
            "715/715 [==============================] - 10s 14ms/step - loss: 0.4034 - accuracy: 0.8375\n",
            "Epoch 9/10\n",
            "715/715 [==============================] - 10s 14ms/step - loss: 0.4017 - accuracy: 0.8368\n",
            "Epoch 10/10\n",
            "715/715 [==============================] - 10s 14ms/step - loss: 0.3964 - accuracy: 0.8384\n",
            "179/179 [==============================] - 1s 4ms/step - loss: 0.4543 - accuracy: 0.8149\n",
            "Epoch 1/10\n",
            "715/715 [==============================] - 12s 14ms/step - loss: 0.6503 - accuracy: 0.6530\n",
            "Epoch 2/10\n",
            "715/715 [==============================] - 10s 14ms/step - loss: 0.5041 - accuracy: 0.7651\n",
            "Epoch 3/10\n",
            "715/715 [==============================] - 10s 14ms/step - loss: 0.3791 - accuracy: 0.8490\n",
            "Epoch 4/10\n",
            "715/715 [==============================] - 10s 14ms/step - loss: 0.3537 - accuracy: 0.8635\n",
            "Epoch 5/10\n",
            "715/715 [==============================] - 10s 14ms/step - loss: 0.3402 - accuracy: 0.8684\n",
            "Epoch 6/10\n",
            "715/715 [==============================] - 10s 14ms/step - loss: 0.4196 - accuracy: 0.8140\n",
            "Epoch 7/10\n",
            "715/715 [==============================] - 10s 14ms/step - loss: 0.4558 - accuracy: 0.7973\n",
            "Epoch 8/10\n",
            "715/715 [==============================] - 10s 14ms/step - loss: 0.4320 - accuracy: 0.8134\n",
            "Epoch 9/10\n",
            "715/715 [==============================] - 10s 14ms/step - loss: 0.4138 - accuracy: 0.8266\n",
            "Epoch 10/10\n",
            "715/715 [==============================] - 10s 14ms/step - loss: 0.4030 - accuracy: 0.8332\n",
            "179/179 [==============================] - 1s 4ms/step - loss: 0.4473 - accuracy: 0.8030\n",
            "Epoch 1/10\n",
            "715/715 [==============================] - 11s 14ms/step - loss: 0.6503 - accuracy: 0.6514\n",
            "Epoch 2/10\n",
            "715/715 [==============================] - 10s 14ms/step - loss: 0.6455 - accuracy: 0.6569\n",
            "Epoch 3/10\n",
            "715/715 [==============================] - 10s 14ms/step - loss: 0.4865 - accuracy: 0.7820\n",
            "Epoch 4/10\n",
            "715/715 [==============================] - 10s 14ms/step - loss: 0.3896 - accuracy: 0.8445\n",
            "Epoch 5/10\n",
            "715/715 [==============================] - 10s 14ms/step - loss: 0.3476 - accuracy: 0.8640\n",
            "Epoch 6/10\n",
            "715/715 [==============================] - 10s 14ms/step - loss: 0.3354 - accuracy: 0.8708\n",
            "Epoch 7/10\n",
            "715/715 [==============================] - 10s 14ms/step - loss: 0.3172 - accuracy: 0.8788\n",
            "Epoch 8/10\n",
            "715/715 [==============================] - 10s 14ms/step - loss: 0.3035 - accuracy: 0.8858\n",
            "Epoch 9/10\n",
            "715/715 [==============================] - 10s 14ms/step - loss: 0.2855 - accuracy: 0.8943\n",
            "Epoch 10/10\n",
            "715/715 [==============================] - 10s 14ms/step - loss: 0.2963 - accuracy: 0.8860\n",
            "179/179 [==============================] - 1s 4ms/step - loss: 0.3367 - accuracy: 0.8713\n",
            "Epoch 1/10\n",
            "894/894 [==============================] - 14s 14ms/step - loss: 0.6509 - accuracy: 0.6510\n",
            "Epoch 2/10\n",
            "894/894 [==============================] - 13s 14ms/step - loss: 0.5369 - accuracy: 0.7440\n",
            "Epoch 3/10\n",
            "894/894 [==============================] - 13s 14ms/step - loss: 0.4312 - accuracy: 0.8200\n",
            "Epoch 4/10\n",
            "894/894 [==============================] - 13s 14ms/step - loss: 0.4079 - accuracy: 0.8315\n",
            "Epoch 5/10\n",
            "894/894 [==============================] - 12s 14ms/step - loss: 0.4004 - accuracy: 0.8360\n",
            "Epoch 6/10\n",
            "894/894 [==============================] - 13s 14ms/step - loss: 0.3822 - accuracy: 0.8464\n",
            "Epoch 7/10\n",
            "894/894 [==============================] - 13s 14ms/step - loss: 0.3724 - accuracy: 0.8493\n",
            "Epoch 8/10\n",
            "894/894 [==============================] - 13s 14ms/step - loss: 0.3616 - accuracy: 0.8530\n",
            "Epoch 9/10\n",
            "894/894 [==============================] - 13s 14ms/step - loss: 0.3765 - accuracy: 0.8445\n",
            "Epoch 10/10\n",
            "894/894 [==============================] - 13s 14ms/step - loss: 0.4024 - accuracy: 0.8261\n",
            "Parameters for RNN:  {'batch_size': 64, 'epochs': 10}\n",
            "447/447 [==============================] - 1s 3ms/step\n",
            "RNN classification report:\n",
            "               precision    recall  f1-score   support\n",
            "\n",
            "           0       0.86      0.86      0.86      9377\n",
            "           1       0.73      0.73      0.73      4918\n",
            "\n",
            "    accuracy                           0.82     14295\n",
            "   macro avg       0.80      0.79      0.80     14295\n",
            "weighted avg       0.82      0.82      0.82     14295\n",
            "\n"
          ]
        }
      ],
      "source": [
        "# RNN\n",
        "def create_model_rnn():\n",
        "    model = Sequential()\n",
        "    model.add(Embedding(max_words, 64, input_length=max_len))\n",
        "    model.add(SimpleRNN(64, dropout=0.2, recurrent_dropout=0.2))\n",
        "    model.add(Dense(1, activation='sigmoid'))\n",
        "    model.compile(loss='binary_crossentropy', optimizer='adam', metrics=['accuracy'])\n",
        "    return model\n",
        "\n",
        "model_rnn = KerasClassifier(build_fn=create_model_rnn)\n",
        "param_grid_rnn = {'epochs': [5,10], 'batch_size': [32,64]}\n",
        "grid_rnn = GridSearchCV(model_rnn, param_grid_rnn, cv=5)\n",
        "grid_rnn.fit(X_train_pad, y_train_enc)\n",
        "print(\"Parameters for RNN: \", grid_rnn.best_params_)\n",
        "pred_rnn = grid_rnn.predict(X_test_pad)\n",
        "print(\"RNN classification report:\\n\", classification_report(y_test_enc, pred_rnn))"
      ]
    },
    {
      "cell_type": "code",
      "execution_count": null,
      "metadata": {
        "id": "OJx2DfLoxZeJ",
        "colab": {
          "base_uri": "https://localhost:8080/"
        },
        "outputId": "6d4c0256-eabd-441c-bd8a-edbd7a44c261"
      },
      "outputs": [
        {
          "output_type": "stream",
          "name": "stdout",
          "text": [
            "1787/1787 [==============================] - 5s 3ms/step\n",
            "447/447 [==============================] - 1s 3ms/step\n",
            "RNN train accuracy: 0.8484408611553192\n",
            "RNN test accuracy: 0.8156698146204967\n"
          ]
        }
      ],
      "source": [
        "pred_train_rnn = grid_rnn.predict(X_train_pad)\n",
        "pred_test_rnn = grid_rnn.predict(X_test_pad)\n",
        "\n",
        "train_score_rnn = accuracy_score(pred_train_rnn, y_train)\n",
        "test_score_rnn = accuracy_score(pred_test_rnn, y_test)\n",
        "\n",
        "print(\"RNN train accuracy:\", train_score_rnn)\n",
        "print(\"RNN test accuracy:\", test_score_rnn)"
      ]
    },
    {
      "cell_type": "code",
      "execution_count": null,
      "metadata": {
        "id": "Sl_xPjAdqRiD",
        "colab": {
          "base_uri": "https://localhost:8080/",
          "height": 472
        },
        "outputId": "1fc120d5-80b2-44e5-bd8c-bed495c83d17"
      },
      "outputs": [
        {
          "output_type": "display_data",
          "data": {
            "text/plain": [
              "<Figure size 640x480 with 2 Axes>"
            ],
            "image/png": "[encoded data removed]"
          },
          "metadata": {}
        }
      ],
      "source": [
        "# Confusion matrix for the test set predictions and true labels\n",
        "cm_rnn = confusion_matrix(y_test, pred_test_rnn)\n",
        "\n",
        "# Plot confusion matrix as heatmap\n",
        "sns.heatmap(cm_rnn, annot=True, cmap='Blues', fmt='d')\n",
        "# The title, x-label, and y-label of the confusion matrix plot are set and the plot is displayed using plt.show()\n",
        "plt.title('Confusion matrix for RNN')\n",
        "plt.xlabel('Predicted label')\n",
        "plt.ylabel('True label')\n",
        "plt.show()"
      ]
    },
    {
      "cell_type": "code",
      "execution_count": null,
      "metadata": {
        "id": "9kzSDvl_pxCb"
      },
      "outputs": [],
      "source": []
    }
  ],
  "metadata": {
    "accelerator": "TPU",
    "colab": {
      "machine_shape": "hm",
      "provenance": [],
      "gpuClass": "premium",
      "gpuType": "T4"
    },
    "gpuClass": "premium",
    "kernelspec": {
      "display_name": "Python 3",
      "name": "python3"
    },
    "language_info": {
      "name": "python"
    }
  },
  "nbformat": 4,
  "nbformat_minor": 0
}